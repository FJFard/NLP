{
 "cells": [
  {
   "cell_type": "markdown",
   "metadata": {},
   "source": [
    "# A Kaggle competition"
   ]
  },
  {
   "cell_type": "markdown",
   "metadata": {},
   "source": [
    " https://www.kaggle.com/c/nlp-getting-started/overview"
   ]
  },
  {
   "cell_type": "markdown",
   "metadata": {},
   "source": [
    "## 0. Setup"
   ]
  },
  {
   "cell_type": "code",
   "execution_count": 1,
   "metadata": {
    "ExecuteTime": {
     "end_time": "2021-04-25T23:03:55.649524Z",
     "start_time": "2021-04-25T23:03:53.625345Z"
    }
   },
   "outputs": [],
   "source": [
    "import numpy as np\n",
    "import pandas as pd\n",
    "from matplotlib import pyplot as plt\n",
    "import seaborn as sns\n",
    "\n",
    "from IPython.display import clear_output"
   ]
  },
  {
   "cell_type": "code",
   "execution_count": 2,
   "metadata": {
    "ExecuteTime": {
     "end_time": "2021-04-25T23:03:55.711256Z",
     "start_time": "2021-04-25T23:03:55.655342Z"
    }
   },
   "outputs": [],
   "source": [
    "train_df = pd.read_csv('./data/train.csv')"
   ]
  },
  {
   "cell_type": "markdown",
   "metadata": {},
   "source": [
    "## 1. Loading & Exploring the dataset"
   ]
  },
  {
   "cell_type": "code",
   "execution_count": 3,
   "metadata": {
    "ExecuteTime": {
     "end_time": "2021-04-25T23:03:55.742162Z",
     "start_time": "2021-04-25T23:03:55.713239Z"
    }
   },
   "outputs": [
    {
     "data": {
      "text/html": [
       "<div>\n",
       "<style scoped>\n",
       "    .dataframe tbody tr th:only-of-type {\n",
       "        vertical-align: middle;\n",
       "    }\n",
       "\n",
       "    .dataframe tbody tr th {\n",
       "        vertical-align: top;\n",
       "    }\n",
       "\n",
       "    .dataframe thead th {\n",
       "        text-align: right;\n",
       "    }\n",
       "</style>\n",
       "<table border=\"1\" class=\"dataframe\">\n",
       "  <thead>\n",
       "    <tr style=\"text-align: right;\">\n",
       "      <th></th>\n",
       "      <th>id</th>\n",
       "      <th>keyword</th>\n",
       "      <th>location</th>\n",
       "      <th>text</th>\n",
       "      <th>target</th>\n",
       "    </tr>\n",
       "  </thead>\n",
       "  <tbody>\n",
       "    <tr>\n",
       "      <th>0</th>\n",
       "      <td>1</td>\n",
       "      <td>NaN</td>\n",
       "      <td>NaN</td>\n",
       "      <td>Our Deeds are the Reason of this #earthquake M...</td>\n",
       "      <td>1</td>\n",
       "    </tr>\n",
       "    <tr>\n",
       "      <th>1</th>\n",
       "      <td>4</td>\n",
       "      <td>NaN</td>\n",
       "      <td>NaN</td>\n",
       "      <td>Forest fire near La Ronge Sask. Canada</td>\n",
       "      <td>1</td>\n",
       "    </tr>\n",
       "    <tr>\n",
       "      <th>2</th>\n",
       "      <td>5</td>\n",
       "      <td>NaN</td>\n",
       "      <td>NaN</td>\n",
       "      <td>All residents asked to 'shelter in place' are ...</td>\n",
       "      <td>1</td>\n",
       "    </tr>\n",
       "    <tr>\n",
       "      <th>3</th>\n",
       "      <td>6</td>\n",
       "      <td>NaN</td>\n",
       "      <td>NaN</td>\n",
       "      <td>13,000 people receive #wildfires evacuation or...</td>\n",
       "      <td>1</td>\n",
       "    </tr>\n",
       "    <tr>\n",
       "      <th>4</th>\n",
       "      <td>7</td>\n",
       "      <td>NaN</td>\n",
       "      <td>NaN</td>\n",
       "      <td>Just got sent this photo from Ruby #Alaska as ...</td>\n",
       "      <td>1</td>\n",
       "    </tr>\n",
       "  </tbody>\n",
       "</table>\n",
       "</div>"
      ],
      "text/plain": [
       "   id keyword location                                               text  \\\n",
       "0   1     NaN      NaN  Our Deeds are the Reason of this #earthquake M...   \n",
       "1   4     NaN      NaN             Forest fire near La Ronge Sask. Canada   \n",
       "2   5     NaN      NaN  All residents asked to 'shelter in place' are ...   \n",
       "3   6     NaN      NaN  13,000 people receive #wildfires evacuation or...   \n",
       "4   7     NaN      NaN  Just got sent this photo from Ruby #Alaska as ...   \n",
       "\n",
       "   target  \n",
       "0       1  \n",
       "1       1  \n",
       "2       1  \n",
       "3       1  \n",
       "4       1  "
      ]
     },
     "execution_count": 3,
     "metadata": {},
     "output_type": "execute_result"
    }
   ],
   "source": [
    "train_df.head()"
   ]
  },
  {
   "cell_type": "markdown",
   "metadata": {},
   "source": [
    "### columns:\n",
    "\n",
    "* id - a unique identifier for each tweet\n",
    "* keyword - a particular keyword from the tweet (may be blank)\n",
    "* location - the location the tweet was sent from (may be blank)\n",
    "* text - the text of the tweet\n",
    "* target - in train.csv only, this denotes whether a tweet is about a real disaster (1) or not (0)"
   ]
  },
  {
   "cell_type": "code",
   "execution_count": 4,
   "metadata": {
    "ExecuteTime": {
     "end_time": "2021-04-25T23:03:55.774107Z",
     "start_time": "2021-04-25T23:03:55.745156Z"
    }
   },
   "outputs": [
    {
     "name": "stdout",
     "output_type": "stream",
     "text": [
      "<class 'pandas.core.frame.DataFrame'>\n",
      "RangeIndex: 7613 entries, 0 to 7612\n",
      "Data columns (total 5 columns):\n",
      " #   Column    Non-Null Count  Dtype \n",
      "---  ------    --------------  ----- \n",
      " 0   id        7613 non-null   int64 \n",
      " 1   keyword   7552 non-null   object\n",
      " 2   location  5080 non-null   object\n",
      " 3   text      7613 non-null   object\n",
      " 4   target    7613 non-null   int64 \n",
      "dtypes: int64(2), object(3)\n",
      "memory usage: 297.5+ KB\n"
     ]
    }
   ],
   "source": [
    "train_df.info()"
   ]
  },
  {
   "cell_type": "markdown",
   "metadata": {},
   "source": [
    "There are **7613** tweets. There are some Null values in 'keyword' and 'locations' columns. "
   ]
  },
  {
   "cell_type": "code",
   "execution_count": 5,
   "metadata": {
    "ExecuteTime": {
     "end_time": "2021-04-25T23:03:55.790034Z",
     "start_time": "2021-04-25T23:03:55.779062Z"
    }
   },
   "outputs": [
    {
     "data": {
      "text/plain": [
       "0    4342\n",
       "1    3271\n",
       "Name: target, dtype: int64"
      ]
     },
     "execution_count": 5,
     "metadata": {},
     "output_type": "execute_result"
    }
   ],
   "source": [
    "# two approches to count the number of instances in each class\n",
    "# train_df.groupby('target').text.count()\n",
    "#fig = px.pie(data_frame=train_df, names='target', title='Distribution of Real vs Not-Real Disaster Tweets')\n",
    "#fig.show()\n",
    "train_df.target.value_counts()"
   ]
  },
  {
   "cell_type": "markdown",
   "metadata": {},
   "source": [
    "**4342** of tweets are not about real disasters and **3271** are about real disasters."
   ]
  },
  {
   "cell_type": "code",
   "execution_count": 6,
   "metadata": {
    "ExecuteTime": {
     "end_time": "2021-04-25T23:03:55.805991Z",
     "start_time": "2021-04-25T23:03:55.793027Z"
    }
   },
   "outputs": [],
   "source": [
    "def display_pie_target(df, title=None):\n",
    "    \"\"\"Display a pie chart based on target column.\n",
    "    Input: \n",
    "        df: a datafram with a target column (0 and 1 values)\n",
    "        title: str\n",
    "    Output:\n",
    "        Display a pie chart\n",
    "    \"\"\"  \n",
    "    sizes = np.array(df.target.value_counts()) # sizes for each slice\n",
    "    labels = 'Non-Disaster', 'Disaster' # labels for classes    \n",
    "    plt.pie(sizes, labels = labels, autopct='%1.1f%%') # declare the pie chart\n",
    "    plt.title(title) # display the title    \n",
    "    plt.show() # display the chart    "
   ]
  },
  {
   "cell_type": "code",
   "execution_count": 7,
   "metadata": {
    "ExecuteTime": {
     "end_time": "2021-04-25T23:03:55.933770Z",
     "start_time": "2021-04-25T23:03:55.812973Z"
    }
   },
   "outputs": [
    {
     "data": {
      "image/png": "[encoded data removed]",
      "text/plain": [
       "<Figure size 432x288 with 1 Axes>"
      ]
     },
     "metadata": {},
     "output_type": "display_data"
    }
   ],
   "source": [
    "display_pie_target(train_df, 'training set')"
   ]
  },
  {
   "cell_type": "code",
   "execution_count": 8,
   "metadata": {
    "ExecuteTime": {
     "end_time": "2021-04-25T23:03:56.167149Z",
     "start_time": "2021-04-25T23:03:55.937760Z"
    }
   },
   "outputs": [
    {
     "name": "stdout",
     "output_type": "stream",
     "text": [
      "221 is the number of unique values in keyword\n"
     ]
    },
    {
     "data": {
      "image/png": "[encoded data removed]",
      "text/plain": [
       "<Figure size 432x288 with 1 Axes>"
      ]
     },
     "metadata": {},
     "output_type": "display_data"
    },
    {
     "name": "stdout",
     "output_type": "stream",
     "text": [
      "3341 is the number of unique values in location\n"
     ]
    },
    {
     "data": {
      "image/png": "[encoded data removed]",
      "text/plain": [
       "<Figure size 432x288 with 1 Axes>"
      ]
     },
     "metadata": {},
     "output_type": "display_data"
    },
    {
     "name": "stdout",
     "output_type": "stream",
     "text": [
      "7503 is the number of unique values in text\n"
     ]
    },
    {
     "data": {
      "image/png": "[encoded data removed]",
      "text/plain": [
       "<Figure size 432x288 with 1 Axes>"
      ]
     },
     "metadata": {},
     "output_type": "display_data"
    }
   ],
   "source": [
    "for col in train_df.columns[1:-1]:\n",
    "    \n",
    "    # dataset of rows that column is not null \n",
    "    df_notnull = train_df[train_df[col].notnull()] \n",
    "    print(len(pd.unique(df_notnull[col])), 'is the number of unique values in' , col)\n",
    "    display_pie_target(df_notnull, col)"
   ]
  },
  {
   "cell_type": "code",
   "execution_count": 9,
   "metadata": {
    "ExecuteTime": {
     "end_time": "2021-04-25T23:03:56.199060Z",
     "start_time": "2021-04-25T23:03:56.170139Z"
    }
   },
   "outputs": [
    {
     "data": {
      "text/plain": [
       "0    4305\n",
       "1    3198\n",
       "Name: target, dtype: int64"
      ]
     },
     "execution_count": 9,
     "metadata": {},
     "output_type": "execute_result"
    }
   ],
   "source": [
    "train_df.drop_duplicates(subset=['text'])['target'].value_counts()"
   ]
  },
  {
   "cell_type": "code",
   "execution_count": 10,
   "metadata": {
    "ExecuteTime": {
     "end_time": "2021-04-25T23:03:56.294807Z",
     "start_time": "2021-04-25T23:03:56.201056Z"
    }
   },
   "outputs": [
    {
     "data": {
      "image/png": "[encoded data removed]",
      "text/plain": [
       "<Figure size 432x288 with 1 Axes>"
      ]
     },
     "metadata": {},
     "output_type": "display_data"
    }
   ],
   "source": [
    "display_pie_target(train_df.drop_duplicates(subset=['text']),'No dupication in texts')"
   ]
  },
  {
   "cell_type": "code",
   "execution_count": 11,
   "metadata": {
    "ExecuteTime": {
     "end_time": "2021-04-25T23:03:56.310762Z",
     "start_time": "2021-04-25T23:03:56.298796Z"
    }
   },
   "outputs": [],
   "source": [
    "pd.set_option('display.max_colwidth', -1)\n",
    "pd.set_option('display.max_rows', 100)\n",
    "clear_output()"
   ]
  },
  {
   "cell_type": "code",
   "execution_count": 12,
   "metadata": {
    "ExecuteTime": {
     "end_time": "2021-04-25T23:03:56.356639Z",
     "start_time": "2021-04-25T23:03:56.313755Z"
    }
   },
   "outputs": [
    {
     "name": "stdout",
     "output_type": "stream",
     "text": [
      "Dataset had 7613 rows.\n",
      "52 duplicated rows are removed (only the first one is kept).\n"
     ]
    }
   ],
   "source": [
    "x = len(train_df)\n",
    "print('Dataset had {} rows.'.format(x))\n",
    "train_df.drop_duplicates(subset=['keyword', 'location', 'text', 'target'], keep='first', inplace=True, ignore_index=True)\n",
    "print('{} duplicated rows are removed (only the first one is kept).'.format(x - len(train_df)))"
   ]
  },
  {
   "cell_type": "code",
   "execution_count": 13,
   "metadata": {
    "ExecuteTime": {
     "end_time": "2021-04-25T23:03:56.404513Z",
     "start_time": "2021-04-25T23:03:56.359632Z"
    }
   },
   "outputs": [
    {
     "name": "stdout",
     "output_type": "stream",
     "text": [
      "Dataset had 7561 rows.\n",
      "18 duplicated rows are removed.\n"
     ]
    }
   ],
   "source": [
    "# removing all duplicates with different target values. These are considered as noise for training.\n",
    "x = len(train_df)\n",
    "print('Dataset had {} rows.'.format(x))\n",
    "train_df.drop_duplicates(subset=['keyword', 'location', 'text'], keep=False, inplace=True, ignore_index=True)\n",
    "print('{} duplicated rows are removed.'.format(x - len(train_df)))"
   ]
  },
  {
   "cell_type": "code",
   "execution_count": 14,
   "metadata": {
    "ExecuteTime": {
     "end_time": "2021-04-25T23:03:56.483301Z",
     "start_time": "2021-04-25T23:03:56.408502Z"
    }
   },
   "outputs": [
    {
     "data": {
      "text/html": [
       "<div>\n",
       "<style scoped>\n",
       "    .dataframe tbody tr th:only-of-type {\n",
       "        vertical-align: middle;\n",
       "    }\n",
       "\n",
       "    .dataframe tbody tr th {\n",
       "        vertical-align: top;\n",
       "    }\n",
       "\n",
       "    .dataframe thead th {\n",
       "        text-align: right;\n",
       "    }\n",
       "</style>\n",
       "<table border=\"1\" class=\"dataframe\">\n",
       "  <thead>\n",
       "    <tr style=\"text-align: right;\">\n",
       "      <th></th>\n",
       "      <th>id</th>\n",
       "      <th>keyword</th>\n",
       "      <th>location</th>\n",
       "      <th>text</th>\n",
       "      <th>target</th>\n",
       "    </tr>\n",
       "  </thead>\n",
       "  <tbody>\n",
       "    <tr>\n",
       "      <th>4251</th>\n",
       "      <td>6094</td>\n",
       "      <td>hellfire</td>\n",
       "      <td>Jubail IC, Saudi Arabia.</td>\n",
       "      <td>#Allah describes piling up #wealth thinking it would last #forever as the description of the people of #Hellfire in Surah Humaza. #Reflect</td>\n",
       "      <td>0</td>\n",
       "    </tr>\n",
       "    <tr>\n",
       "      <th>4259</th>\n",
       "      <td>6105</td>\n",
       "      <td>hellfire</td>\n",
       "      <td>?????? ??? ?????? ????????</td>\n",
       "      <td>#Allah describes piling up #wealth thinking it would last #forever as the description of the people of #Hellfire in Surah Humaza. #Reflect</td>\n",
       "      <td>0</td>\n",
       "    </tr>\n",
       "    <tr>\n",
       "      <th>4267</th>\n",
       "      <td>6123</td>\n",
       "      <td>hellfire</td>\n",
       "      <td>?????? ???? ??????</td>\n",
       "      <td>#Allah describes piling up #wealth thinking it would last #forever as the description of the people of #Hellfire in Surah Humaza. #Reflect</td>\n",
       "      <td>1</td>\n",
       "    </tr>\n",
       "    <tr>\n",
       "      <th>1696</th>\n",
       "      <td>2459</td>\n",
       "      <td>collided</td>\n",
       "      <td>Peterborough, On</td>\n",
       "      <td>#Newswatch: 2 vehicles collided at Lock and Lansdowne Sts in #Ptbo. Emerg crews on their way</td>\n",
       "      <td>1</td>\n",
       "    </tr>\n",
       "    <tr>\n",
       "      <th>1717</th>\n",
       "      <td>2488</td>\n",
       "      <td>collided</td>\n",
       "      <td>Peterborough, Ont.</td>\n",
       "      <td>#Newswatch: 2 vehicles collided at Lock and Lansdowne Sts in #Ptbo. Emerg crews on their way</td>\n",
       "      <td>1</td>\n",
       "    </tr>\n",
       "    <tr>\n",
       "      <th>3758</th>\n",
       "      <td>5382</td>\n",
       "      <td>fire%20truck</td>\n",
       "      <td>Orange County, Calif.</td>\n",
       "      <td>#SigAlert: North &amp;amp; Southbound 133 closed btwn 5 fwy and Irvine Blvd due to truck fire. CHP is detouring traffic.</td>\n",
       "      <td>1</td>\n",
       "    </tr>\n",
       "    <tr>\n",
       "      <th>3763</th>\n",
       "      <td>5387</td>\n",
       "      <td>fire%20truck</td>\n",
       "      <td>Orange County, CA</td>\n",
       "      <td>#SigAlert: North &amp;amp; Southbound 133 closed btwn 5 fwy and Irvine Blvd due to truck fire. CHP is detouring traffic.</td>\n",
       "      <td>1</td>\n",
       "    </tr>\n",
       "    <tr>\n",
       "      <th>1234</th>\n",
       "      <td>1790</td>\n",
       "      <td>buildings%20on%20fire</td>\n",
       "      <td>Scotland</td>\n",
       "      <td>#TweetLikeItsSeptember11th2001 Those two buildings are on fire</td>\n",
       "      <td>1</td>\n",
       "    </tr>\n",
       "    <tr>\n",
       "      <th>1243</th>\n",
       "      <td>1807</td>\n",
       "      <td>buildings%20on%20fire</td>\n",
       "      <td>UK</td>\n",
       "      <td>#TweetLikeItsSeptember11th2001 Those two buildings are on fire</td>\n",
       "      <td>1</td>\n",
       "    </tr>\n",
       "    <tr>\n",
       "      <th>4207</th>\n",
       "      <td>6031</td>\n",
       "      <td>hazardous</td>\n",
       "      <td>New Delhi, Delhi</td>\n",
       "      <td>#foodscare #offers2go #NestleIndia slips into loss after #Magginoodle #ban unsafe and hazardous for #humanconsumption</td>\n",
       "      <td>0</td>\n",
       "    </tr>\n",
       "    <tr>\n",
       "      <th>4202</th>\n",
       "      <td>6023</td>\n",
       "      <td>hazardous</td>\n",
       "      <td>Mysore, Karnataka</td>\n",
       "      <td>#foodscare #offers2go #NestleIndia slips into loss after #Magginoodle #ban unsafe and hazardous for #humanconsumption</td>\n",
       "      <td>1</td>\n",
       "    </tr>\n",
       "    <tr>\n",
       "      <th>4186</th>\n",
       "      <td>5996</td>\n",
       "      <td>hazardous</td>\n",
       "      <td>NaN</td>\n",
       "      <td>#foodscare #offers2go #NestleIndia slips into loss after #Magginoodle #ban unsafe and hazardous for #humanconsumption</td>\n",
       "      <td>1</td>\n",
       "    </tr>\n",
       "    <tr>\n",
       "      <th>7537</th>\n",
       "      <td>10867</td>\n",
       "      <td>NaN</td>\n",
       "      <td>NaN</td>\n",
       "      <td>#stormchase Violent Record Breaking EF-5 El Reno Oklahoma Tornado Nearly Runs Over ... - http://t.co/3SICroAaNz http://t.co/I27Oa0HISp</td>\n",
       "      <td>1</td>\n",
       "    </tr>\n",
       "    <tr>\n",
       "      <th>7027</th>\n",
       "      <td>10169</td>\n",
       "      <td>violent%20storm</td>\n",
       "      <td>NaN</td>\n",
       "      <td>#stormchase Violent Record Breaking EF-5 El Reno Oklahoma Tornado Nearly Runs Over ... - http://t.co/3SICroAaNz http://t.co/I27Oa0HISp</td>\n",
       "      <td>1</td>\n",
       "    </tr>\n",
       "    <tr>\n",
       "      <th>2702</th>\n",
       "      <td>3905</td>\n",
       "      <td>devastated</td>\n",
       "      <td>REPUBLICA DOMINICANA</td>\n",
       "      <td>(#LosDelSonido) Obama Declares Disaster for Typhoon-Devastated Saipan: Obama signs disaster declaration for Northern Ma...  (#IvanBerroa)</td>\n",
       "      <td>1</td>\n",
       "    </tr>\n",
       "    <tr>\n",
       "      <th>6964</th>\n",
       "      <td>10080</td>\n",
       "      <td>typhoon</td>\n",
       "      <td>REPUBLICA DOMINICANA</td>\n",
       "      <td>(#LosDelSonido) Obama Declares Disaster for Typhoon-Devastated Saipan: Obama signs disaster declaration for Northern Ma...  (#IvanBerroa)</td>\n",
       "      <td>1</td>\n",
       "    </tr>\n",
       "    <tr>\n",
       "      <th>3551</th>\n",
       "      <td>5113</td>\n",
       "      <td>fatal</td>\n",
       "      <td>NaN</td>\n",
       "      <td>11-Year-Old Boy Charged With Manslaughter of Toddler: Report: An 11-year-old boy has been charged with manslaughter over the fatal sh...</td>\n",
       "      <td>1</td>\n",
       "    </tr>\n",
       "    <tr>\n",
       "      <th>3564</th>\n",
       "      <td>5130</td>\n",
       "      <td>fatal</td>\n",
       "      <td>Thane</td>\n",
       "      <td>11-Year-Old Boy Charged With Manslaughter of Toddler: Report: An 11-year-old boy has been charged with manslaughter over the fatal sh...</td>\n",
       "      <td>1</td>\n",
       "    </tr>\n",
       "    <tr>\n",
       "      <th>3562</th>\n",
       "      <td>5127</td>\n",
       "      <td>fatal</td>\n",
       "      <td>Varanasi</td>\n",
       "      <td>11-Year-Old Boy Charged With Manslaughter of Toddler: Report: An 11-year-old boy has been charged with manslaughter over the fatal sh...</td>\n",
       "      <td>1</td>\n",
       "    </tr>\n",
       "    <tr>\n",
       "      <th>3574</th>\n",
       "      <td>5145</td>\n",
       "      <td>fatal</td>\n",
       "      <td>Bangalore</td>\n",
       "      <td>11-Year-Old Boy Charged With Manslaughter of Toddler: Report: An 11-year-old boy has been charged with manslaughter over the fatal sh...</td>\n",
       "      <td>1</td>\n",
       "    </tr>\n",
       "    <tr>\n",
       "      <th>3580</th>\n",
       "      <td>5153</td>\n",
       "      <td>fatal</td>\n",
       "      <td>Dimapur</td>\n",
       "      <td>11-Year-Old Boy Charged With Manslaughter of Toddler: Report: An 11-year-old boy has been charged with manslaughter over the fatal sh...</td>\n",
       "      <td>1</td>\n",
       "    </tr>\n",
       "    <tr>\n",
       "      <th>1348</th>\n",
       "      <td>1957</td>\n",
       "      <td>burning%20buildings</td>\n",
       "      <td>Madison, GA</td>\n",
       "      <td>@_minimehh @cjoyner I must be overlooking the burning buildings? #BlackLivesMatter</td>\n",
       "      <td>1</td>\n",
       "    </tr>\n",
       "    <tr>\n",
       "      <th>1193</th>\n",
       "      <td>1727</td>\n",
       "      <td>buildings%20burning</td>\n",
       "      <td>Madison, GA</td>\n",
       "      <td>@_minimehh @cjoyner I must be overlooking the burning buildings? #BlackLivesMatter</td>\n",
       "      <td>1</td>\n",
       "    </tr>\n",
       "    <tr>\n",
       "      <th>7539</th>\n",
       "      <td>10870</td>\n",
       "      <td>NaN</td>\n",
       "      <td>NaN</td>\n",
       "      <td>@aria_ahrary @TheTawniest The out of control wild fires in California even in the Northern part of the state. Very troubling.</td>\n",
       "      <td>1</td>\n",
       "    </tr>\n",
       "    <tr>\n",
       "      <th>7245</th>\n",
       "      <td>10470</td>\n",
       "      <td>wild%20fires</td>\n",
       "      <td>NaN</td>\n",
       "      <td>@aria_ahrary @TheTawniest The out of control wild fires in California even in the Northern part of the state. Very troubling.</td>\n",
       "      <td>1</td>\n",
       "    </tr>\n",
       "    <tr>\n",
       "      <th>3356</th>\n",
       "      <td>4844</td>\n",
       "      <td>evacuation</td>\n",
       "      <td>Renfrew, Scotland</td>\n",
       "      <td>@batfanuk we enjoyed the show today. Great fun. The emergency non evacuation was interesting. Have a great run.</td>\n",
       "      <td>0</td>\n",
       "    </tr>\n",
       "    <tr>\n",
       "      <th>3140</th>\n",
       "      <td>4541</td>\n",
       "      <td>emergency</td>\n",
       "      <td>Renfrew, Scotland</td>\n",
       "      <td>@batfanuk we enjoyed the show today. Great fun. The emergency non evacuation was interesting. Have a great run.</td>\n",
       "      <td>0</td>\n",
       "    </tr>\n",
       "    <tr>\n",
       "      <th>1194</th>\n",
       "      <td>1728</td>\n",
       "      <td>buildings%20burning</td>\n",
       "      <td>NaN</td>\n",
       "      <td>@fewmoretweets all lives matter. Just not a fan of burning down buildings and stealing from your neighbors to 'protest'</td>\n",
       "      <td>1</td>\n",
       "    </tr>\n",
       "    <tr>\n",
       "      <th>1327</th>\n",
       "      <td>1929</td>\n",
       "      <td>burning%20buildings</td>\n",
       "      <td>NaN</td>\n",
       "      <td>@fewmoretweets all lives matter. Just not a fan of burning down buildings and stealing from your neighbors to 'protest'</td>\n",
       "      <td>1</td>\n",
       "    </tr>\n",
       "    <tr>\n",
       "      <th>1191</th>\n",
       "      <td>1725</td>\n",
       "      <td>buildings%20burning</td>\n",
       "      <td>NJ</td>\n",
       "      <td>@themagickidraps not upset with a rally upset with burning buildings businesses executing cops that have nothing to do with it etc</td>\n",
       "      <td>1</td>\n",
       "    </tr>\n",
       "    <tr>\n",
       "      <th>1335</th>\n",
       "      <td>1941</td>\n",
       "      <td>burning%20buildings</td>\n",
       "      <td>NJ</td>\n",
       "      <td>@themagickidraps not upset with a rally upset with burning buildings businesses executing cops that have nothing to do with it etc</td>\n",
       "      <td>1</td>\n",
       "    </tr>\n",
       "    <tr>\n",
       "      <th>4252</th>\n",
       "      <td>6096</td>\n",
       "      <td>hellfire</td>\n",
       "      <td>NaN</td>\n",
       "      <td>Beware of your temper and a loose tongue! These two dangerous weapons combined can lead a person to the Hellfire #islam!</td>\n",
       "      <td>0</td>\n",
       "    </tr>\n",
       "    <tr>\n",
       "      <th>4249</th>\n",
       "      <td>6092</td>\n",
       "      <td>hellfire</td>\n",
       "      <td>jeddah | Khartoum</td>\n",
       "      <td>Beware of your temper and a loose tongue! These two dangerous weapons combined can lead a person to the Hellfire #islam!</td>\n",
       "      <td>0</td>\n",
       "    </tr>\n",
       "    <tr>\n",
       "      <th>1337</th>\n",
       "      <td>1943</td>\n",
       "      <td>burning%20buildings</td>\n",
       "      <td>New Orleans ,Louisiana</td>\n",
       "      <td>Burning buildings? Media outrage? http://t.co/pHixZnv1YN</td>\n",
       "      <td>1</td>\n",
       "    </tr>\n",
       "    <tr>\n",
       "      <th>1214</th>\n",
       "      <td>1761</td>\n",
       "      <td>buildings%20burning</td>\n",
       "      <td>New Orleans ,Louisiana</td>\n",
       "      <td>Burning buildings? Media outrage? http://t.co/pHixZnv1YN</td>\n",
       "      <td>1</td>\n",
       "    </tr>\n",
       "    <tr>\n",
       "      <th>3348</th>\n",
       "      <td>4832</td>\n",
       "      <td>evacuation</td>\n",
       "      <td>Na:tinixw / Hoopa, Berkeley</td>\n",
       "      <td>Elem Pomo helping the displaced from the Rocky Fire. Please consider!\\nElem Evacuation Center http://t.co/dYDFvz7amj via @gofundme</td>\n",
       "      <td>1</td>\n",
       "    </tr>\n",
       "    <tr>\n",
       "      <th>2827</th>\n",
       "      <td>4096</td>\n",
       "      <td>displaced</td>\n",
       "      <td>Na:tinixw / Hoopa, Berkeley</td>\n",
       "      <td>Elem Pomo helping the displaced from the Rocky Fire. Please consider!\\nElem Evacuation Center http://t.co/dYDFvz7amj via @gofundme</td>\n",
       "      <td>1</td>\n",
       "    </tr>\n",
       "    <tr>\n",
       "      <th>3362</th>\n",
       "      <td>4850</td>\n",
       "      <td>evacuation</td>\n",
       "      <td>Tri-Cities, Wash.</td>\n",
       "      <td>Evacuation order lifted for town of Roosevelt: http://t.co/EDyfo6E2PU http://t.co/M5KxLPKFA1</td>\n",
       "      <td>1</td>\n",
       "    </tr>\n",
       "    <tr>\n",
       "      <th>7530</th>\n",
       "      <td>10855</td>\n",
       "      <td>NaN</td>\n",
       "      <td>NaN</td>\n",
       "      <td>Evacuation order lifted for town of Roosevelt: http://t.co/EDyfo6E2PU http://t.co/M5KxLPKFA1</td>\n",
       "      <td>1</td>\n",
       "    </tr>\n",
       "    <tr>\n",
       "      <th>3220</th>\n",
       "      <td>4659</td>\n",
       "      <td>engulfed</td>\n",
       "      <td>Kuwait</td>\n",
       "      <td>He came to a land which was engulfed in tribal war and turned it into a land of peace i.e. Madinah. #ProphetMuhammad #islam</td>\n",
       "      <td>1</td>\n",
       "    </tr>\n",
       "    <tr>\n",
       "      <th>3225</th>\n",
       "      <td>4669</td>\n",
       "      <td>engulfed</td>\n",
       "      <td>Bahrain</td>\n",
       "      <td>He came to a land which was engulfed in tribal war and turned it into a land of peace i.e. Madinah. #ProphetMuhammad #islam</td>\n",
       "      <td>1</td>\n",
       "    </tr>\n",
       "    <tr>\n",
       "      <th>3217</th>\n",
       "      <td>4656</td>\n",
       "      <td>engulfed</td>\n",
       "      <td>NaN</td>\n",
       "      <td>He came to a land which was engulfed in tribal war and turned it into a land of peace i.e. Madinah. #ProphetMuhammad #islam</td>\n",
       "      <td>0</td>\n",
       "    </tr>\n",
       "    <tr>\n",
       "      <th>4254</th>\n",
       "      <td>6099</td>\n",
       "      <td>hellfire</td>\n",
       "      <td>NaN</td>\n",
       "      <td>Hellfire is surrounded by desires so be careful and donÛªt let your desires control you! #Afterlife #islam</td>\n",
       "      <td>0</td>\n",
       "    </tr>\n",
       "    <tr>\n",
       "      <th>4265</th>\n",
       "      <td>6116</td>\n",
       "      <td>hellfire</td>\n",
       "      <td>??????????? ???????????..?</td>\n",
       "      <td>Hellfire is surrounded by desires so be careful and donÛªt let your desires control you! #Afterlife #islam</td>\n",
       "      <td>0</td>\n",
       "    </tr>\n",
       "    <tr>\n",
       "      <th>4263</th>\n",
       "      <td>6113</td>\n",
       "      <td>hellfire</td>\n",
       "      <td>NaN</td>\n",
       "      <td>Hellfire! We donÛªt even want to think about it or mention it so letÛªs not do anything that leads to it #islam!</td>\n",
       "      <td>0</td>\n",
       "    </tr>\n",
       "    <tr>\n",
       "      <th>4273</th>\n",
       "      <td>6134</td>\n",
       "      <td>hellfire</td>\n",
       "      <td>Riyadh ')</td>\n",
       "      <td>Hellfire! We donÛªt even want to think about it or mention it so letÛªs not do anything that leads to it #islam!</td>\n",
       "      <td>1</td>\n",
       "    </tr>\n",
       "    <tr>\n",
       "      <th>1357</th>\n",
       "      <td>1968</td>\n",
       "      <td>burning%20buildings</td>\n",
       "      <td>Epic City, BB.</td>\n",
       "      <td>I Pledge Allegiance To The P.O.P.E. And The Burning Buildings of Epic City. ??????</td>\n",
       "      <td>1</td>\n",
       "    </tr>\n",
       "    <tr>\n",
       "      <th>1206</th>\n",
       "      <td>1752</td>\n",
       "      <td>buildings%20burning</td>\n",
       "      <td>Epic City, BB.</td>\n",
       "      <td>I Pledge Allegiance To The P.O.P.E. And The Burning Buildings of Epic City. ??????</td>\n",
       "      <td>0</td>\n",
       "    </tr>\n",
       "    <tr>\n",
       "      <th>1324</th>\n",
       "      <td>1924</td>\n",
       "      <td>burning%20buildings</td>\n",
       "      <td>St Charles, MD</td>\n",
       "      <td>I'm mentally preparing myself for a bomb ass school year if it's not I'm burning buildings ??</td>\n",
       "      <td>0</td>\n",
       "    </tr>\n",
       "    <tr>\n",
       "      <th>1196</th>\n",
       "      <td>1733</td>\n",
       "      <td>buildings%20burning</td>\n",
       "      <td>St Charles, MD</td>\n",
       "      <td>I'm mentally preparing myself for a bomb ass school year if it's not I'm burning buildings ??</td>\n",
       "      <td>0</td>\n",
       "    </tr>\n",
       "    <tr>\n",
       "      <th>6545</th>\n",
       "      <td>9470</td>\n",
       "      <td>terrorism</td>\n",
       "      <td>Jeddah_Saudi Arabia.</td>\n",
       "      <td>In #islam saving a person is equal in reward to saving all humans! Islam is the opposite of terrorism!</td>\n",
       "      <td>0</td>\n",
       "    </tr>\n",
       "    <tr>\n",
       "      <th>6547</th>\n",
       "      <td>9472</td>\n",
       "      <td>terrorism</td>\n",
       "      <td>Riyadh</td>\n",
       "      <td>In #islam saving a person is equal in reward to saving all humans! Islam is the opposite of terrorism!</td>\n",
       "      <td>1</td>\n",
       "    </tr>\n",
       "    <tr>\n",
       "      <th>1126</th>\n",
       "      <td>1634</td>\n",
       "      <td>bombing</td>\n",
       "      <td>NaN</td>\n",
       "      <td>Japan on Thursday marks the 70th anniversary of the atomic bombing of Hiroshima with the most senior official from Washington ever scheduleÛ_</td>\n",
       "      <td>1</td>\n",
       "    </tr>\n",
       "    <tr>\n",
       "      <th>1148</th>\n",
       "      <td>1665</td>\n",
       "      <td>bombing</td>\n",
       "      <td>Singapore</td>\n",
       "      <td>Japan on Thursday marks the 70th anniversary of the atomic bombing of Hiroshima with the most senior official from Washington ever scheduleÛ_</td>\n",
       "      <td>1</td>\n",
       "    </tr>\n",
       "    <tr>\n",
       "      <th>7540</th>\n",
       "      <td>10871</td>\n",
       "      <td>NaN</td>\n",
       "      <td>NaN</td>\n",
       "      <td>M1.94 [01:04 UTC]?5km S of Volcano Hawaii. http://t.co/zDtoyd8EbJ</td>\n",
       "      <td>1</td>\n",
       "    </tr>\n",
       "    <tr>\n",
       "      <th>7070</th>\n",
       "      <td>10229</td>\n",
       "      <td>volcano</td>\n",
       "      <td>NaN</td>\n",
       "      <td>M1.94 [01:04 UTC]?5km S of Volcano Hawaii. http://t.co/zDtoyd8EbJ</td>\n",
       "      <td>1</td>\n",
       "    </tr>\n",
       "    <tr>\n",
       "      <th>2440</th>\n",
       "      <td>3517</td>\n",
       "      <td>derailment</td>\n",
       "      <td>NaN</td>\n",
       "      <td>Madhya Pradesh Train Derailment: Village Youth Saved Many Lives</td>\n",
       "      <td>1</td>\n",
       "    </tr>\n",
       "    <tr>\n",
       "      <th>2432</th>\n",
       "      <td>3505</td>\n",
       "      <td>derailment</td>\n",
       "      <td>India</td>\n",
       "      <td>Madhya Pradesh Train Derailment: Village Youth Saved Many Lives</td>\n",
       "      <td>1</td>\n",
       "    </tr>\n",
       "    <tr>\n",
       "      <th>2430</th>\n",
       "      <td>3503</td>\n",
       "      <td>derailment</td>\n",
       "      <td>Mumbai (India)</td>\n",
       "      <td>Madhya Pradesh Train Derailment: Village Youth Saved Many Lives</td>\n",
       "      <td>1</td>\n",
       "    </tr>\n",
       "    <tr>\n",
       "      <th>1189</th>\n",
       "      <td>1723</td>\n",
       "      <td>buildings%20burning</td>\n",
       "      <td>Mackay, QLD, Australia</td>\n",
       "      <td>Mmmmmm I'm burning.... I'm burning buildings I'm building.... Oooooohhhh oooh ooh...</td>\n",
       "      <td>1</td>\n",
       "    </tr>\n",
       "    <tr>\n",
       "      <th>1323</th>\n",
       "      <td>1922</td>\n",
       "      <td>burning%20buildings</td>\n",
       "      <td>Mackay, QLD, Australia</td>\n",
       "      <td>Mmmmmm I'm burning.... I'm burning buildings I'm building.... Oooooohhhh oooh ooh...</td>\n",
       "      <td>0</td>\n",
       "    </tr>\n",
       "    <tr>\n",
       "      <th>3303</th>\n",
       "      <td>4769</td>\n",
       "      <td>evacuated</td>\n",
       "      <td>Portland, Ore.</td>\n",
       "      <td>New evacuation ordered for 25 homes in danger of Hwy. 8 fire near Roosevelt Wash. http://t.co/SQsyUeh4yI #KOIN6News http://t.co/199t7ND0pm</td>\n",
       "      <td>1</td>\n",
       "    </tr>\n",
       "    <tr>\n",
       "      <th>3364</th>\n",
       "      <td>4853</td>\n",
       "      <td>evacuation</td>\n",
       "      <td>Portland, Ore.</td>\n",
       "      <td>New evacuation ordered for 25 homes in danger of Hwy. 8 fire near Roosevelt Wash. http://t.co/SQsyUeh4yI #KOIN6News http://t.co/199t7ND0pm</td>\n",
       "      <td>1</td>\n",
       "    </tr>\n",
       "    <tr>\n",
       "      <th>7541</th>\n",
       "      <td>10872</td>\n",
       "      <td>NaN</td>\n",
       "      <td>NaN</td>\n",
       "      <td>Police investigating after an e-bike collided with a car in Little Portugal. E-bike rider suffered serious non-life threatening injuries.</td>\n",
       "      <td>1</td>\n",
       "    </tr>\n",
       "    <tr>\n",
       "      <th>1695</th>\n",
       "      <td>2458</td>\n",
       "      <td>collided</td>\n",
       "      <td>Toronto</td>\n",
       "      <td>Police investigating after an e-bike collided with a car in Little Portugal. E-bike rider suffered serious non-life threatening injuries.</td>\n",
       "      <td>1</td>\n",
       "    </tr>\n",
       "    <tr>\n",
       "      <th>1205</th>\n",
       "      <td>1750</td>\n",
       "      <td>buildings%20burning</td>\n",
       "      <td>In Hell</td>\n",
       "      <td>Schools in Western Uganda still Burning down Buildings during Strikes....Strikes in Western Uganda always Lit literally..</td>\n",
       "      <td>1</td>\n",
       "    </tr>\n",
       "    <tr>\n",
       "      <th>1352</th>\n",
       "      <td>1962</td>\n",
       "      <td>burning%20buildings</td>\n",
       "      <td>In Hell</td>\n",
       "      <td>Schools in Western Uganda still Burning down Buildings during Strikes....Strikes in Western Uganda always Lit literally..</td>\n",
       "      <td>1</td>\n",
       "    </tr>\n",
       "    <tr>\n",
       "      <th>5680</th>\n",
       "      <td>8196</td>\n",
       "      <td>riot</td>\n",
       "      <td>India</td>\n",
       "      <td>Stuart Broad Takes Eight Before Joe Root Runs Riot Against Aussies</td>\n",
       "      <td>0</td>\n",
       "    </tr>\n",
       "    <tr>\n",
       "      <th>5709</th>\n",
       "      <td>8238</td>\n",
       "      <td>riot</td>\n",
       "      <td>Mumbai</td>\n",
       "      <td>Stuart Broad Takes Eight Before Joe Root Runs Riot Against Aussies</td>\n",
       "      <td>0</td>\n",
       "    </tr>\n",
       "    <tr>\n",
       "      <th>2782</th>\n",
       "      <td>4026</td>\n",
       "      <td>disaster</td>\n",
       "      <td>NaN</td>\n",
       "      <td>Top insurer blasts lack of Australian Govt action on disaster mitigation http://t.co/sDgOUtWNtb via @smh</td>\n",
       "      <td>1</td>\n",
       "    </tr>\n",
       "    <tr>\n",
       "      <th>5018</th>\n",
       "      <td>7231</td>\n",
       "      <td>natural%20disaster</td>\n",
       "      <td>NaN</td>\n",
       "      <td>Top insurer blasts lack of Australian Govt action on disaster mitigation http://t.co/sDgOUtWNtb via @smh</td>\n",
       "      <td>1</td>\n",
       "    </tr>\n",
       "    <tr>\n",
       "      <th>1763</th>\n",
       "      <td>2544</td>\n",
       "      <td>collision</td>\n",
       "      <td>Sacramento, CA</td>\n",
       "      <td>Traffic Collision - No Injury: I5 S at I5 S 43rd Ave offramp South Sac http://t.co/cT9ejXoLpu</td>\n",
       "      <td>1</td>\n",
       "    </tr>\n",
       "    <tr>\n",
       "      <th>4550</th>\n",
       "      <td>6543</td>\n",
       "      <td>injury</td>\n",
       "      <td>Sacramento, CA</td>\n",
       "      <td>Traffic Collision - No Injury: I5 S at I5 S 43rd Ave offramp South Sac http://t.co/cT9ejXoLpu</td>\n",
       "      <td>1</td>\n",
       "    </tr>\n",
       "    <tr>\n",
       "      <th>7065</th>\n",
       "      <td>10220</td>\n",
       "      <td>volcano</td>\n",
       "      <td>Hawaii, USA</td>\n",
       "      <td>USGS reports a M1.94 #earthquake 5km S of Volcano Hawaii on 8/6/15 @ 1:04:01 UTC http://t.co/Njd28pg9Xv #quake</td>\n",
       "      <td>1</td>\n",
       "    </tr>\n",
       "    <tr>\n",
       "      <th>3023</th>\n",
       "      <td>4373</td>\n",
       "      <td>earthquake</td>\n",
       "      <td>Hawaii, USA</td>\n",
       "      <td>USGS reports a M1.94 #earthquake 5km S of Volcano Hawaii on 8/6/15 @ 1:04:01 UTC http://t.co/Njd28pg9Xv #quake</td>\n",
       "      <td>1</td>\n",
       "    </tr>\n",
       "    <tr>\n",
       "      <th>1164</th>\n",
       "      <td>1689</td>\n",
       "      <td>bridge%20collapse</td>\n",
       "      <td>Mumbai , India</td>\n",
       "      <td>Warne shocked over Australia's epic collapse at Trent Bridge: Johannesburg Aug 06 (ANI): Legendary Australian... http://t.co/LwwoJXtTIV</td>\n",
       "      <td>1</td>\n",
       "    </tr>\n",
       "    <tr>\n",
       "      <th>1615</th>\n",
       "      <td>2346</td>\n",
       "      <td>collapse</td>\n",
       "      <td>Mumbai , India</td>\n",
       "      <td>Warne shocked over Australia's epic collapse at Trent Bridge: Johannesburg Aug 06 (ANI): Legendary Australian... http://t.co/LwwoJXtTIV</td>\n",
       "      <td>1</td>\n",
       "    </tr>\n",
       "    <tr>\n",
       "      <th>7451</th>\n",
       "      <td>10754</td>\n",
       "      <td>wreckage</td>\n",
       "      <td>Punjab</td>\n",
       "      <td>Wreckage 'Conclusively Confirmed' as From MH370: Malaysia PM</td>\n",
       "      <td>1</td>\n",
       "    </tr>\n",
       "    <tr>\n",
       "      <th>7463</th>\n",
       "      <td>10771</td>\n",
       "      <td>wreckage</td>\n",
       "      <td>Mumbai</td>\n",
       "      <td>Wreckage 'Conclusively Confirmed' as From MH370: Malaysia PM</td>\n",
       "      <td>1</td>\n",
       "    </tr>\n",
       "    <tr>\n",
       "      <th>7467</th>\n",
       "      <td>10776</td>\n",
       "      <td>wreckage</td>\n",
       "      <td>India</td>\n",
       "      <td>Wreckage 'Conclusively Confirmed' as From MH370: Malaysia PM</td>\n",
       "      <td>1</td>\n",
       "    </tr>\n",
       "    <tr>\n",
       "      <th>6956</th>\n",
       "      <td>10071</td>\n",
       "      <td>typhoon</td>\n",
       "      <td>NaN</td>\n",
       "      <td>abcnews - Obama Declares Disaster for Typhoon-Devastated Saipan: Obama signs disaster declaration for Northern... http://t.co/mg5eAJElul</td>\n",
       "      <td>1</td>\n",
       "    </tr>\n",
       "    <tr>\n",
       "      <th>2719</th>\n",
       "      <td>3933</td>\n",
       "      <td>devastated</td>\n",
       "      <td>NaN</td>\n",
       "      <td>abcnews - Obama Declares Disaster for Typhoon-Devastated Saipan: Obama signs disaster declaration for Northern... http://t.co/mg5eAJElul</td>\n",
       "      <td>1</td>\n",
       "    </tr>\n",
       "    <tr>\n",
       "      <th>1213</th>\n",
       "      <td>1760</td>\n",
       "      <td>buildings%20burning</td>\n",
       "      <td>dallas</td>\n",
       "      <td>like for the music video I want some real action shit like burning buildings and police chases not some weak ben winston shit</td>\n",
       "      <td>1</td>\n",
       "    </tr>\n",
       "    <tr>\n",
       "      <th>1341</th>\n",
       "      <td>1950</td>\n",
       "      <td>burning%20buildings</td>\n",
       "      <td>dallas</td>\n",
       "      <td>like for the music video I want some real action shit like burning buildings and police chases not some weak ben winston shit</td>\n",
       "      <td>0</td>\n",
       "    </tr>\n",
       "    <tr>\n",
       "      <th>6060</th>\n",
       "      <td>8739</td>\n",
       "      <td>sinking</td>\n",
       "      <td>MA</td>\n",
       "      <td>that horrible sinking feeling when youÛªve been at home on your phone for a while and you realise its been on 3G this whole time</td>\n",
       "      <td>1</td>\n",
       "    </tr>\n",
       "    <tr>\n",
       "      <th>6029</th>\n",
       "      <td>8698</td>\n",
       "      <td>sinking</td>\n",
       "      <td>Every Where in the World</td>\n",
       "      <td>that horrible sinking feeling when youÛªve been at home on your phone for a while and you realise its been on 3G this whole time</td>\n",
       "      <td>1</td>\n",
       "    </tr>\n",
       "    <tr>\n",
       "      <th>6032</th>\n",
       "      <td>8702</td>\n",
       "      <td>sinking</td>\n",
       "      <td>NaN</td>\n",
       "      <td>that horrible sinking feeling when youÛªve been at home on your phone for a while and you realise its been on 3G this whole time</td>\n",
       "      <td>0</td>\n",
       "    </tr>\n",
       "  </tbody>\n",
       "</table>\n",
       "</div>"
      ],
      "text/plain": [
       "         id                keyword                     location  \\\n",
       "4251  6094   hellfire               Jubail IC, Saudi Arabia.      \n",
       "4259  6105   hellfire               ?????? ??? ?????? ????????    \n",
       "4267  6123   hellfire               ?????? ???? ??????            \n",
       "1696  2459   collided               Peterborough, On              \n",
       "1717  2488   collided               Peterborough, Ont.            \n",
       "3758  5382   fire%20truck           Orange County, Calif.         \n",
       "3763  5387   fire%20truck           Orange County, CA             \n",
       "1234  1790   buildings%20on%20fire  Scotland                      \n",
       "1243  1807   buildings%20on%20fire  UK                            \n",
       "4207  6031   hazardous              New Delhi, Delhi              \n",
       "4202  6023   hazardous              Mysore, Karnataka             \n",
       "4186  5996   hazardous              NaN                           \n",
       "7537  10867  NaN                    NaN                           \n",
       "7027  10169  violent%20storm        NaN                           \n",
       "2702  3905   devastated             REPUBLICA DOMINICANA          \n",
       "6964  10080  typhoon                REPUBLICA DOMINICANA          \n",
       "3551  5113   fatal                  NaN                           \n",
       "3564  5130   fatal                  Thane                         \n",
       "3562  5127   fatal                  Varanasi                      \n",
       "3574  5145   fatal                  Bangalore                     \n",
       "3580  5153   fatal                  Dimapur                       \n",
       "1348  1957   burning%20buildings    Madison, GA                   \n",
       "1193  1727   buildings%20burning    Madison, GA                   \n",
       "7539  10870  NaN                    NaN                           \n",
       "7245  10470  wild%20fires           NaN                           \n",
       "3356  4844   evacuation             Renfrew, Scotland             \n",
       "3140  4541   emergency              Renfrew, Scotland             \n",
       "1194  1728   buildings%20burning    NaN                           \n",
       "1327  1929   burning%20buildings    NaN                           \n",
       "1191  1725   buildings%20burning    NJ                            \n",
       "1335  1941   burning%20buildings    NJ                            \n",
       "4252  6096   hellfire               NaN                           \n",
       "4249  6092   hellfire               jeddah | Khartoum             \n",
       "1337  1943   burning%20buildings    New Orleans ,Louisiana        \n",
       "1214  1761   buildings%20burning    New Orleans ,Louisiana        \n",
       "3348  4832   evacuation             Na:tinixw / Hoopa, Berkeley   \n",
       "2827  4096   displaced              Na:tinixw / Hoopa, Berkeley   \n",
       "3362  4850   evacuation             Tri-Cities, Wash.             \n",
       "7530  10855  NaN                    NaN                           \n",
       "3220  4659   engulfed               Kuwait                        \n",
       "3225  4669   engulfed               Bahrain                       \n",
       "3217  4656   engulfed               NaN                           \n",
       "4254  6099   hellfire               NaN                           \n",
       "4265  6116   hellfire               ??????????? ???????????..?    \n",
       "4263  6113   hellfire               NaN                           \n",
       "4273  6134   hellfire               Riyadh ')                     \n",
       "1357  1968   burning%20buildings    Epic City, BB.                \n",
       "1206  1752   buildings%20burning    Epic City, BB.                \n",
       "1324  1924   burning%20buildings    St Charles, MD                \n",
       "1196  1733   buildings%20burning    St Charles, MD                \n",
       "6545  9470   terrorism              Jeddah_Saudi Arabia.          \n",
       "6547  9472   terrorism              Riyadh                        \n",
       "1126  1634   bombing                NaN                           \n",
       "1148  1665   bombing                Singapore                     \n",
       "7540  10871  NaN                    NaN                           \n",
       "7070  10229  volcano                NaN                           \n",
       "2440  3517   derailment             NaN                           \n",
       "2432  3505   derailment             India                         \n",
       "2430  3503   derailment             Mumbai (India)                \n",
       "1189  1723   buildings%20burning    Mackay, QLD, Australia        \n",
       "1323  1922   burning%20buildings    Mackay, QLD, Australia        \n",
       "3303  4769   evacuated              Portland, Ore.                \n",
       "3364  4853   evacuation             Portland, Ore.                \n",
       "7541  10872  NaN                    NaN                           \n",
       "1695  2458   collided               Toronto                       \n",
       "1205  1750   buildings%20burning    In Hell                       \n",
       "1352  1962   burning%20buildings    In Hell                       \n",
       "5680  8196   riot                   India                         \n",
       "5709  8238   riot                   Mumbai                        \n",
       "2782  4026   disaster               NaN                           \n",
       "5018  7231   natural%20disaster     NaN                           \n",
       "1763  2544   collision              Sacramento, CA                \n",
       "4550  6543   injury                 Sacramento, CA                \n",
       "7065  10220  volcano                Hawaii, USA                   \n",
       "3023  4373   earthquake             Hawaii, USA                   \n",
       "1164  1689   bridge%20collapse      Mumbai , India                \n",
       "1615  2346   collapse               Mumbai , India                \n",
       "7451  10754  wreckage               Punjab                        \n",
       "7463  10771  wreckage               Mumbai                        \n",
       "7467  10776  wreckage               India                         \n",
       "6956  10071  typhoon                NaN                           \n",
       "2719  3933   devastated             NaN                           \n",
       "1213  1760   buildings%20burning    dallas                        \n",
       "1341  1950   burning%20buildings    dallas                        \n",
       "6060  8739   sinking                MA                            \n",
       "6029  8698   sinking                Every Where in the World      \n",
       "6032  8702   sinking                NaN                           \n",
       "\n",
       "                                                                                                                                                text  \\\n",
       "4251  #Allah describes piling up #wealth thinking it would last #forever as the description of the people of #Hellfire in Surah Humaza. #Reflect       \n",
       "4259  #Allah describes piling up #wealth thinking it would last #forever as the description of the people of #Hellfire in Surah Humaza. #Reflect       \n",
       "4267  #Allah describes piling up #wealth thinking it would last #forever as the description of the people of #Hellfire in Surah Humaza. #Reflect       \n",
       "1696  #Newswatch: 2 vehicles collided at Lock and Lansdowne Sts in #Ptbo. Emerg crews on their way                                                     \n",
       "1717  #Newswatch: 2 vehicles collided at Lock and Lansdowne Sts in #Ptbo. Emerg crews on their way                                                     \n",
       "3758  #SigAlert: North &amp; Southbound 133 closed btwn 5 fwy and Irvine Blvd due to truck fire. CHP is detouring traffic.                             \n",
       "3763  #SigAlert: North &amp; Southbound 133 closed btwn 5 fwy and Irvine Blvd due to truck fire. CHP is detouring traffic.                             \n",
       "1234  #TweetLikeItsSeptember11th2001 Those two buildings are on fire                                                                                   \n",
       "1243  #TweetLikeItsSeptember11th2001 Those two buildings are on fire                                                                                   \n",
       "4207  #foodscare #offers2go #NestleIndia slips into loss after #Magginoodle #ban unsafe and hazardous for #humanconsumption                            \n",
       "4202  #foodscare #offers2go #NestleIndia slips into loss after #Magginoodle #ban unsafe and hazardous for #humanconsumption                            \n",
       "4186  #foodscare #offers2go #NestleIndia slips into loss after #Magginoodle #ban unsafe and hazardous for #humanconsumption                            \n",
       "7537  #stormchase Violent Record Breaking EF-5 El Reno Oklahoma Tornado Nearly Runs Over ... - http://t.co/3SICroAaNz http://t.co/I27Oa0HISp           \n",
       "7027  #stormchase Violent Record Breaking EF-5 El Reno Oklahoma Tornado Nearly Runs Over ... - http://t.co/3SICroAaNz http://t.co/I27Oa0HISp           \n",
       "2702  (#LosDelSonido) Obama Declares Disaster for Typhoon-Devastated Saipan: Obama signs disaster declaration for Northern Ma...  (#IvanBerroa)        \n",
       "6964  (#LosDelSonido) Obama Declares Disaster for Typhoon-Devastated Saipan: Obama signs disaster declaration for Northern Ma...  (#IvanBerroa)        \n",
       "3551  11-Year-Old Boy Charged With Manslaughter of Toddler: Report: An 11-year-old boy has been charged with manslaughter over the fatal sh...         \n",
       "3564  11-Year-Old Boy Charged With Manslaughter of Toddler: Report: An 11-year-old boy has been charged with manslaughter over the fatal sh...         \n",
       "3562  11-Year-Old Boy Charged With Manslaughter of Toddler: Report: An 11-year-old boy has been charged with manslaughter over the fatal sh...         \n",
       "3574  11-Year-Old Boy Charged With Manslaughter of Toddler: Report: An 11-year-old boy has been charged with manslaughter over the fatal sh...         \n",
       "3580  11-Year-Old Boy Charged With Manslaughter of Toddler: Report: An 11-year-old boy has been charged with manslaughter over the fatal sh...         \n",
       "1348  @_minimehh @cjoyner I must be overlooking the burning buildings? #BlackLivesMatter                                                               \n",
       "1193  @_minimehh @cjoyner I must be overlooking the burning buildings? #BlackLivesMatter                                                               \n",
       "7539  @aria_ahrary @TheTawniest The out of control wild fires in California even in the Northern part of the state. Very troubling.                    \n",
       "7245  @aria_ahrary @TheTawniest The out of control wild fires in California even in the Northern part of the state. Very troubling.                    \n",
       "3356  @batfanuk we enjoyed the show today. Great fun. The emergency non evacuation was interesting. Have a great run.                                  \n",
       "3140  @batfanuk we enjoyed the show today. Great fun. The emergency non evacuation was interesting. Have a great run.                                  \n",
       "1194  @fewmoretweets all lives matter. Just not a fan of burning down buildings and stealing from your neighbors to 'protest'                          \n",
       "1327  @fewmoretweets all lives matter. Just not a fan of burning down buildings and stealing from your neighbors to 'protest'                          \n",
       "1191  @themagickidraps not upset with a rally upset with burning buildings businesses executing cops that have nothing to do with it etc               \n",
       "1335  @themagickidraps not upset with a rally upset with burning buildings businesses executing cops that have nothing to do with it etc               \n",
       "4252  Beware of your temper and a loose tongue! These two dangerous weapons combined can lead a person to the Hellfire #islam!                         \n",
       "4249  Beware of your temper and a loose tongue! These two dangerous weapons combined can lead a person to the Hellfire #islam!                         \n",
       "1337  Burning buildings? Media outrage? http://t.co/pHixZnv1YN                                                                                         \n",
       "1214  Burning buildings? Media outrage? http://t.co/pHixZnv1YN                                                                                         \n",
       "3348  Elem Pomo helping the displaced from the Rocky Fire. Please consider!\\nElem Evacuation Center http://t.co/dYDFvz7amj via @gofundme               \n",
       "2827  Elem Pomo helping the displaced from the Rocky Fire. Please consider!\\nElem Evacuation Center http://t.co/dYDFvz7amj via @gofundme               \n",
       "3362  Evacuation order lifted for town of Roosevelt: http://t.co/EDyfo6E2PU http://t.co/M5KxLPKFA1                                                     \n",
       "7530  Evacuation order lifted for town of Roosevelt: http://t.co/EDyfo6E2PU http://t.co/M5KxLPKFA1                                                     \n",
       "3220  He came to a land which was engulfed in tribal war and turned it into a land of peace i.e. Madinah. #ProphetMuhammad #islam                      \n",
       "3225  He came to a land which was engulfed in tribal war and turned it into a land of peace i.e. Madinah. #ProphetMuhammad #islam                      \n",
       "3217  He came to a land which was engulfed in tribal war and turned it into a land of peace i.e. Madinah. #ProphetMuhammad #islam                      \n",
       "4254  Hellfire is surrounded by desires so be careful and donÛªt let your desires control you! #Afterlife #islam                                      \n",
       "4265  Hellfire is surrounded by desires so be careful and donÛªt let your desires control you! #Afterlife #islam                                      \n",
       "4263  Hellfire! We donÛªt even want to think about it or mention it so letÛªs not do anything that leads to it #islam!                               \n",
       "4273  Hellfire! We donÛªt even want to think about it or mention it so letÛªs not do anything that leads to it #islam!                               \n",
       "1357  I Pledge Allegiance To The P.O.P.E. And The Burning Buildings of Epic City. ??????                                                               \n",
       "1206  I Pledge Allegiance To The P.O.P.E. And The Burning Buildings of Epic City. ??????                                                               \n",
       "1324  I'm mentally preparing myself for a bomb ass school year if it's not I'm burning buildings ??                                                    \n",
       "1196  I'm mentally preparing myself for a bomb ass school year if it's not I'm burning buildings ??                                                    \n",
       "6545  In #islam saving a person is equal in reward to saving all humans! Islam is the opposite of terrorism!                                           \n",
       "6547  In #islam saving a person is equal in reward to saving all humans! Islam is the opposite of terrorism!                                           \n",
       "1126  Japan on Thursday marks the 70th anniversary of the atomic bombing of Hiroshima with the most senior official from Washington ever scheduleÛ_   \n",
       "1148  Japan on Thursday marks the 70th anniversary of the atomic bombing of Hiroshima with the most senior official from Washington ever scheduleÛ_   \n",
       "7540  M1.94 [01:04 UTC]?5km S of Volcano Hawaii. http://t.co/zDtoyd8EbJ                                                                                \n",
       "7070  M1.94 [01:04 UTC]?5km S of Volcano Hawaii. http://t.co/zDtoyd8EbJ                                                                                \n",
       "2440  Madhya Pradesh Train Derailment: Village Youth Saved Many Lives                                                                                  \n",
       "2432  Madhya Pradesh Train Derailment: Village Youth Saved Many Lives                                                                                  \n",
       "2430  Madhya Pradesh Train Derailment: Village Youth Saved Many Lives                                                                                  \n",
       "1189  Mmmmmm I'm burning.... I'm burning buildings I'm building.... Oooooohhhh oooh ooh...                                                             \n",
       "1323  Mmmmmm I'm burning.... I'm burning buildings I'm building.... Oooooohhhh oooh ooh...                                                             \n",
       "3303  New evacuation ordered for 25 homes in danger of Hwy. 8 fire near Roosevelt Wash. http://t.co/SQsyUeh4yI #KOIN6News http://t.co/199t7ND0pm       \n",
       "3364  New evacuation ordered for 25 homes in danger of Hwy. 8 fire near Roosevelt Wash. http://t.co/SQsyUeh4yI #KOIN6News http://t.co/199t7ND0pm       \n",
       "7541  Police investigating after an e-bike collided with a car in Little Portugal. E-bike rider suffered serious non-life threatening injuries.        \n",
       "1695  Police investigating after an e-bike collided with a car in Little Portugal. E-bike rider suffered serious non-life threatening injuries.        \n",
       "1205  Schools in Western Uganda still Burning down Buildings during Strikes....Strikes in Western Uganda always Lit literally..                        \n",
       "1352  Schools in Western Uganda still Burning down Buildings during Strikes....Strikes in Western Uganda always Lit literally..                        \n",
       "5680  Stuart Broad Takes Eight Before Joe Root Runs Riot Against Aussies                                                                               \n",
       "5709  Stuart Broad Takes Eight Before Joe Root Runs Riot Against Aussies                                                                               \n",
       "2782  Top insurer blasts lack of Australian Govt action on disaster mitigation http://t.co/sDgOUtWNtb via @smh                                         \n",
       "5018  Top insurer blasts lack of Australian Govt action on disaster mitigation http://t.co/sDgOUtWNtb via @smh                                         \n",
       "1763  Traffic Collision - No Injury: I5 S at I5 S 43rd Ave offramp South Sac http://t.co/cT9ejXoLpu                                                    \n",
       "4550  Traffic Collision - No Injury: I5 S at I5 S 43rd Ave offramp South Sac http://t.co/cT9ejXoLpu                                                    \n",
       "7065  USGS reports a M1.94 #earthquake 5km S of Volcano Hawaii on 8/6/15 @ 1:04:01 UTC http://t.co/Njd28pg9Xv #quake                                   \n",
       "3023  USGS reports a M1.94 #earthquake 5km S of Volcano Hawaii on 8/6/15 @ 1:04:01 UTC http://t.co/Njd28pg9Xv #quake                                   \n",
       "1164  Warne shocked over Australia's epic collapse at Trent Bridge: Johannesburg Aug 06 (ANI): Legendary Australian... http://t.co/LwwoJXtTIV          \n",
       "1615  Warne shocked over Australia's epic collapse at Trent Bridge: Johannesburg Aug 06 (ANI): Legendary Australian... http://t.co/LwwoJXtTIV          \n",
       "7451  Wreckage 'Conclusively Confirmed' as From MH370: Malaysia PM                                                                                     \n",
       "7463  Wreckage 'Conclusively Confirmed' as From MH370: Malaysia PM                                                                                     \n",
       "7467  Wreckage 'Conclusively Confirmed' as From MH370: Malaysia PM                                                                                     \n",
       "6956  abcnews - Obama Declares Disaster for Typhoon-Devastated Saipan: Obama signs disaster declaration for Northern... http://t.co/mg5eAJElul         \n",
       "2719  abcnews - Obama Declares Disaster for Typhoon-Devastated Saipan: Obama signs disaster declaration for Northern... http://t.co/mg5eAJElul         \n",
       "1213  like for the music video I want some real action shit like burning buildings and police chases not some weak ben winston shit                    \n",
       "1341  like for the music video I want some real action shit like burning buildings and police chases not some weak ben winston shit                    \n",
       "6060  that horrible sinking feeling when youÛªve been at home on your phone for a while and you realise its been on 3G this whole time                \n",
       "6029  that horrible sinking feeling when youÛªve been at home on your phone for a while and you realise its been on 3G this whole time                \n",
       "6032  that horrible sinking feeling when youÛªve been at home on your phone for a while and you realise its been on 3G this whole time                \n",
       "\n",
       "      target  \n",
       "4251  0       \n",
       "4259  0       \n",
       "4267  1       \n",
       "1696  1       \n",
       "1717  1       \n",
       "3758  1       \n",
       "3763  1       \n",
       "1234  1       \n",
       "1243  1       \n",
       "4207  0       \n",
       "4202  1       \n",
       "4186  1       \n",
       "7537  1       \n",
       "7027  1       \n",
       "2702  1       \n",
       "6964  1       \n",
       "3551  1       \n",
       "3564  1       \n",
       "3562  1       \n",
       "3574  1       \n",
       "3580  1       \n",
       "1348  1       \n",
       "1193  1       \n",
       "7539  1       \n",
       "7245  1       \n",
       "3356  0       \n",
       "3140  0       \n",
       "1194  1       \n",
       "1327  1       \n",
       "1191  1       \n",
       "1335  1       \n",
       "4252  0       \n",
       "4249  0       \n",
       "1337  1       \n",
       "1214  1       \n",
       "3348  1       \n",
       "2827  1       \n",
       "3362  1       \n",
       "7530  1       \n",
       "3220  1       \n",
       "3225  1       \n",
       "3217  0       \n",
       "4254  0       \n",
       "4265  0       \n",
       "4263  0       \n",
       "4273  1       \n",
       "1357  1       \n",
       "1206  0       \n",
       "1324  0       \n",
       "1196  0       \n",
       "6545  0       \n",
       "6547  1       \n",
       "1126  1       \n",
       "1148  1       \n",
       "7540  1       \n",
       "7070  1       \n",
       "2440  1       \n",
       "2432  1       \n",
       "2430  1       \n",
       "1189  1       \n",
       "1323  0       \n",
       "3303  1       \n",
       "3364  1       \n",
       "7541  1       \n",
       "1695  1       \n",
       "1205  1       \n",
       "1352  1       \n",
       "5680  0       \n",
       "5709  0       \n",
       "2782  1       \n",
       "5018  1       \n",
       "1763  1       \n",
       "4550  1       \n",
       "7065  1       \n",
       "3023  1       \n",
       "1164  1       \n",
       "1615  1       \n",
       "7451  1       \n",
       "7463  1       \n",
       "7467  1       \n",
       "6956  1       \n",
       "2719  1       \n",
       "1213  1       \n",
       "1341  0       \n",
       "6060  1       \n",
       "6029  1       \n",
       "6032  0       "
      ]
     },
     "execution_count": 14,
     "metadata": {},
     "output_type": "execute_result"
    }
   ],
   "source": [
    "# duplicated texts\n",
    "train_df[train_df.duplicated(subset=['text'], keep=False)].sort_values(by='text')"
   ]
  },
  {
   "cell_type": "code",
   "execution_count": 15,
   "metadata": {
    "ExecuteTime": {
     "end_time": "2021-04-25T23:03:56.513310Z",
     "start_time": "2021-04-25T23:03:56.486293Z"
    }
   },
   "outputs": [
    {
     "name": "stdout",
     "output_type": "stream",
     "text": [
      "<class 'pandas.core.frame.DataFrame'>\n",
      "RangeIndex: 7543 entries, 0 to 7542\n",
      "Data columns (total 5 columns):\n",
      " #   Column    Non-Null Count  Dtype \n",
      "---  ------    --------------  ----- \n",
      " 0   id        7543 non-null   int64 \n",
      " 1   keyword   7482 non-null   object\n",
      " 2   location  5057 non-null   object\n",
      " 3   text      7543 non-null   object\n",
      " 4   target    7543 non-null   int64 \n",
      "dtypes: int64(2), object(3)\n",
      "memory usage: 294.8+ KB\n"
     ]
    }
   ],
   "source": [
    "train_df.info()"
   ]
  },
  {
   "cell_type": "code",
   "execution_count": 16,
   "metadata": {
    "ExecuteTime": {
     "end_time": "2021-04-25T23:03:56.608060Z",
     "start_time": "2021-04-25T23:03:56.515306Z"
    }
   },
   "outputs": [
    {
     "data": {
      "image/png": "[encoded data removed]",
      "text/plain": [
       "<Figure size 432x288 with 1 Axes>"
      ]
     },
     "metadata": {},
     "output_type": "display_data"
    }
   ],
   "source": [
    "display_pie_target(train_df)"
   ]
  },
  {
   "cell_type": "markdown",
   "metadata": {},
   "source": [
    "### Exploring raw values of text in each class"
   ]
  },
  {
   "cell_type": "code",
   "execution_count": 17,
   "metadata": {
    "ExecuteTime": {
     "end_time": "2021-04-25T23:03:56.671889Z",
     "start_time": "2021-04-25T23:03:56.611052Z"
    }
   },
   "outputs": [
    {
     "data": {
      "text/html": [
       "<div>\n",
       "<style scoped>\n",
       "    .dataframe tbody tr th:only-of-type {\n",
       "        vertical-align: middle;\n",
       "    }\n",
       "\n",
       "    .dataframe tbody tr th {\n",
       "        vertical-align: top;\n",
       "    }\n",
       "\n",
       "    .dataframe thead th {\n",
       "        text-align: right;\n",
       "    }\n",
       "</style>\n",
       "<table border=\"1\" class=\"dataframe\">\n",
       "  <thead>\n",
       "    <tr style=\"text-align: right;\">\n",
       "      <th></th>\n",
       "      <th>id</th>\n",
       "      <th>keyword</th>\n",
       "      <th>location</th>\n",
       "      <th>text</th>\n",
       "      <th>target</th>\n",
       "    </tr>\n",
       "  </thead>\n",
       "  <tbody>\n",
       "    <tr>\n",
       "      <th>31</th>\n",
       "      <td>48</td>\n",
       "      <td>ablaze</td>\n",
       "      <td>Birmingham</td>\n",
       "      <td>@bbcmtd Wholesale Markets ablaze http://t.co/lHYXEOHY6C</td>\n",
       "      <td>1</td>\n",
       "    </tr>\n",
       "    <tr>\n",
       "      <th>33</th>\n",
       "      <td>50</td>\n",
       "      <td>ablaze</td>\n",
       "      <td>AFRICA</td>\n",
       "      <td>#AFRICANBAZE: Breaking news:Nigeria flag set ablaze in Aba. http://t.co/2nndBGwyEi</td>\n",
       "      <td>1</td>\n",
       "    </tr>\n",
       "    <tr>\n",
       "      <th>37</th>\n",
       "      <td>55</td>\n",
       "      <td>ablaze</td>\n",
       "      <td>World Wide!!</td>\n",
       "      <td>INEC Office in Abia Set Ablaze - http://t.co/3ImaomknnA</td>\n",
       "      <td>1</td>\n",
       "    </tr>\n",
       "    <tr>\n",
       "      <th>46</th>\n",
       "      <td>66</td>\n",
       "      <td>ablaze</td>\n",
       "      <td>GREENSBORO,NORTH CAROLINA</td>\n",
       "      <td>How the West was burned: Thousands of wildfires ablaze in California alone http://t.co/vl5TBR3wbr</td>\n",
       "      <td>1</td>\n",
       "    </tr>\n",
       "    <tr>\n",
       "      <th>49</th>\n",
       "      <td>73</td>\n",
       "      <td>ablaze</td>\n",
       "      <td>Sheffield Township, Ohio</td>\n",
       "      <td>Deputies: Man shot before Brighton home set ablaze http://t.co/gWNRhMSO8k</td>\n",
       "      <td>1</td>\n",
       "    </tr>\n",
       "    <tr>\n",
       "      <th>50</th>\n",
       "      <td>74</td>\n",
       "      <td>ablaze</td>\n",
       "      <td>India</td>\n",
       "      <td>Man wife get six years jail for setting ablaze niece\\nhttp://t.co/eV1ahOUCZA</td>\n",
       "      <td>1</td>\n",
       "    </tr>\n",
       "    <tr>\n",
       "      <th>52</th>\n",
       "      <td>77</td>\n",
       "      <td>ablaze</td>\n",
       "      <td>Anaheim</td>\n",
       "      <td>Police: Arsonist Deliberately Set Black Church In North CarolinaåÊAblaze http://t.co/pcXarbH9An</td>\n",
       "      <td>1</td>\n",
       "    </tr>\n",
       "  </tbody>\n",
       "</table>\n",
       "</div>"
      ],
      "text/plain": [
       "    id keyword                   location  \\\n",
       "31  48  ablaze  Birmingham                  \n",
       "33  50  ablaze  AFRICA                      \n",
       "37  55  ablaze  World Wide!!                \n",
       "46  66  ablaze  GREENSBORO,NORTH CAROLINA   \n",
       "49  73  ablaze  Sheffield Township, Ohio    \n",
       "50  74  ablaze  India                       \n",
       "52  77  ablaze  Anaheim                     \n",
       "\n",
       "                                                                                                 text  \\\n",
       "31  @bbcmtd Wholesale Markets ablaze http://t.co/lHYXEOHY6C                                             \n",
       "33  #AFRICANBAZE: Breaking news:Nigeria flag set ablaze in Aba. http://t.co/2nndBGwyEi                  \n",
       "37  INEC Office in Abia Set Ablaze - http://t.co/3ImaomknnA                                             \n",
       "46  How the West was burned: Thousands of wildfires ablaze in California alone http://t.co/vl5TBR3wbr   \n",
       "49  Deputies: Man shot before Brighton home set ablaze http://t.co/gWNRhMSO8k                           \n",
       "50  Man wife get six years jail for setting ablaze niece\\nhttp://t.co/eV1ahOUCZA                        \n",
       "52  Police: Arsonist Deliberately Set Black Church In North CarolinaåÊAblaze http://t.co/pcXarbH9An     \n",
       "\n",
       "    target  \n",
       "31  1       \n",
       "33  1       \n",
       "37  1       \n",
       "46  1       \n",
       "49  1       \n",
       "50  1       \n",
       "52  1       "
      ]
     },
     "execution_count": 17,
     "metadata": {},
     "output_type": "execute_result"
    }
   ],
   "source": [
    "# display disaster rows when no column is null\n",
    "train_df[(train_df.target==1) & train_df.keyword.notna() & train_df.location.notna()][:7]"
   ]
  },
  {
   "cell_type": "code",
   "execution_count": 18,
   "metadata": {
    "ExecuteTime": {
     "end_time": "2021-04-25T23:03:56.702804Z",
     "start_time": "2021-04-25T23:03:56.674879Z"
    }
   },
   "outputs": [
    {
     "data": {
      "text/html": [
       "<div>\n",
       "<style scoped>\n",
       "    .dataframe tbody tr th:only-of-type {\n",
       "        vertical-align: middle;\n",
       "    }\n",
       "\n",
       "    .dataframe tbody tr th {\n",
       "        vertical-align: top;\n",
       "    }\n",
       "\n",
       "    .dataframe thead th {\n",
       "        text-align: right;\n",
       "    }\n",
       "</style>\n",
       "<table border=\"1\" class=\"dataframe\">\n",
       "  <thead>\n",
       "    <tr style=\"text-align: right;\">\n",
       "      <th></th>\n",
       "      <th>id</th>\n",
       "      <th>keyword</th>\n",
       "      <th>location</th>\n",
       "      <th>text</th>\n",
       "      <th>target</th>\n",
       "    </tr>\n",
       "  </thead>\n",
       "  <tbody>\n",
       "    <tr>\n",
       "      <th>32</th>\n",
       "      <td>49</td>\n",
       "      <td>ablaze</td>\n",
       "      <td>Est. September 2012 - Bristol</td>\n",
       "      <td>We always try to bring the heavy. #metal #RT http://t.co/YAo1e0xngw</td>\n",
       "      <td>0</td>\n",
       "    </tr>\n",
       "    <tr>\n",
       "      <th>34</th>\n",
       "      <td>52</td>\n",
       "      <td>ablaze</td>\n",
       "      <td>Philadelphia, PA</td>\n",
       "      <td>Crying out for more! Set me ablaze</td>\n",
       "      <td>0</td>\n",
       "    </tr>\n",
       "    <tr>\n",
       "      <th>35</th>\n",
       "      <td>53</td>\n",
       "      <td>ablaze</td>\n",
       "      <td>London, UK</td>\n",
       "      <td>On plus side LOOK AT THE SKY LAST NIGHT IT WAS ABLAZE http://t.co/qqsmshaJ3N</td>\n",
       "      <td>0</td>\n",
       "    </tr>\n",
       "    <tr>\n",
       "      <th>36</th>\n",
       "      <td>54</td>\n",
       "      <td>ablaze</td>\n",
       "      <td>Pretoria</td>\n",
       "      <td>@PhDSquares #mufc they've built so much hype around new acquisitions but I doubt they will set the EPL ablaze this season.</td>\n",
       "      <td>0</td>\n",
       "    </tr>\n",
       "    <tr>\n",
       "      <th>39</th>\n",
       "      <td>57</td>\n",
       "      <td>ablaze</td>\n",
       "      <td>Paranaque City</td>\n",
       "      <td>Ablaze for you Lord :D</td>\n",
       "      <td>0</td>\n",
       "    </tr>\n",
       "    <tr>\n",
       "      <th>40</th>\n",
       "      <td>59</td>\n",
       "      <td>ablaze</td>\n",
       "      <td>Live On Webcam</td>\n",
       "      <td>Check these out: http://t.co/rOI2NSmEJJ http://t.co/3Tj8ZjiN21 http://t.co/YDUiXEfIpE http://t.co/LxTjc87KLS #nsfw</td>\n",
       "      <td>0</td>\n",
       "    </tr>\n",
       "    <tr>\n",
       "      <th>42</th>\n",
       "      <td>62</td>\n",
       "      <td>ablaze</td>\n",
       "      <td>milky way</td>\n",
       "      <td>Had an awesome time visiting the CFC head office the ancop site and ablaze. Thanks to Tita Vida for taking care of us ??</td>\n",
       "      <td>0</td>\n",
       "    </tr>\n",
       "  </tbody>\n",
       "</table>\n",
       "</div>"
      ],
      "text/plain": [
       "    id keyword                       location  \\\n",
       "32  49  ablaze  Est. September 2012 - Bristol   \n",
       "34  52  ablaze  Philadelphia, PA                \n",
       "35  53  ablaze  London, UK                      \n",
       "36  54  ablaze  Pretoria                        \n",
       "39  57  ablaze  Paranaque City                  \n",
       "40  59  ablaze  Live On Webcam                  \n",
       "42  62  ablaze  milky way                       \n",
       "\n",
       "                                                                                                                          text  \\\n",
       "32  We always try to bring the heavy. #metal #RT http://t.co/YAo1e0xngw                                                          \n",
       "34  Crying out for more! Set me ablaze                                                                                           \n",
       "35  On plus side LOOK AT THE SKY LAST NIGHT IT WAS ABLAZE http://t.co/qqsmshaJ3N                                                 \n",
       "36  @PhDSquares #mufc they've built so much hype around new acquisitions but I doubt they will set the EPL ablaze this season.   \n",
       "39  Ablaze for you Lord :D                                                                                                       \n",
       "40  Check these out: http://t.co/rOI2NSmEJJ http://t.co/3Tj8ZjiN21 http://t.co/YDUiXEfIpE http://t.co/LxTjc87KLS #nsfw           \n",
       "42  Had an awesome time visiting the CFC head office the ancop site and ablaze. Thanks to Tita Vida for taking care of us ??     \n",
       "\n",
       "    target  \n",
       "32  0       \n",
       "34  0       \n",
       "35  0       \n",
       "36  0       \n",
       "39  0       \n",
       "40  0       \n",
       "42  0       "
      ]
     },
     "execution_count": 18,
     "metadata": {},
     "output_type": "execute_result"
    }
   ],
   "source": [
    "# print non-disaster rows when no column is null\n",
    "train_df[(train_df.target==0) & train_df.keyword.notna() & train_df.location.notna()][:7]"
   ]
  },
  {
   "cell_type": "markdown",
   "metadata": {},
   "source": [
    "The same keyboard (such as \"ablaze\") can be in both target classes."
   ]
  },
  {
   "cell_type": "markdown",
   "metadata": {},
   "source": [
    "## 2. Pre-processing"
   ]
  },
  {
   "cell_type": "code",
   "execution_count": 19,
   "metadata": {
    "ExecuteTime": {
     "end_time": "2021-04-25T23:03:58.226988Z",
     "start_time": "2021-04-25T23:03:56.704799Z"
    }
   },
   "outputs": [],
   "source": [
    "import re\n",
    "from nltk.tokenize import TweetTokenizer\n",
    "from nltk.corpus import stopwords\n",
    "from nltk import WordNetLemmatizer\n",
    "import string"
   ]
  },
  {
   "cell_type": "code",
   "execution_count": 20,
   "metadata": {
    "ExecuteTime": {
     "end_time": "2021-04-25T23:03:58.257911Z",
     "start_time": "2021-04-25T23:03:58.228989Z"
    }
   },
   "outputs": [
    {
     "name": "stdout",
     "output_type": "stream",
     "text": [
      "{\"haven't\", 'couldn', 'can', \"mightn't\", 'm', 'there', 'herself', 'does', 'more', 'such', 'on', 'with', 'only', 'doing', 'no', 'what', 'nor', 'ours', 'into', \"shouldn't\", 'if', 'll', 'y', 'had', 'yours', 'have', 'each', 'himself', 'isn', 'this', \"you'd\", 'these', \"needn't\", 'wasn', 'been', 'here', \"hasn't\", \"should've\", 'same', 'mightn', \"aren't\", \"you're\", 'is', 'having', 'am', 'just', 'that', 'doesn', 'off', 'until', 'he', 'itself', 'our', \"weren't\", 'for', \"that'll\", 'but', 'most', 'them', 'ourselves', 'very', 'and', 'any', 'be', 'other', 'again', 'will', 'which', 've', 'its', 'both', 'at', 'under', 'too', 's', 'not', \"couldn't\", 'during', 'haven', 'needn', 't', 'where', 'was', 'a', 'shan', 'shouldn', 'we', 'yourself', 'whom', 'own', 'an', 'him', 'the', 're', 'those', 'weren', 'hers', 'because', \"wouldn't\", 'ain', 'it', 'when', 'once', 'hasn', 'ma', 'how', \"shan't\", 'wouldn', 'now', 'before', \"you've\", 'yourselves', 'below', 'your', 'won', 'being', 'his', 'o', \"she's\", 'my', \"won't\", 'over', 'against', 'their', 'as', 'theirs', 'above', 'out', 'are', 'her', 'd', 'between', \"it's\", 'they', 'why', 'while', 'should', 'i', 'up', 'after', 'do', \"didn't\", 'few', 'further', 'myself', 'or', \"don't\", 'has', \"doesn't\", 'hadn', 'then', 'she', 'me', 'all', 'than', 'were', \"isn't\", \"you'll\", 'didn', 'who', 'in', 'to', 'by', \"hadn't\", 'did', \"wasn't\", 'of', 'about', 'themselves', 'down', 'so', 'some', \"mustn't\", 'you', 'through', 'aren', 'mustn', 'don', 'from'}\n"
     ]
    }
   ],
   "source": [
    "mystopwords = set(sorted(stopwords.words('english')))\n",
    "print(mystopwords)"
   ]
  },
  {
   "cell_type": "code",
   "execution_count": 21,
   "metadata": {
    "ExecuteTime": {
     "end_time": "2021-04-25T23:03:58.272871Z",
     "start_time": "2021-04-25T23:03:58.260905Z"
    }
   },
   "outputs": [
    {
     "name": "stdout",
     "output_type": "stream",
     "text": [
      "179\n",
      "193\n"
     ]
    }
   ],
   "source": [
    "# adding some contractions to the list of stop words.\n",
    "print(len(mystopwords))\n",
    "mystopwords.update([\"ain't\", \"i'm\", \"they've\", \"they're\", \"he's\", \"how's\", \"how're\", \"that's\", \"what's\", \"when's\", \n",
    "                    \"where's\", \"we're\", \"we'll\", \"who's\"])\n",
    "print(len(mystopwords))"
   ]
  },
  {
   "cell_type": "code",
   "execution_count": 22,
   "metadata": {
    "ExecuteTime": {
     "end_time": "2021-04-25T23:03:58.304790Z",
     "start_time": "2021-04-25T23:03:58.280851Z"
    }
   },
   "outputs": [],
   "source": [
    "def clean_tweet(text):\n",
    "    tknzr = TweetTokenizer(preserve_case=False, reduce_len=True, strip_handles=True)\n",
    "    punc = string.punctuation # a string of punctuations   '!\"#$%&\\'()*+,-./:;<=>?@[\\\\]^_`{|}~'\n",
    "    #stopw = stopwords.words('english') # a list of English stopwords\n",
    "    stopw = mystopwords\n",
    "    ptrn = '(https://)|(http://)|(www.)'\n",
    "    wnlemm = WordNetLemmatizer()\n",
    "        \n",
    "    tokens = tknzr.tokenize(text) # converts a string to a list of tokens, all lower-case, reduced-lenght, handles are removed\n",
    "    tokens = [word for word in tokens if word not in stopw] # removes all stopwords\n",
    "    tokens = [word for word in tokens if word not in punc] # removes punctuation elements of the array\n",
    "    tokens = [word for word in tokens if not re.match(ptrn, word)] # removes hyperlinks \n",
    "    #tokens = [wnlemm.lemmatize(word) for word in tokens] # lemmetizes\n",
    "    #return(tokens)\n",
    "    \n",
    "    text = ' '.join([wnlemm.lemmatize(word) for word in tokens]) # lemmetizes and concatenates elements \n",
    "    return(text)"
   ]
  },
  {
   "cell_type": "code",
   "execution_count": 23,
   "metadata": {
    "ExecuteTime": {
     "end_time": "2021-04-25T23:04:00.471975Z",
     "start_time": "2021-04-25T23:03:58.312764Z"
    }
   },
   "outputs": [
    {
     "name": "stdout",
     "output_type": "stream",
     "text": [
      "@PhDSquares #mufc  goose geese ain't 20000 they've built sooooo much hype around new - pop-up acquisitions but when's I doubted they will set the EPL ablaze this season. Check these out: WWW.t.co/rOI2NSmEJJ https://t.co/3Tj8ZjiN21 http://t.co/YDUiXEfIpE http://t.co/LxTjc87KLS #nsfw\n"
     ]
    },
    {
     "data": {
      "text/plain": [
       "'#mufc goose goose 2000 built sooo much hype around new pop-up acquisition doubted set epl ablaze season check #nsfw'"
      ]
     },
     "execution_count": 23,
     "metadata": {},
     "output_type": "execute_result"
    }
   ],
   "source": [
    "# testing the function\n",
    "test_text = \"@PhDSquares #mufc  goose geese ain't 20000 they've built sooooo much hype around new - pop-up acquisitions but when's I doubted they will set the EPL ablaze this season. Check these out: WWW.t.co/rOI2NSmEJJ https://t.co/3Tj8ZjiN21 http://t.co/YDUiXEfIpE http://t.co/LxTjc87KLS #nsfw\"\n",
    "print(test_text)\n",
    "clean_tweet(test_text)"
   ]
  },
  {
   "cell_type": "code",
   "execution_count": 24,
   "metadata": {
    "ExecuteTime": {
     "end_time": "2021-04-25T23:04:03.004207Z",
     "start_time": "2021-04-25T23:04:00.475966Z"
    }
   },
   "outputs": [
    {
     "data": {
      "text/html": [
       "<div>\n",
       "<style scoped>\n",
       "    .dataframe tbody tr th:only-of-type {\n",
       "        vertical-align: middle;\n",
       "    }\n",
       "\n",
       "    .dataframe tbody tr th {\n",
       "        vertical-align: top;\n",
       "    }\n",
       "\n",
       "    .dataframe thead th {\n",
       "        text-align: right;\n",
       "    }\n",
       "</style>\n",
       "<table border=\"1\" class=\"dataframe\">\n",
       "  <thead>\n",
       "    <tr style=\"text-align: right;\">\n",
       "      <th></th>\n",
       "      <th>id</th>\n",
       "      <th>keyword</th>\n",
       "      <th>location</th>\n",
       "      <th>text</th>\n",
       "      <th>target</th>\n",
       "      <th>cleaned_text</th>\n",
       "    </tr>\n",
       "  </thead>\n",
       "  <tbody>\n",
       "    <tr>\n",
       "      <th>0</th>\n",
       "      <td>1</td>\n",
       "      <td>NaN</td>\n",
       "      <td>NaN</td>\n",
       "      <td>Our Deeds are the Reason of this #earthquake May ALLAH Forgive us all</td>\n",
       "      <td>1</td>\n",
       "      <td>deed reason #earthquake may allah forgive u</td>\n",
       "    </tr>\n",
       "    <tr>\n",
       "      <th>1</th>\n",
       "      <td>4</td>\n",
       "      <td>NaN</td>\n",
       "      <td>NaN</td>\n",
       "      <td>Forest fire near La Ronge Sask. Canada</td>\n",
       "      <td>1</td>\n",
       "      <td>forest fire near la ronge sask canada</td>\n",
       "    </tr>\n",
       "    <tr>\n",
       "      <th>2</th>\n",
       "      <td>5</td>\n",
       "      <td>NaN</td>\n",
       "      <td>NaN</td>\n",
       "      <td>All residents asked to 'shelter in place' are being notified by officers. No other evacuation or shelter in place orders are expected</td>\n",
       "      <td>1</td>\n",
       "      <td>resident asked shelter place notified officer evacuation shelter place order expected</td>\n",
       "    </tr>\n",
       "  </tbody>\n",
       "</table>\n",
       "</div>"
      ],
      "text/plain": [
       "   id keyword location  \\\n",
       "0  1   NaN     NaN       \n",
       "1  4   NaN     NaN       \n",
       "2  5   NaN     NaN       \n",
       "\n",
       "                                                                                                                                    text  \\\n",
       "0  Our Deeds are the Reason of this #earthquake May ALLAH Forgive us all                                                                   \n",
       "1  Forest fire near La Ronge Sask. Canada                                                                                                  \n",
       "2  All residents asked to 'shelter in place' are being notified by officers. No other evacuation or shelter in place orders are expected   \n",
       "\n",
       "   target  \\\n",
       "0  1        \n",
       "1  1        \n",
       "2  1        \n",
       "\n",
       "                                                                            cleaned_text  \n",
       "0  deed reason #earthquake may allah forgive u                                            \n",
       "1  forest fire near la ronge sask canada                                                  \n",
       "2  resident asked shelter place notified officer evacuation shelter place order expected  "
      ]
     },
     "execution_count": 24,
     "metadata": {},
     "output_type": "execute_result"
    }
   ],
   "source": [
    "# adding the clean text to the dataframe\n",
    "train_df['cleaned_text'] = train_df['text'].apply(lambda x: clean_tweet(x))\n",
    "train_df.head(3)"
   ]
  },
  {
   "cell_type": "code",
   "execution_count": 25,
   "metadata": {
    "ExecuteTime": {
     "end_time": "2021-04-25T23:04:03.035123Z",
     "start_time": "2021-04-25T23:04:03.006203Z"
    }
   },
   "outputs": [
    {
     "data": {
      "text/html": [
       "<div>\n",
       "<style scoped>\n",
       "    .dataframe tbody tr th:only-of-type {\n",
       "        vertical-align: middle;\n",
       "    }\n",
       "\n",
       "    .dataframe tbody tr th {\n",
       "        vertical-align: top;\n",
       "    }\n",
       "\n",
       "    .dataframe thead th {\n",
       "        text-align: right;\n",
       "    }\n",
       "</style>\n",
       "<table border=\"1\" class=\"dataframe\">\n",
       "  <thead>\n",
       "    <tr style=\"text-align: right;\">\n",
       "      <th></th>\n",
       "      <th>id</th>\n",
       "      <th>keyword</th>\n",
       "      <th>location</th>\n",
       "      <th>text</th>\n",
       "      <th>target</th>\n",
       "      <th>cleaned_text</th>\n",
       "    </tr>\n",
       "  </thead>\n",
       "  <tbody>\n",
       "    <tr>\n",
       "      <th>31</th>\n",
       "      <td>48</td>\n",
       "      <td>ablaze</td>\n",
       "      <td>Birmingham</td>\n",
       "      <td>@bbcmtd Wholesale Markets ablaze http://t.co/lHYXEOHY6C</td>\n",
       "      <td>1</td>\n",
       "      <td>wholesale market ablaze</td>\n",
       "    </tr>\n",
       "    <tr>\n",
       "      <th>32</th>\n",
       "      <td>49</td>\n",
       "      <td>ablaze</td>\n",
       "      <td>Est. September 2012 - Bristol</td>\n",
       "      <td>We always try to bring the heavy. #metal #RT http://t.co/YAo1e0xngw</td>\n",
       "      <td>0</td>\n",
       "      <td>always try bring heavy #metal #rt</td>\n",
       "    </tr>\n",
       "    <tr>\n",
       "      <th>33</th>\n",
       "      <td>50</td>\n",
       "      <td>ablaze</td>\n",
       "      <td>AFRICA</td>\n",
       "      <td>#AFRICANBAZE: Breaking news:Nigeria flag set ablaze in Aba. http://t.co/2nndBGwyEi</td>\n",
       "      <td>1</td>\n",
       "      <td>#africanbaze breaking news nigeria flag set ablaze aba</td>\n",
       "    </tr>\n",
       "    <tr>\n",
       "      <th>34</th>\n",
       "      <td>52</td>\n",
       "      <td>ablaze</td>\n",
       "      <td>Philadelphia, PA</td>\n",
       "      <td>Crying out for more! Set me ablaze</td>\n",
       "      <td>0</td>\n",
       "      <td>cry set ablaze</td>\n",
       "    </tr>\n",
       "    <tr>\n",
       "      <th>35</th>\n",
       "      <td>53</td>\n",
       "      <td>ablaze</td>\n",
       "      <td>London, UK</td>\n",
       "      <td>On plus side LOOK AT THE SKY LAST NIGHT IT WAS ABLAZE http://t.co/qqsmshaJ3N</td>\n",
       "      <td>0</td>\n",
       "      <td>plus side look sky last night ablaze</td>\n",
       "    </tr>\n",
       "  </tbody>\n",
       "</table>\n",
       "</div>"
      ],
      "text/plain": [
       "    id keyword                       location  \\\n",
       "31  48  ablaze  Birmingham                      \n",
       "32  49  ablaze  Est. September 2012 - Bristol   \n",
       "33  50  ablaze  AFRICA                          \n",
       "34  52  ablaze  Philadelphia, PA                \n",
       "35  53  ablaze  London, UK                      \n",
       "\n",
       "                                                                                  text  \\\n",
       "31  @bbcmtd Wholesale Markets ablaze http://t.co/lHYXEOHY6C                              \n",
       "32  We always try to bring the heavy. #metal #RT http://t.co/YAo1e0xngw                  \n",
       "33  #AFRICANBAZE: Breaking news:Nigeria flag set ablaze in Aba. http://t.co/2nndBGwyEi   \n",
       "34  Crying out for more! Set me ablaze                                                   \n",
       "35  On plus side LOOK AT THE SKY LAST NIGHT IT WAS ABLAZE http://t.co/qqsmshaJ3N         \n",
       "\n",
       "    target                                            cleaned_text  \n",
       "31  1       wholesale market ablaze                                 \n",
       "32  0       always try bring heavy #metal #rt                       \n",
       "33  1       #africanbaze breaking news nigeria flag set ablaze aba  \n",
       "34  0       cry set ablaze                                          \n",
       "35  0       plus side look sky last night ablaze                    "
      ]
     },
     "execution_count": 25,
     "metadata": {},
     "output_type": "execute_result"
    }
   ],
   "source": [
    "train_df.dropna(subset=['location']).head()"
   ]
  },
  {
   "cell_type": "code",
   "execution_count": 26,
   "metadata": {
    "ExecuteTime": {
     "end_time": "2021-04-25T23:04:03.066040Z",
     "start_time": "2021-04-25T23:04:03.038117Z"
    }
   },
   "outputs": [
    {
     "data": {
      "text/plain": [
       "(3342, 222)"
      ]
     },
     "execution_count": 26,
     "metadata": {},
     "output_type": "execute_result"
    }
   ],
   "source": [
    "len(train_df.location.unique()), len(train_df.keyword.unique())"
   ]
  },
  {
   "cell_type": "markdown",
   "metadata": {
    "ExecuteTime": {
     "end_time": "2021-04-22T16:21:54.070180Z",
     "start_time": "2021-04-22T16:21:54.057221Z"
    }
   },
   "source": [
    "#### Future plan\n",
    "- preprocessing location and keyword features"
   ]
  },
  {
   "cell_type": "markdown",
   "metadata": {},
   "source": [
    "### Vectorizing"
   ]
  },
  {
   "cell_type": "code",
   "execution_count": 27,
   "metadata": {
    "ExecuteTime": {
     "end_time": "2021-04-25T23:04:03.097956Z",
     "start_time": "2021-04-25T23:04:03.069040Z"
    }
   },
   "outputs": [],
   "source": [
    "from sklearn.feature_extraction.text import TfidfVectorizer"
   ]
  },
  {
   "cell_type": "code",
   "execution_count": 28,
   "metadata": {
    "ExecuteTime": {
     "end_time": "2021-04-25T23:04:03.921183Z",
     "start_time": "2021-04-25T23:04:03.105937Z"
    }
   },
   "outputs": [
    {
     "data": {
      "text/plain": [
       "(7543, 50000)"
      ]
     },
     "execution_count": 28,
     "metadata": {},
     "output_type": "execute_result"
    }
   ],
   "source": [
    "vectorizer = TfidfVectorizer(ngram_range=(1,3), max_features=50000)\n",
    "X_tfidf = vectorizer.fit_transform(train_df['cleaned_text'])\n",
    "\n",
    "X_vectorized = pd.DataFrame(X_tfidf.toarray())\n",
    "X_vectorized.columns = vectorizer.get_feature_names()\n",
    "X_vectorized.shape"
   ]
  },
  {
   "cell_type": "code",
   "execution_count": 29,
   "metadata": {
    "ExecuteTime": {
     "end_time": "2021-04-25T23:04:03.982621Z",
     "start_time": "2021-04-25T23:04:03.924175Z"
    }
   },
   "outputs": [
    {
     "data": {
      "text/html": [
       "<div>\n",
       "<style scoped>\n",
       "    .dataframe tbody tr th:only-of-type {\n",
       "        vertical-align: middle;\n",
       "    }\n",
       "\n",
       "    .dataframe tbody tr th {\n",
       "        vertical-align: top;\n",
       "    }\n",
       "\n",
       "    .dataframe thead th {\n",
       "        text-align: right;\n",
       "    }\n",
       "</style>\n",
       "<table border=\"1\" class=\"dataframe\">\n",
       "  <thead>\n",
       "    <tr style=\"text-align: right;\">\n",
       "      <th></th>\n",
       "      <th>00</th>\n",
       "      <th>00 11</th>\n",
       "      <th>00 11 16</th>\n",
       "      <th>00 52</th>\n",
       "      <th>00 52 25</th>\n",
       "      <th>00 ep</th>\n",
       "      <th>00 pm</th>\n",
       "      <th>00 pm 06</th>\n",
       "      <th>000</th>\n",
       "      <th>000 riot</th>\n",
       "      <th>...</th>\n",
       "      <th>ûóher upper</th>\n",
       "      <th>ûóher upper arm</th>\n",
       "      <th>ûókody</th>\n",
       "      <th>ûókody vine</th>\n",
       "      <th>ûónegligence</th>\n",
       "      <th>ûónegligence firework</th>\n",
       "      <th>ûónegligence firework explosion</th>\n",
       "      <th>ûótech</th>\n",
       "      <th>ûótech business</th>\n",
       "      <th>ûówe</th>\n",
       "    </tr>\n",
       "  </thead>\n",
       "  <tbody>\n",
       "    <tr>\n",
       "      <th>0</th>\n",
       "      <td>0.0</td>\n",
       "      <td>0.0</td>\n",
       "      <td>0.0</td>\n",
       "      <td>0.0</td>\n",
       "      <td>0.0</td>\n",
       "      <td>0.0</td>\n",
       "      <td>0.0</td>\n",
       "      <td>0.0</td>\n",
       "      <td>0.000000</td>\n",
       "      <td>0.0</td>\n",
       "      <td>...</td>\n",
       "      <td>0.0</td>\n",
       "      <td>0.0</td>\n",
       "      <td>0.0</td>\n",
       "      <td>0.0</td>\n",
       "      <td>0.0</td>\n",
       "      <td>0.0</td>\n",
       "      <td>0.0</td>\n",
       "      <td>0.0</td>\n",
       "      <td>0.0</td>\n",
       "      <td>0.0</td>\n",
       "    </tr>\n",
       "    <tr>\n",
       "      <th>1</th>\n",
       "      <td>0.0</td>\n",
       "      <td>0.0</td>\n",
       "      <td>0.0</td>\n",
       "      <td>0.0</td>\n",
       "      <td>0.0</td>\n",
       "      <td>0.0</td>\n",
       "      <td>0.0</td>\n",
       "      <td>0.0</td>\n",
       "      <td>0.000000</td>\n",
       "      <td>0.0</td>\n",
       "      <td>...</td>\n",
       "      <td>0.0</td>\n",
       "      <td>0.0</td>\n",
       "      <td>0.0</td>\n",
       "      <td>0.0</td>\n",
       "      <td>0.0</td>\n",
       "      <td>0.0</td>\n",
       "      <td>0.0</td>\n",
       "      <td>0.0</td>\n",
       "      <td>0.0</td>\n",
       "      <td>0.0</td>\n",
       "    </tr>\n",
       "    <tr>\n",
       "      <th>2</th>\n",
       "      <td>0.0</td>\n",
       "      <td>0.0</td>\n",
       "      <td>0.0</td>\n",
       "      <td>0.0</td>\n",
       "      <td>0.0</td>\n",
       "      <td>0.0</td>\n",
       "      <td>0.0</td>\n",
       "      <td>0.0</td>\n",
       "      <td>0.000000</td>\n",
       "      <td>0.0</td>\n",
       "      <td>...</td>\n",
       "      <td>0.0</td>\n",
       "      <td>0.0</td>\n",
       "      <td>0.0</td>\n",
       "      <td>0.0</td>\n",
       "      <td>0.0</td>\n",
       "      <td>0.0</td>\n",
       "      <td>0.0</td>\n",
       "      <td>0.0</td>\n",
       "      <td>0.0</td>\n",
       "      <td>0.0</td>\n",
       "    </tr>\n",
       "    <tr>\n",
       "      <th>3</th>\n",
       "      <td>0.0</td>\n",
       "      <td>0.0</td>\n",
       "      <td>0.0</td>\n",
       "      <td>0.0</td>\n",
       "      <td>0.0</td>\n",
       "      <td>0.0</td>\n",
       "      <td>0.0</td>\n",
       "      <td>0.0</td>\n",
       "      <td>0.253045</td>\n",
       "      <td>0.0</td>\n",
       "      <td>...</td>\n",
       "      <td>0.0</td>\n",
       "      <td>0.0</td>\n",
       "      <td>0.0</td>\n",
       "      <td>0.0</td>\n",
       "      <td>0.0</td>\n",
       "      <td>0.0</td>\n",
       "      <td>0.0</td>\n",
       "      <td>0.0</td>\n",
       "      <td>0.0</td>\n",
       "      <td>0.0</td>\n",
       "    </tr>\n",
       "    <tr>\n",
       "      <th>4</th>\n",
       "      <td>0.0</td>\n",
       "      <td>0.0</td>\n",
       "      <td>0.0</td>\n",
       "      <td>0.0</td>\n",
       "      <td>0.0</td>\n",
       "      <td>0.0</td>\n",
       "      <td>0.0</td>\n",
       "      <td>0.0</td>\n",
       "      <td>0.000000</td>\n",
       "      <td>0.0</td>\n",
       "      <td>...</td>\n",
       "      <td>0.0</td>\n",
       "      <td>0.0</td>\n",
       "      <td>0.0</td>\n",
       "      <td>0.0</td>\n",
       "      <td>0.0</td>\n",
       "      <td>0.0</td>\n",
       "      <td>0.0</td>\n",
       "      <td>0.0</td>\n",
       "      <td>0.0</td>\n",
       "      <td>0.0</td>\n",
       "    </tr>\n",
       "  </tbody>\n",
       "</table>\n",
       "<p>5 rows × 50000 columns</p>\n",
       "</div>"
      ],
      "text/plain": [
       "    00  00 11  00 11 16  00 52  00 52 25  00 ep  00 pm  00 pm 06       000  \\\n",
       "0  0.0  0.0    0.0       0.0    0.0       0.0    0.0    0.0       0.000000   \n",
       "1  0.0  0.0    0.0       0.0    0.0       0.0    0.0    0.0       0.000000   \n",
       "2  0.0  0.0    0.0       0.0    0.0       0.0    0.0    0.0       0.000000   \n",
       "3  0.0  0.0    0.0       0.0    0.0       0.0    0.0    0.0       0.253045   \n",
       "4  0.0  0.0    0.0       0.0    0.0       0.0    0.0    0.0       0.000000   \n",
       "\n",
       "   000 riot  ...  ûóher upper  ûóher upper arm  ûókody  ûókody vine  \\\n",
       "0  0.0       ...  0.0          0.0              0.0     0.0           \n",
       "1  0.0       ...  0.0          0.0              0.0     0.0           \n",
       "2  0.0       ...  0.0          0.0              0.0     0.0           \n",
       "3  0.0       ...  0.0          0.0              0.0     0.0           \n",
       "4  0.0       ...  0.0          0.0              0.0     0.0           \n",
       "\n",
       "   ûónegligence  ûónegligence firework  ûónegligence firework explosion  \\\n",
       "0  0.0           0.0                    0.0                               \n",
       "1  0.0           0.0                    0.0                               \n",
       "2  0.0           0.0                    0.0                               \n",
       "3  0.0           0.0                    0.0                               \n",
       "4  0.0           0.0                    0.0                               \n",
       "\n",
       "   ûótech  ûótech business  ûówe  \n",
       "0  0.0     0.0              0.0   \n",
       "1  0.0     0.0              0.0   \n",
       "2  0.0     0.0              0.0   \n",
       "3  0.0     0.0              0.0   \n",
       "4  0.0     0.0              0.0   \n",
       "\n",
       "[5 rows x 50000 columns]"
      ]
     },
     "execution_count": 29,
     "metadata": {},
     "output_type": "execute_result"
    }
   ],
   "source": [
    "X_vectorized.head()"
   ]
  },
  {
   "cell_type": "markdown",
   "metadata": {},
   "source": [
    "## 3. Feature engineering\n",
    "### Feature creation:"
   ]
  },
  {
   "cell_type": "code",
   "execution_count": 30,
   "metadata": {
    "ExecuteTime": {
     "end_time": "2021-04-25T23:04:04.061073Z",
     "start_time": "2021-04-25T23:04:03.984617Z"
    }
   },
   "outputs": [],
   "source": [
    "from textblob import TextBlob"
   ]
  },
  {
   "cell_type": "code",
   "execution_count": 31,
   "metadata": {
    "ExecuteTime": {
     "end_time": "2021-04-25T23:04:04.184738Z",
     "start_time": "2021-04-25T23:04:04.065059Z"
    }
   },
   "outputs": [
    {
     "data": {
      "text/html": [
       "<div>\n",
       "<style scoped>\n",
       "    .dataframe tbody tr th:only-of-type {\n",
       "        vertical-align: middle;\n",
       "    }\n",
       "\n",
       "    .dataframe tbody tr th {\n",
       "        vertical-align: top;\n",
       "    }\n",
       "\n",
       "    .dataframe thead th {\n",
       "        text-align: right;\n",
       "    }\n",
       "</style>\n",
       "<table border=\"1\" class=\"dataframe\">\n",
       "  <thead>\n",
       "    <tr style=\"text-align: right;\">\n",
       "      <th></th>\n",
       "      <th>id</th>\n",
       "      <th>keyword</th>\n",
       "      <th>location</th>\n",
       "      <th>text</th>\n",
       "      <th>target</th>\n",
       "      <th>cleaned_text</th>\n",
       "      <th>has_link</th>\n",
       "    </tr>\n",
       "  </thead>\n",
       "  <tbody>\n",
       "    <tr>\n",
       "      <th>0</th>\n",
       "      <td>1</td>\n",
       "      <td>NaN</td>\n",
       "      <td>NaN</td>\n",
       "      <td>Our Deeds are the Reason of this #earthquake May ALLAH Forgive us all</td>\n",
       "      <td>1</td>\n",
       "      <td>deed reason #earthquake may allah forgive u</td>\n",
       "      <td>0</td>\n",
       "    </tr>\n",
       "    <tr>\n",
       "      <th>1</th>\n",
       "      <td>4</td>\n",
       "      <td>NaN</td>\n",
       "      <td>NaN</td>\n",
       "      <td>Forest fire near La Ronge Sask. Canada</td>\n",
       "      <td>1</td>\n",
       "      <td>forest fire near la ronge sask canada</td>\n",
       "      <td>0</td>\n",
       "    </tr>\n",
       "    <tr>\n",
       "      <th>2</th>\n",
       "      <td>5</td>\n",
       "      <td>NaN</td>\n",
       "      <td>NaN</td>\n",
       "      <td>All residents asked to 'shelter in place' are being notified by officers. No other evacuation or shelter in place orders are expected</td>\n",
       "      <td>1</td>\n",
       "      <td>resident asked shelter place notified officer evacuation shelter place order expected</td>\n",
       "      <td>0</td>\n",
       "    </tr>\n",
       "  </tbody>\n",
       "</table>\n",
       "</div>"
      ],
      "text/plain": [
       "   id keyword location  \\\n",
       "0  1   NaN     NaN       \n",
       "1  4   NaN     NaN       \n",
       "2  5   NaN     NaN       \n",
       "\n",
       "                                                                                                                                    text  \\\n",
       "0  Our Deeds are the Reason of this #earthquake May ALLAH Forgive us all                                                                   \n",
       "1  Forest fire near La Ronge Sask. Canada                                                                                                  \n",
       "2  All residents asked to 'shelter in place' are being notified by officers. No other evacuation or shelter in place orders are expected   \n",
       "\n",
       "   target  \\\n",
       "0  1        \n",
       "1  1        \n",
       "2  1        \n",
       "\n",
       "                                                                            cleaned_text  \\\n",
       "0  deed reason #earthquake may allah forgive u                                             \n",
       "1  forest fire near la ronge sask canada                                                   \n",
       "2  resident asked shelter place notified officer evacuation shelter place order expected   \n",
       "\n",
       "   has_link  \n",
       "0  0         \n",
       "1  0         \n",
       "2  0         "
      ]
     },
     "execution_count": 31,
     "metadata": {},
     "output_type": "execute_result"
    }
   ],
   "source": [
    "# creating a new feature to show if a tweet contains huperlink or not\n",
    "ptrn = '(https://)|(http://)|(www.)'\n",
    "train_df['has_link'] = train_df['text'].apply(lambda x: 1 if re.search(ptrn, x, re.IGNORECASE) else 0)\n",
    "train_df.head(3)"
   ]
  },
  {
   "cell_type": "code",
   "execution_count": 32,
   "metadata": {
    "ExecuteTime": {
     "end_time": "2021-04-25T23:04:04.199696Z",
     "start_time": "2021-04-25T23:04:04.186731Z"
    }
   },
   "outputs": [
    {
     "data": {
      "text/plain": [
       "1    3956\n",
       "0    3587\n",
       "Name: has_link, dtype: int64"
      ]
     },
     "execution_count": 32,
     "metadata": {},
     "output_type": "execute_result"
    }
   ],
   "source": [
    "train_df['has_link'].value_counts()"
   ]
  },
  {
   "cell_type": "code",
   "execution_count": 33,
   "metadata": {
    "ExecuteTime": {
     "end_time": "2021-04-25T23:04:08.514209Z",
     "start_time": "2021-04-25T23:04:04.201691Z"
    }
   },
   "outputs": [
    {
     "data": {
      "text/html": [
       "<div>\n",
       "<style scoped>\n",
       "    .dataframe tbody tr th:only-of-type {\n",
       "        vertical-align: middle;\n",
       "    }\n",
       "\n",
       "    .dataframe tbody tr th {\n",
       "        vertical-align: top;\n",
       "    }\n",
       "\n",
       "    .dataframe thead th {\n",
       "        text-align: right;\n",
       "    }\n",
       "</style>\n",
       "<table border=\"1\" class=\"dataframe\">\n",
       "  <thead>\n",
       "    <tr style=\"text-align: right;\">\n",
       "      <th></th>\n",
       "      <th>id</th>\n",
       "      <th>keyword</th>\n",
       "      <th>location</th>\n",
       "      <th>text</th>\n",
       "      <th>target</th>\n",
       "      <th>cleaned_text</th>\n",
       "      <th>has_link</th>\n",
       "      <th>polarity</th>\n",
       "      <th>subjectivity</th>\n",
       "    </tr>\n",
       "  </thead>\n",
       "  <tbody>\n",
       "    <tr>\n",
       "      <th>0</th>\n",
       "      <td>1</td>\n",
       "      <td>NaN</td>\n",
       "      <td>NaN</td>\n",
       "      <td>Our Deeds are the Reason of this #earthquake May ALLAH Forgive us all</td>\n",
       "      <td>1</td>\n",
       "      <td>deed reason #earthquake may allah forgive u</td>\n",
       "      <td>0</td>\n",
       "      <td>0.00000</td>\n",
       "      <td>0.0000</td>\n",
       "    </tr>\n",
       "    <tr>\n",
       "      <th>1</th>\n",
       "      <td>4</td>\n",
       "      <td>NaN</td>\n",
       "      <td>NaN</td>\n",
       "      <td>Forest fire near La Ronge Sask. Canada</td>\n",
       "      <td>1</td>\n",
       "      <td>forest fire near la ronge sask canada</td>\n",
       "      <td>0</td>\n",
       "      <td>0.10000</td>\n",
       "      <td>0.4000</td>\n",
       "    </tr>\n",
       "    <tr>\n",
       "      <th>2</th>\n",
       "      <td>5</td>\n",
       "      <td>NaN</td>\n",
       "      <td>NaN</td>\n",
       "      <td>All residents asked to 'shelter in place' are being notified by officers. No other evacuation or shelter in place orders are expected</td>\n",
       "      <td>1</td>\n",
       "      <td>resident asked shelter place notified officer evacuation shelter place order expected</td>\n",
       "      <td>0</td>\n",
       "      <td>-0.01875</td>\n",
       "      <td>0.3875</td>\n",
       "    </tr>\n",
       "  </tbody>\n",
       "</table>\n",
       "</div>"
      ],
      "text/plain": [
       "   id keyword location  \\\n",
       "0  1   NaN     NaN       \n",
       "1  4   NaN     NaN       \n",
       "2  5   NaN     NaN       \n",
       "\n",
       "                                                                                                                                    text  \\\n",
       "0  Our Deeds are the Reason of this #earthquake May ALLAH Forgive us all                                                                   \n",
       "1  Forest fire near La Ronge Sask. Canada                                                                                                  \n",
       "2  All residents asked to 'shelter in place' are being notified by officers. No other evacuation or shelter in place orders are expected   \n",
       "\n",
       "   target  \\\n",
       "0  1        \n",
       "1  1        \n",
       "2  1        \n",
       "\n",
       "                                                                            cleaned_text  \\\n",
       "0  deed reason #earthquake may allah forgive u                                             \n",
       "1  forest fire near la ronge sask canada                                                   \n",
       "2  resident asked shelter place notified officer evacuation shelter place order expected   \n",
       "\n",
       "   has_link  polarity  subjectivity  \n",
       "0  0         0.00000   0.0000        \n",
       "1  0         0.10000   0.4000        \n",
       "2  0        -0.01875   0.3875        "
      ]
     },
     "execution_count": 33,
     "metadata": {},
     "output_type": "execute_result"
    }
   ],
   "source": [
    "# extracting two new features (polarity and subjectivity) from text\n",
    "train_df['polarity'] = train_df['text'].apply(lambda x: TextBlob(x).polarity)\n",
    "train_df['subjectivity'] = train_df['text'].apply(lambda x: TextBlob(x).subjectivity)\n",
    "train_df.head(3)"
   ]
  },
  {
   "cell_type": "markdown",
   "metadata": {},
   "source": [
    "#### Future plan\n",
    "- creating a feature: the number of tokens in cleaned text\n",
    "- creating a feature: percentage of number of alphabefic letters in text over the text lenght\n",
    "- creating a new feature: the number of hashtags in cleaned text"
   ]
  },
  {
   "cell_type": "markdown",
   "metadata": {},
   "source": [
    "### Feature evaluation"
   ]
  },
  {
   "cell_type": "code",
   "execution_count": 34,
   "metadata": {
    "ExecuteTime": {
     "end_time": "2021-04-25T23:04:08.732793Z",
     "start_time": "2021-04-25T23:04:08.517202Z"
    }
   },
   "outputs": [
    {
     "data": {
      "image/png": "[encoded data removed]",
      "text/plain": [
       "<Figure size 432x288 with 1 Axes>"
      ]
     },
     "metadata": {
      "needs_background": "light"
     },
     "output_type": "display_data"
    }
   ],
   "source": [
    "sns.countplot(data=train_df, x='has_link', hue='target', )\n",
    "plt.title('Distribution of \"has_link\" feature in Target')\n",
    "plt.show()"
   ]
  },
  {
   "cell_type": "code",
   "execution_count": 35,
   "metadata": {
    "ExecuteTime": {
     "end_time": "2021-04-25T23:04:09.944222Z",
     "start_time": "2021-04-25T23:04:08.737778Z"
    }
   },
   "outputs": [
    {
     "data": {
      "image/png": "[encoded data removed]",
      "text/plain": [
       "<Figure size 1080x576 with 1 Axes>"
      ]
     },
     "metadata": {
      "needs_background": "light"
     },
     "output_type": "display_data"
    }
   ],
   "source": [
    "plt.figure(figsize=(15,8))\n",
    "sns.histplot(data=train_df, x='polarity', hue='target')\n",
    "plt.title('Distribution of \"polarity\" feature in Target')\n",
    "plt.show()"
   ]
  },
  {
   "cell_type": "code",
   "execution_count": 36,
   "metadata": {
    "ExecuteTime": {
     "end_time": "2021-04-25T23:04:10.447247Z",
     "start_time": "2021-04-25T23:04:09.954192Z"
    }
   },
   "outputs": [
    {
     "data": {
      "image/png": "[encoded data removed]",
      "text/plain": [
       "<Figure size 1080x576 with 1 Axes>"
      ]
     },
     "metadata": {
      "needs_background": "light"
     },
     "output_type": "display_data"
    }
   ],
   "source": [
    "plt.figure(figsize=(15,8))\n",
    "sns.histplot(data=train_df, x='subjectivity', hue='target')\n",
    "plt.title('Distribution of \"subjectivity\" feature in Target')\n",
    "plt.show()"
   ]
  },
  {
   "cell_type": "markdown",
   "metadata": {},
   "source": [
    "### Feature transformation"
   ]
  },
  {
   "cell_type": "markdown",
   "metadata": {},
   "source": [
    "#### (Box-Cox):"
   ]
  },
  {
   "cell_type": "code",
   "execution_count": 37,
   "metadata": {
    "ExecuteTime": {
     "end_time": "2021-04-25T23:04:10.772345Z",
     "start_time": "2021-04-25T23:04:10.450208Z"
    }
   },
   "outputs": [
    {
     "data": {
      "image/png": "[encoded data removed]",
      "text/plain": [
       "<Figure size 432x288 with 1 Axes>"
      ]
     },
     "metadata": {
      "needs_background": "light"
     },
     "output_type": "display_data"
    }
   ],
   "source": [
    "sns.histplot(train_df['subjectivity'])\n",
    "plt.title('Distribution of subjectivity')\n",
    "plt.show()"
   ]
  },
  {
   "cell_type": "code",
   "execution_count": 38,
   "metadata": {
    "ExecuteTime": {
     "end_time": "2021-04-25T23:04:11.996116Z",
     "start_time": "2021-04-25T23:04:10.775340Z"
    }
   },
   "outputs": [
    {
     "data": {
      "image/png": "[encoded data removed]",
      "text/plain": [
       "<Figure size 432x288 with 1 Axes>"
      ]
     },
     "metadata": {
      "needs_background": "light"
     },
     "output_type": "display_data"
    },
    {
     "data": {
      "image/png": "[encoded data removed]",
      "text/plain": [
       "<Figure size 432x288 with 1 Axes>"
      ]
     },
     "metadata": {
      "needs_background": "light"
     },
     "output_type": "display_data"
    },
    {
     "data": {
      "image/png": "[encoded data removed]",
      "text/plain": [
       "<Figure size 432x288 with 1 Axes>"
      ]
     },
     "metadata": {
      "needs_background": "light"
     },
     "output_type": "display_data"
    },
    {
     "data": {
      "image/png": "[encoded data removed]",
      "text/plain": [
       "<Figure size 432x288 with 1 Axes>"
      ]
     },
     "metadata": {
      "needs_background": "light"
     },
     "output_type": "display_data"
    }
   ],
   "source": [
    "for i in [.5,1,1.5,2]:\n",
    "    sns.histplot(data=train_df['subjectivity']**(1/i))\n",
    "    plt.title('1/ ({})'.format(i))\n",
    "    plt.show()"
   ]
  },
  {
   "cell_type": "markdown",
   "metadata": {
    "ExecuteTime": {
     "end_time": "2021-04-23T15:15:09.723968Z",
     "start_time": "2021-04-23T15:15:09.714962Z"
    }
   },
   "source": [
    "#### Transforming polarity to positive range (preparation for feature selection):"
   ]
  },
  {
   "cell_type": "code",
   "execution_count": 39,
   "metadata": {
    "ExecuteTime": {
     "end_time": "2021-04-25T23:04:12.011034Z",
     "start_time": "2021-04-25T23:04:11.999068Z"
    }
   },
   "outputs": [],
   "source": [
    "train_df['polarity'] = train_df['polarity'] + 1"
   ]
  },
  {
   "cell_type": "code",
   "execution_count": 40,
   "metadata": {
    "ExecuteTime": {
     "end_time": "2021-04-25T23:04:12.684236Z",
     "start_time": "2021-04-25T23:04:12.017019Z"
    }
   },
   "outputs": [
    {
     "data": {
      "image/png": "[encoded data removed]",
      "text/plain": [
       "<Figure size 432x288 with 1 Axes>"
      ]
     },
     "metadata": {
      "needs_background": "light"
     },
     "output_type": "display_data"
    }
   ],
   "source": [
    "sns.histplot(train_df['polarity'])\n",
    "plt.title('Distribution of polarity')\n",
    "plt.show()"
   ]
  },
  {
   "cell_type": "markdown",
   "metadata": {},
   "source": [
    "### Feature Selection (Chi-Square)"
   ]
  },
  {
   "cell_type": "code",
   "execution_count": 41,
   "metadata": {
    "ExecuteTime": {
     "end_time": "2021-04-25T23:04:12.777114Z",
     "start_time": "2021-04-25T23:04:12.687234Z"
    }
   },
   "outputs": [],
   "source": [
    "from sklearn.feature_selection import SelectKBest, chi2"
   ]
  },
  {
   "cell_type": "code",
   "execution_count": 42,
   "metadata": {
    "ExecuteTime": {
     "end_time": "2021-04-25T23:04:22.292228Z",
     "start_time": "2021-04-25T23:04:12.779113Z"
    }
   },
   "outputs": [
    {
     "data": {
      "text/plain": [
       "(7543, 50003)"
      ]
     },
     "execution_count": 42,
     "metadata": {},
     "output_type": "execute_result"
    }
   ],
   "source": [
    "X = pd.concat([train_df['has_link'], train_df['polarity'], train_df['subjectivity'], X_vectorized], axis=1)\n",
    "X.shape"
   ]
  },
  {
   "cell_type": "code",
   "execution_count": 43,
   "metadata": {
    "ExecuteTime": {
     "end_time": "2021-04-25T23:04:22.307192Z",
     "start_time": "2021-04-25T23:04:22.296219Z"
    }
   },
   "outputs": [
    {
     "data": {
      "text/plain": [
       "(7543,)"
      ]
     },
     "execution_count": 43,
     "metadata": {},
     "output_type": "execute_result"
    }
   ],
   "source": [
    "y = train_df['target']\n",
    "y.shape"
   ]
  },
  {
   "cell_type": "code",
   "execution_count": 44,
   "metadata": {
    "ExecuteTime": {
     "end_time": "2021-04-25T23:04:45.416215Z",
     "start_time": "2021-04-25T23:04:22.314172Z"
    }
   },
   "outputs": [
    {
     "data": {
      "text/plain": [
       "(7543, 5000)"
      ]
     },
     "execution_count": 44,
     "metadata": {},
     "output_type": "execute_result"
    }
   ],
   "source": [
    "# selecting 5000 best features with chi-sque\n",
    "skb = SelectKBest(chi2, k=5000)\n",
    "skb.fit_transform(X,y)\n",
    "\n",
    "selected_columns = [X.columns[i] for i in skb.get_support(indices=True)]\n",
    "X = X[selected_columns]\n",
    "X.shape"
   ]
  },
  {
   "cell_type": "code",
   "execution_count": 45,
   "metadata": {
    "ExecuteTime": {
     "end_time": "2021-04-25T23:04:45.447133Z",
     "start_time": "2021-04-25T23:04:45.423198Z"
    }
   },
   "outputs": [
    {
     "name": "stdout",
     "output_type": "stream",
     "text": [
      "Index(['has_link', 'polarity', 'subjectivity', '00', '00 11', '00 pm', '01',\n",
      "       '01 04', '01 04 01', '01 04 utc',\n",
      "       ...\n",
      "       'ûïrichmond coach devastated', 'ûïwhen', 'ûïwhen saw',\n",
      "       'ûïwhen saw coach', 'ûò', 'ûò fire', 'ûò fire lovefood', 'ûò video',\n",
      "       'ûókody', 'ûókody vine'],\n",
      "      dtype='object', length=5000)\n"
     ]
    }
   ],
   "source": [
    "print(X.columns)"
   ]
  },
  {
   "cell_type": "markdown",
   "metadata": {},
   "source": [
    "## 4. Building Classification Models"
   ]
  },
  {
   "cell_type": "code",
   "execution_count": 46,
   "metadata": {
    "ExecuteTime": {
     "end_time": "2021-04-25T23:04:45.478052Z",
     "start_time": "2021-04-25T23:04:45.456108Z"
    }
   },
   "outputs": [],
   "source": [
    "from sklearn.model_selection import KFold, cross_val_predict\n",
    "from sklearn.metrics import confusion_matrix\n",
    "from sklearn.metrics import precision_recall_fscore_support as scores"
   ]
  },
  {
   "cell_type": "code",
   "execution_count": 47,
   "metadata": {
    "ExecuteTime": {
     "end_time": "2021-04-25T23:04:45.493010Z",
     "start_time": "2021-04-25T23:04:45.483036Z"
    }
   },
   "outputs": [],
   "source": [
    "k_fold = KFold(n_splits=10, shuffle=True)"
   ]
  },
  {
   "cell_type": "code",
   "execution_count": 48,
   "metadata": {
    "ExecuteTime": {
     "end_time": "2021-04-25T23:04:45.524925Z",
     "start_time": "2021-04-25T23:04:45.497001Z"
    }
   },
   "outputs": [],
   "source": [
    "def prodcue_result(label, label_pred):\n",
    "    \n",
    "    cmatrix = confusion_matrix(label, label_pred)\n",
    "    print('Confusion matrix:\\n', cmatrix)\n",
    "\n",
    "    precision, recall, fscore, _ = scores(label, label_pred, pos_label=1, average='binary')\n",
    "    accuracy= np.mean(label==label_pred)\n",
    "    print(' Precision: {}\\n Recall:    {} \\n Accuracy:  {}\\n F-Score:   {}\\n'.format(\n",
    "        round(precision,4), round(recall,4), round(accuracy,4), round(fscore,4)))\n",
    "    \n",
    "    #return(cmatrix, precision, recall, accuracy, fscore)"
   ]
  },
  {
   "cell_type": "markdown",
   "metadata": {},
   "source": [
    "### Random Forest:"
   ]
  },
  {
   "cell_type": "code",
   "execution_count": 49,
   "metadata": {
    "ExecuteTime": {
     "end_time": "2021-04-25T23:04:45.681504Z",
     "start_time": "2021-04-25T23:04:45.530908Z"
    }
   },
   "outputs": [],
   "source": [
    "from sklearn.ensemble import RandomForestClassifier"
   ]
  },
  {
   "cell_type": "code",
   "execution_count": 50,
   "metadata": {
    "ExecuteTime": {
     "end_time": "2021-04-25T23:11:56.820905Z",
     "start_time": "2021-04-25T23:04:45.685495Z"
    }
   },
   "outputs": [
    {
     "name": "stdout",
     "output_type": "stream",
     "text": [
      "Confusion matrix:\n",
      " [[3888  425]\n",
      " [1136 2094]]\n",
      " Precision: 0.8313\n",
      " Recall:    0.6483 \n",
      " Accuracy:  0.7931\n",
      " F-Score:   0.7285\n",
      "\n"
     ]
    }
   ],
   "source": [
    "n, d = 150, None\n",
    "rf = RandomForestClassifier(n_estimators=n, max_depth=d, n_jobs=-1)\n",
    "\n",
    "y_predict = cross_val_predict(rf, X, y, cv=k_fold)\n",
    "prodcue_result(y, y_predict)"
   ]
  },
  {
   "cell_type": "code",
   "execution_count": 51,
   "metadata": {
    "ExecuteTime": {
     "end_time": "2021-04-25T23:12:34.766307Z",
     "start_time": "2021-04-25T23:11:56.824865Z"
    }
   },
   "outputs": [
    {
     "name": "stdout",
     "output_type": "stream",
     "text": [
      "Confusion matrix:\n",
      " [[4290   23]\n",
      " [  90 3140]]\n",
      " Precision: 0.9927\n",
      " Recall:    0.9721 \n",
      " Accuracy:  0.985\n",
      " F-Score:   0.9823\n",
      "\n"
     ]
    }
   ],
   "source": [
    "trained_model = rf.fit(X,y)\n",
    "new_predictions = trained_model.predict(X)\n",
    "prodcue_result(y, new_predictions)"
   ]
  },
  {
   "cell_type": "markdown",
   "metadata": {},
   "source": [
    "### Most important features in classification:"
   ]
  },
  {
   "cell_type": "code",
   "execution_count": 52,
   "metadata": {
    "ExecuteTime": {
     "end_time": "2021-04-25T23:12:34.953809Z",
     "start_time": "2021-04-25T23:12:34.771294Z"
    }
   },
   "outputs": [
    {
     "data": {
      "text/plain": [
       "[(0.02929895784777924, 'has_link'),\n",
       " (0.026503953307214154, 'polarity'),\n",
       " (0.022376143671361984, 'subjectivity'),\n",
       " (0.014829854427993287, 'fire'),\n",
       " (0.00855496812288062, 'hiroshima'),\n",
       " (0.006750354812826596, 'storm'),\n",
       " (0.006709502871280975, 'killed'),\n",
       " (0.006045121042579885, 'train'),\n",
       " (0.006040039959712443, 'california'),\n",
       " (0.0058743685845257946, 'flood'),\n",
       " (0.00546892759341156, 'police'),\n",
       " (0.0052948284474699184, 'wildfire'),\n",
       " (0.005108969218244422, 'building'),\n",
       " (0.005065603994976512, 'like'),\n",
       " (0.004861691685352315, 'bombing'),\n",
       " (0.004799631215027799, 'disaster'),\n",
       " (0.004751899423325114, 'crash'),\n",
       " (0.004540165189393385, 'earthquake'),\n",
       " (0.0040549184067466245, 'death'),\n",
       " (0.003948730343821335, 'news')]"
      ]
     },
     "execution_count": 52,
     "metadata": {},
     "output_type": "execute_result"
    }
   ],
   "source": [
    "sorted(zip(rf.feature_importances_, X.columns), reverse=True)[:20]"
   ]
  },
  {
   "cell_type": "code",
   "execution_count": null,
   "metadata": {},
   "outputs": [],
   "source": []
  },
  {
   "cell_type": "markdown",
   "metadata": {},
   "source": [
    "### Saving classifier models:"
   ]
  },
  {
   "cell_type": "code",
   "execution_count": 53,
   "metadata": {
    "ExecuteTime": {
     "end_time": "2021-04-25T23:12:34.983730Z",
     "start_time": "2021-04-25T23:12:34.965779Z"
    }
   },
   "outputs": [],
   "source": [
    "import pickle"
   ]
  },
  {
   "cell_type": "code",
   "execution_count": 54,
   "metadata": {
    "ExecuteTime": {
     "end_time": "2021-04-25T23:12:35.014648Z",
     "start_time": "2021-04-25T23:12:34.993715Z"
    }
   },
   "outputs": [],
   "source": [
    "def save_model(model, filename):\n",
    "    pickle.dump(model, open('model/'+filename, 'wb'))"
   ]
  },
  {
   "cell_type": "code",
   "execution_count": 55,
   "metadata": {
    "ExecuteTime": {
     "end_time": "2021-04-25T23:12:35.250018Z",
     "start_time": "2021-04-25T23:12:35.021629Z"
    }
   },
   "outputs": [],
   "source": [
    "save_model(rf, 'RandomForrest_150_None.sav')"
   ]
  },
  {
   "cell_type": "code",
   "execution_count": null,
   "metadata": {},
   "outputs": [],
   "source": []
  },
  {
   "cell_type": "markdown",
   "metadata": {},
   "source": [
    "## 5. Model Validation "
   ]
  },
  {
   "cell_type": "code",
   "execution_count": 56,
   "metadata": {
    "ExecuteTime": {
     "end_time": "2021-04-25T23:12:35.343767Z",
     "start_time": "2021-04-25T23:12:35.256002Z"
    }
   },
   "outputs": [
    {
     "data": {
      "text/html": [
       "<div>\n",
       "<style scoped>\n",
       "    .dataframe tbody tr th:only-of-type {\n",
       "        vertical-align: middle;\n",
       "    }\n",
       "\n",
       "    .dataframe tbody tr th {\n",
       "        vertical-align: top;\n",
       "    }\n",
       "\n",
       "    .dataframe thead th {\n",
       "        text-align: right;\n",
       "    }\n",
       "</style>\n",
       "<table border=\"1\" class=\"dataframe\">\n",
       "  <thead>\n",
       "    <tr style=\"text-align: right;\">\n",
       "      <th></th>\n",
       "      <th>id</th>\n",
       "      <th>keyword</th>\n",
       "      <th>location</th>\n",
       "      <th>text</th>\n",
       "    </tr>\n",
       "  </thead>\n",
       "  <tbody>\n",
       "    <tr>\n",
       "      <th>0</th>\n",
       "      <td>0</td>\n",
       "      <td>NaN</td>\n",
       "      <td>NaN</td>\n",
       "      <td>Just happened a terrible car crash</td>\n",
       "    </tr>\n",
       "    <tr>\n",
       "      <th>1</th>\n",
       "      <td>2</td>\n",
       "      <td>NaN</td>\n",
       "      <td>NaN</td>\n",
       "      <td>Heard about #earthquake is different cities, stay safe everyone.</td>\n",
       "    </tr>\n",
       "    <tr>\n",
       "      <th>2</th>\n",
       "      <td>3</td>\n",
       "      <td>NaN</td>\n",
       "      <td>NaN</td>\n",
       "      <td>there is a forest fire at spot pond, geese are fleeing across the street, I cannot save them all</td>\n",
       "    </tr>\n",
       "    <tr>\n",
       "      <th>3</th>\n",
       "      <td>9</td>\n",
       "      <td>NaN</td>\n",
       "      <td>NaN</td>\n",
       "      <td>Apocalypse lighting. #Spokane #wildfires</td>\n",
       "    </tr>\n",
       "    <tr>\n",
       "      <th>4</th>\n",
       "      <td>11</td>\n",
       "      <td>NaN</td>\n",
       "      <td>NaN</td>\n",
       "      <td>Typhoon Soudelor kills 28 in China and Taiwan</td>\n",
       "    </tr>\n",
       "  </tbody>\n",
       "</table>\n",
       "</div>"
      ],
      "text/plain": [
       "   id keyword location  \\\n",
       "0  0   NaN     NaN       \n",
       "1  2   NaN     NaN       \n",
       "2  3   NaN     NaN       \n",
       "3  9   NaN     NaN       \n",
       "4  11  NaN     NaN       \n",
       "\n",
       "                                                                                               text  \n",
       "0  Just happened a terrible car crash                                                                \n",
       "1  Heard about #earthquake is different cities, stay safe everyone.                                  \n",
       "2  there is a forest fire at spot pond, geese are fleeing across the street, I cannot save them all  \n",
       "3  Apocalypse lighting. #Spokane #wildfires                                                          \n",
       "4  Typhoon Soudelor kills 28 in China and Taiwan                                                     "
      ]
     },
     "execution_count": 56,
     "metadata": {},
     "output_type": "execute_result"
    }
   ],
   "source": [
    "# uploading test set\n",
    "test_df = pd.read_csv('data/test.csv')\n",
    "test_df.head()"
   ]
  },
  {
   "cell_type": "code",
   "execution_count": 57,
   "metadata": {
    "ExecuteTime": {
     "end_time": "2021-04-25T23:12:35.421561Z",
     "start_time": "2021-04-25T23:12:35.350751Z"
    }
   },
   "outputs": [
    {
     "name": "stdout",
     "output_type": "stream",
     "text": [
      "<class 'pandas.core.frame.DataFrame'>\n",
      "RangeIndex: 3263 entries, 0 to 3262\n",
      "Data columns (total 4 columns):\n",
      " #   Column    Non-Null Count  Dtype \n",
      "---  ------    --------------  ----- \n",
      " 0   id        3263 non-null   int64 \n",
      " 1   keyword   3237 non-null   object\n",
      " 2   location  2158 non-null   object\n",
      " 3   text      3263 non-null   object\n",
      "dtypes: int64(1), object(3)\n",
      "memory usage: 102.1+ KB\n"
     ]
    }
   ],
   "source": [
    "test_df.info()"
   ]
  },
  {
   "cell_type": "markdown",
   "metadata": {},
   "source": [
    "### Transforming test set to vectorized features:"
   ]
  },
  {
   "cell_type": "code",
   "execution_count": 58,
   "metadata": {
    "ExecuteTime": {
     "end_time": "2021-04-25T23:12:35.468435Z",
     "start_time": "2021-04-25T23:12:35.427543Z"
    }
   },
   "outputs": [],
   "source": [
    "def transform_data(dataframe):\n",
    "    data = dataframe.copy()\n",
    "    data['cleaned_text'] = data['text'].apply(lambda x: clean_tweet(x))\n",
    "    #data_vectorized = pd.DataFrame.sparse.from_spmatrix(vectorizer.transform(data['cleaned_text']))\n",
    "    data_vectorized = pd.DataFrame(vectorizer.transform(data['cleaned_text']).toarray())\n",
    "    data_vectorized.columns = vectorizer.get_feature_names()\n",
    "    \n",
    "    ptrn = '(https://)|(http://)|(www.)'\n",
    "    data['has_link'] = data['text'].apply(lambda x: 1 if re.search(ptrn, x, re.IGNORECASE) else 0)\n",
    "    \n",
    "    data['polarity'] = data['text'].apply(lambda x: TextBlob(x).polarity + 1)\n",
    "    data['subjectivity'] = data['text'].apply(lambda x: TextBlob(x).subjectivity)\n",
    "          \n",
    "    data_features = pd.concat([data['has_link'], data['polarity'], data['subjectivity'], data_vectorized], axis=1)\n",
    "    data_features = data_features[selected_columns]\n",
    "        \n",
    "    return(data_features)"
   ]
  },
  {
   "cell_type": "code",
   "execution_count": 59,
   "metadata": {
    "ExecuteTime": {
     "end_time": "2021-04-25T23:12:35.499351Z",
     "start_time": "2021-04-25T23:12:35.479409Z"
    }
   },
   "outputs": [],
   "source": [
    "def validate_model(test_set, model):\n",
    "    testset = transform_data(test_set)\n",
    "    y_prediction = model.predict(testset)\n",
    "    return(y_prediction)"
   ]
  },
  {
   "cell_type": "code",
   "execution_count": 60,
   "metadata": {
    "ExecuteTime": {
     "end_time": "2021-04-25T23:12:49.979008Z",
     "start_time": "2021-04-25T23:12:35.507330Z"
    }
   },
   "outputs": [
    {
     "data": {
      "text/plain": [
       "(3263,)"
      ]
     },
     "execution_count": 60,
     "metadata": {},
     "output_type": "execute_result"
    }
   ],
   "source": [
    "y_pred = validate_model(test_df, rf)\n",
    "y_pred.shape"
   ]
  },
  {
   "cell_type": "code",
   "execution_count": 61,
   "metadata": {
    "ExecuteTime": {
     "end_time": "2021-04-25T23:12:50.041840Z",
     "start_time": "2021-04-25T23:12:49.988981Z"
    }
   },
   "outputs": [
    {
     "data": {
      "text/html": [
       "<div>\n",
       "<style scoped>\n",
       "    .dataframe tbody tr th:only-of-type {\n",
       "        vertical-align: middle;\n",
       "    }\n",
       "\n",
       "    .dataframe tbody tr th {\n",
       "        vertical-align: top;\n",
       "    }\n",
       "\n",
       "    .dataframe thead th {\n",
       "        text-align: right;\n",
       "    }\n",
       "</style>\n",
       "<table border=\"1\" class=\"dataframe\">\n",
       "  <thead>\n",
       "    <tr style=\"text-align: right;\">\n",
       "      <th></th>\n",
       "      <th>id</th>\n",
       "      <th>keyword</th>\n",
       "      <th>location</th>\n",
       "      <th>text</th>\n",
       "      <th>target</th>\n",
       "    </tr>\n",
       "  </thead>\n",
       "  <tbody>\n",
       "    <tr>\n",
       "      <th>0</th>\n",
       "      <td>0</td>\n",
       "      <td>NaN</td>\n",
       "      <td>NaN</td>\n",
       "      <td>Just happened a terrible car crash</td>\n",
       "      <td>0</td>\n",
       "    </tr>\n",
       "    <tr>\n",
       "      <th>1</th>\n",
       "      <td>2</td>\n",
       "      <td>NaN</td>\n",
       "      <td>NaN</td>\n",
       "      <td>Heard about #earthquake is different cities, stay safe everyone.</td>\n",
       "      <td>1</td>\n",
       "    </tr>\n",
       "    <tr>\n",
       "      <th>2</th>\n",
       "      <td>3</td>\n",
       "      <td>NaN</td>\n",
       "      <td>NaN</td>\n",
       "      <td>there is a forest fire at spot pond, geese are fleeing across the street, I cannot save them all</td>\n",
       "      <td>1</td>\n",
       "    </tr>\n",
       "    <tr>\n",
       "      <th>3</th>\n",
       "      <td>9</td>\n",
       "      <td>NaN</td>\n",
       "      <td>NaN</td>\n",
       "      <td>Apocalypse lighting. #Spokane #wildfires</td>\n",
       "      <td>1</td>\n",
       "    </tr>\n",
       "    <tr>\n",
       "      <th>4</th>\n",
       "      <td>11</td>\n",
       "      <td>NaN</td>\n",
       "      <td>NaN</td>\n",
       "      <td>Typhoon Soudelor kills 28 in China and Taiwan</td>\n",
       "      <td>1</td>\n",
       "    </tr>\n",
       "  </tbody>\n",
       "</table>\n",
       "</div>"
      ],
      "text/plain": [
       "   id keyword location  \\\n",
       "0  0   NaN     NaN       \n",
       "1  2   NaN     NaN       \n",
       "2  3   NaN     NaN       \n",
       "3  9   NaN     NaN       \n",
       "4  11  NaN     NaN       \n",
       "\n",
       "                                                                                               text  \\\n",
       "0  Just happened a terrible car crash                                                                 \n",
       "1  Heard about #earthquake is different cities, stay safe everyone.                                   \n",
       "2  there is a forest fire at spot pond, geese are fleeing across the street, I cannot save them all   \n",
       "3  Apocalypse lighting. #Spokane #wildfires                                                           \n",
       "4  Typhoon Soudelor kills 28 in China and Taiwan                                                      \n",
       "\n",
       "   target  \n",
       "0  0       \n",
       "1  1       \n",
       "2  1       \n",
       "3  1       \n",
       "4  1       "
      ]
     },
     "execution_count": 61,
     "metadata": {},
     "output_type": "execute_result"
    }
   ],
   "source": [
    "test_df['target'] = pd.Series(y_pred)\n",
    "test_df.head()"
   ]
  },
  {
   "cell_type": "code",
   "execution_count": 62,
   "metadata": {
    "ExecuteTime": {
     "end_time": "2021-04-25T23:12:50.087716Z",
     "start_time": "2021-04-25T23:12:50.049820Z"
    }
   },
   "outputs": [
    {
     "data": {
      "text/html": [
       "<div>\n",
       "<style scoped>\n",
       "    .dataframe tbody tr th:only-of-type {\n",
       "        vertical-align: middle;\n",
       "    }\n",
       "\n",
       "    .dataframe tbody tr th {\n",
       "        vertical-align: top;\n",
       "    }\n",
       "\n",
       "    .dataframe thead th {\n",
       "        text-align: right;\n",
       "    }\n",
       "</style>\n",
       "<table border=\"1\" class=\"dataframe\">\n",
       "  <thead>\n",
       "    <tr style=\"text-align: right;\">\n",
       "      <th></th>\n",
       "      <th>id</th>\n",
       "      <th>target</th>\n",
       "    </tr>\n",
       "  </thead>\n",
       "  <tbody>\n",
       "    <tr>\n",
       "      <th>0</th>\n",
       "      <td>0</td>\n",
       "      <td>0</td>\n",
       "    </tr>\n",
       "    <tr>\n",
       "      <th>1</th>\n",
       "      <td>2</td>\n",
       "      <td>1</td>\n",
       "    </tr>\n",
       "    <tr>\n",
       "      <th>2</th>\n",
       "      <td>3</td>\n",
       "      <td>1</td>\n",
       "    </tr>\n",
       "    <tr>\n",
       "      <th>3</th>\n",
       "      <td>9</td>\n",
       "      <td>1</td>\n",
       "    </tr>\n",
       "    <tr>\n",
       "      <th>4</th>\n",
       "      <td>11</td>\n",
       "      <td>1</td>\n",
       "    </tr>\n",
       "  </tbody>\n",
       "</table>\n",
       "</div>"
      ],
      "text/plain": [
       "   id  target\n",
       "0  0   0     \n",
       "1  2   1     \n",
       "2  3   1     \n",
       "3  9   1     \n",
       "4  11  1     "
      ]
     },
     "execution_count": 62,
     "metadata": {},
     "output_type": "execute_result"
    }
   ],
   "source": [
    "output = test_df[['id','target']]\n",
    "output.head()"
   ]
  },
  {
   "cell_type": "code",
   "execution_count": 63,
   "metadata": {
    "ExecuteTime": {
     "end_time": "2021-04-25T23:12:50.135595Z",
     "start_time": "2021-04-25T23:12:50.092704Z"
    }
   },
   "outputs": [],
   "source": [
    "output.to_csv('data/submission.csv', index=False)"
   ]
  },
  {
   "cell_type": "code",
   "execution_count": null,
   "metadata": {},
   "outputs": [],
   "source": []
  }
 ],
 "metadata": {
  "kernelspec": {
   "display_name": "Python 3",
   "language": "python",
   "name": "python3"
  },
  "language_info": {
   "codemirror_mode": {
    "name": "ipython",
    "version": 3
   },
   "file_extension": ".py",
   "mimetype": "text/x-python",
   "name": "python",
   "nbconvert_exporter": "python",
   "pygments_lexer": "ipython3",
   "version": "3.7.9"
  }
 },
 "nbformat": 4,
 "nbformat_minor": 4
}
