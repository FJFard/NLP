{
 "cells": [
  {
   "cell_type": "markdown",
   "metadata": {},
   "source": [
    "The original dataset of paper: \"Hate Speech Dataset from a White Supremacy Forum\" (https://www.aclweb.org/anthology/W18-5102/)\n",
    "which can be accessed from: https://github.com/Vicomtech/hate-speech-dataset\n",
    "was preprocced, and I am using it here."
   ]
  },
  {
   "cell_type": "markdown",
   "metadata": {},
   "source": [
    "##  NLP binary classification\n",
    "- dataset: Stromfront. It containes texts in two categories of Hate and Non-Hate. \n",
    "- goal: building hate-speach detection models that can be used on formal documents in english language.\n",
    "- previos preprocessing: dataset was preprocessed partially. Some non-English words detected. I used \"langdetect\" library to remove non-English sentences."
   ]
  },
  {
   "cell_type": "code",
   "execution_count": 6,
   "metadata": {
    "ExecuteTime": {
     "end_time": "2021-04-15T14:50:17.859730Z",
     "start_time": "2021-04-15T14:50:17.838827Z"
    }
   },
   "outputs": [],
   "source": [
    "import pandas as pd\n",
    "import numpy as np\n",
    "from textblob import TextBlob\n",
    "import matplotlib.pyplot as plt\n",
    "import seaborn as sns\n",
    "from IPython.display import clear_output\n",
    "\n",
    "%matplotlib inline"
   ]
  },
  {
   "cell_type": "code",
   "execution_count": 19,
   "metadata": {
    "ExecuteTime": {
     "end_time": "2021-04-15T14:55:02.387372Z",
     "start_time": "2021-04-15T14:55:02.340500Z"
    }
   },
   "outputs": [
    {
     "name": "stdout",
     "output_type": "stream",
     "text": [
      "<class 'pandas.core.frame.DataFrame'>\n",
      "RangeIndex: 9780 entries, 0 to 9779\n",
      "Data columns (total 3 columns):\n",
      " #   Column  Non-Null Count  Dtype \n",
      "---  ------  --------------  ----- \n",
      " 0   text    9780 non-null   object\n",
      " 1   label   9780 non-null   int64 \n",
      " 2   split   9780 non-null   object\n",
      "dtypes: int64(1), object(2)\n",
      "memory usage: 229.3+ KB\n"
     ]
    }
   ],
   "source": [
    "# loading the dataset\n",
    "data = pd.read_csv('Data/stormfront_hate_dataset_clean.csv')\n",
    "# dataset does not have null values\n",
    "data.info()"
   ]
  },
  {
   "cell_type": "code",
   "execution_count": 9,
   "metadata": {
    "ExecuteTime": {
     "end_time": "2021-04-15T14:50:46.588181Z",
     "start_time": "2021-04-15T14:50:46.390339Z"
    }
   },
   "outputs": [
    {
     "data": {
      "image/png": "[encoded data removed]",
      "text/plain": [
       "<Figure size 432x288 with 1 Axes>"
      ]
     },
     "metadata": {},
     "output_type": "display_data"
    }
   ],
   "source": [
    "# dataset is unbalaced. label is binary: 1 indicates hate and 0 indicates non-hate\n",
    "data.groupby(['label']).count()['text'].plot(kind='pie', labels=['NON','HATE'])\n",
    "plt.savefig('Data/label distribution', dpi=300)\n",
    "plt.show()"
   ]
  },
  {
   "cell_type": "code",
   "execution_count": 5,
   "metadata": {
    "ExecuteTime": {
     "end_time": "2021-04-15T14:49:03.792799Z",
     "start_time": "2021-04-15T14:49:03.775844Z"
    }
   },
   "outputs": [
    {
     "data": {
      "text/plain": [
       "label\n",
       "0    8605\n",
       "1    1175\n",
       "Name: text, dtype: int64"
      ]
     },
     "execution_count": 5,
     "metadata": {},
     "output_type": "execute_result"
    }
   ],
   "source": [
    "# number of records in each label\n",
    "data.groupby(['label']).count()['text']"
   ]
  },
  {
   "cell_type": "code",
   "execution_count": 21,
   "metadata": {
    "ExecuteTime": {
     "end_time": "2021-04-15T15:01:15.505224Z",
     "start_time": "2021-04-15T15:01:15.490262Z"
    }
   },
   "outputs": [
    {
     "data": {
      "text/html": [
       "<div>\n",
       "<style scoped>\n",
       "    .dataframe tbody tr th:only-of-type {\n",
       "        vertical-align: middle;\n",
       "    }\n",
       "\n",
       "    .dataframe tbody tr th {\n",
       "        vertical-align: top;\n",
       "    }\n",
       "\n",
       "    .dataframe thead th {\n",
       "        text-align: right;\n",
       "    }\n",
       "</style>\n",
       "<table border=\"1\" class=\"dataframe\">\n",
       "  <thead>\n",
       "    <tr style=\"text-align: right;\">\n",
       "      <th></th>\n",
       "      <th>text</th>\n",
       "      <th>label</th>\n",
       "      <th>split</th>\n",
       "    </tr>\n",
       "  </thead>\n",
       "  <tbody>\n",
       "    <tr>\n",
       "      <th>9775</th>\n",
       "      <td>It is good to keep track of the enemy as well and see what they are saying .</td>\n",
       "      <td>0</td>\n",
       "      <td>test</td>\n",
       "    </tr>\n",
       "    <tr>\n",
       "      <th>9776</th>\n",
       "      <td>Charlton Heston is rolling over in his grave knowing an ape has been elected to the white house .</td>\n",
       "      <td>1</td>\n",
       "      <td>test</td>\n",
       "    </tr>\n",
       "    <tr>\n",
       "      <th>9777</th>\n",
       "      <td>Happy Thanksgiving everyone .</td>\n",
       "      <td>0</td>\n",
       "      <td>test</td>\n",
       "    </tr>\n",
       "    <tr>\n",
       "      <th>9778</th>\n",
       "      <td>I'm reporting here that I have n't seen or heard anything on talk radio or TV that even hints at Jewish supremacist ethnic cleansing of Whites from USA or Europe .</td>\n",
       "      <td>0</td>\n",
       "      <td>test</td>\n",
       "    </tr>\n",
       "    <tr>\n",
       "      <th>9779</th>\n",
       "      <td>Never mind the mess on the floor brother .</td>\n",
       "      <td>0</td>\n",
       "      <td>test</td>\n",
       "    </tr>\n",
       "  </tbody>\n",
       "</table>\n",
       "</div>"
      ],
      "text/plain": [
       "                                                                                                                                                                     text  \\\n",
       "9775  It is good to keep track of the enemy as well and see what they are saying .                                                                                          \n",
       "9776  Charlton Heston is rolling over in his grave knowing an ape has been elected to the white house .                                                                     \n",
       "9777  Happy Thanksgiving everyone .                                                                                                                                         \n",
       "9778  I'm reporting here that I have n't seen or heard anything on talk radio or TV that even hints at Jewish supremacist ethnic cleansing of Whites from USA or Europe .   \n",
       "9779  Never mind the mess on the floor brother .                                                                                                                            \n",
       "\n",
       "      label split  \n",
       "9775  0      test  \n",
       "9776  1      test  \n",
       "9777  0      test  \n",
       "9778  0      test  \n",
       "9779  0      test  "
      ]
     },
     "execution_count": 21,
     "metadata": {},
     "output_type": "execute_result"
    }
   ],
   "source": [
    "#expanding the display width\n",
    "pd.set_option('display.max_colwidth', -1)\n",
    "clear_output()\n",
    "\n",
    "# printing the last records\n",
    "data.tail()"
   ]
  },
  {
   "cell_type": "code",
   "execution_count": 22,
   "metadata": {
    "ExecuteTime": {
     "end_time": "2021-04-15T15:02:22.477391Z",
     "start_time": "2021-04-15T15:02:17.652724Z"
    }
   },
   "outputs": [
    {
     "data": {
      "text/html": [
       "<div>\n",
       "<style scoped>\n",
       "    .dataframe tbody tr th:only-of-type {\n",
       "        vertical-align: middle;\n",
       "    }\n",
       "\n",
       "    .dataframe tbody tr th {\n",
       "        vertical-align: top;\n",
       "    }\n",
       "\n",
       "    .dataframe thead th {\n",
       "        text-align: right;\n",
       "    }\n",
       "</style>\n",
       "<table border=\"1\" class=\"dataframe\">\n",
       "  <thead>\n",
       "    <tr style=\"text-align: right;\">\n",
       "      <th></th>\n",
       "      <th>text</th>\n",
       "      <th>label</th>\n",
       "      <th>split</th>\n",
       "      <th>polarity</th>\n",
       "      <th>subjectivity</th>\n",
       "    </tr>\n",
       "  </thead>\n",
       "  <tbody>\n",
       "    <tr>\n",
       "      <th>9775</th>\n",
       "      <td>It is good to keep track of the enemy as well and see what they are saying .</td>\n",
       "      <td>0</td>\n",
       "      <td>test</td>\n",
       "      <td>0.700</td>\n",
       "      <td>0.600</td>\n",
       "    </tr>\n",
       "    <tr>\n",
       "      <th>9776</th>\n",
       "      <td>Charlton Heston is rolling over in his grave knowing an ape has been elected to the white house .</td>\n",
       "      <td>1</td>\n",
       "      <td>test</td>\n",
       "      <td>0.000</td>\n",
       "      <td>0.000</td>\n",
       "    </tr>\n",
       "    <tr>\n",
       "      <th>9777</th>\n",
       "      <td>Happy Thanksgiving everyone .</td>\n",
       "      <td>0</td>\n",
       "      <td>test</td>\n",
       "      <td>0.800</td>\n",
       "      <td>1.000</td>\n",
       "    </tr>\n",
       "    <tr>\n",
       "      <th>9778</th>\n",
       "      <td>I'm reporting here that I have n't seen or heard anything on talk radio or TV that even hints at Jewish supremacist ethnic cleansing of Whites from USA or Europe .</td>\n",
       "      <td>0</td>\n",
       "      <td>test</td>\n",
       "      <td>0.000</td>\n",
       "      <td>0.000</td>\n",
       "    </tr>\n",
       "    <tr>\n",
       "      <th>9779</th>\n",
       "      <td>Never mind the mess on the floor brother .</td>\n",
       "      <td>0</td>\n",
       "      <td>test</td>\n",
       "      <td>-0.175</td>\n",
       "      <td>0.175</td>\n",
       "    </tr>\n",
       "  </tbody>\n",
       "</table>\n",
       "</div>"
      ],
      "text/plain": [
       "                                                                                                                                                                     text  \\\n",
       "9775  It is good to keep track of the enemy as well and see what they are saying .                                                                                          \n",
       "9776  Charlton Heston is rolling over in his grave knowing an ape has been elected to the white house .                                                                     \n",
       "9777  Happy Thanksgiving everyone .                                                                                                                                         \n",
       "9778  I'm reporting here that I have n't seen or heard anything on talk radio or TV that even hints at Jewish supremacist ethnic cleansing of Whites from USA or Europe .   \n",
       "9779  Never mind the mess on the floor brother .                                                                                                                            \n",
       "\n",
       "      label split  polarity  subjectivity  \n",
       "9775  0      test  0.700     0.600         \n",
       "9776  1      test  0.000     0.000         \n",
       "9777  0      test  0.800     1.000         \n",
       "9778  0      test  0.000     0.000         \n",
       "9779  0      test -0.175     0.175         "
      ]
     },
     "execution_count": 22,
     "metadata": {},
     "output_type": "execute_result"
    }
   ],
   "source": [
    "# extracting two features (polarity and subjectivity) from texts\n",
    "data['polarity'] = data['text'].apply(lambda x: TextBlob(x).polarity)\n",
    "data['subjectivity'] = data['text'].apply(lambda x: TextBlob(x).subjectivity)\n",
    "data.tail()"
   ]
  },
  {
   "cell_type": "code",
   "execution_count": 23,
   "metadata": {
    "ExecuteTime": {
     "end_time": "2021-04-15T15:03:44.467177Z",
     "start_time": "2021-04-15T15:03:44.421301Z"
    }
   },
   "outputs": [
    {
     "data": {
      "text/html": [
       "<div>\n",
       "<style scoped>\n",
       "    .dataframe tbody tr th:only-of-type {\n",
       "        vertical-align: middle;\n",
       "    }\n",
       "\n",
       "    .dataframe tbody tr th {\n",
       "        vertical-align: top;\n",
       "    }\n",
       "\n",
       "    .dataframe thead tr th {\n",
       "        text-align: left;\n",
       "    }\n",
       "\n",
       "    .dataframe thead tr:last-of-type th {\n",
       "        text-align: right;\n",
       "    }\n",
       "</style>\n",
       "<table border=\"1\" class=\"dataframe\">\n",
       "  <thead>\n",
       "    <tr>\n",
       "      <th></th>\n",
       "      <th colspan=\"4\" halign=\"left\">polarity</th>\n",
       "      <th colspan=\"4\" halign=\"left\">subjectivity</th>\n",
       "    </tr>\n",
       "    <tr>\n",
       "      <th></th>\n",
       "      <th>min</th>\n",
       "      <th>max</th>\n",
       "      <th>mean</th>\n",
       "      <th>median</th>\n",
       "      <th>min</th>\n",
       "      <th>max</th>\n",
       "      <th>mean</th>\n",
       "      <th>median</th>\n",
       "    </tr>\n",
       "    <tr>\n",
       "      <th>label</th>\n",
       "      <th></th>\n",
       "      <th></th>\n",
       "      <th></th>\n",
       "      <th></th>\n",
       "      <th></th>\n",
       "      <th></th>\n",
       "      <th></th>\n",
       "      <th></th>\n",
       "    </tr>\n",
       "  </thead>\n",
       "  <tbody>\n",
       "    <tr>\n",
       "      <th>0</th>\n",
       "      <td>-1.0</td>\n",
       "      <td>1.0</td>\n",
       "      <td>0.074363</td>\n",
       "      <td>0.0</td>\n",
       "      <td>0.0</td>\n",
       "      <td>1.0</td>\n",
       "      <td>0.322764</td>\n",
       "      <td>0.300</td>\n",
       "    </tr>\n",
       "    <tr>\n",
       "      <th>1</th>\n",
       "      <td>-1.0</td>\n",
       "      <td>1.0</td>\n",
       "      <td>-0.001099</td>\n",
       "      <td>0.0</td>\n",
       "      <td>0.0</td>\n",
       "      <td>1.0</td>\n",
       "      <td>0.370362</td>\n",
       "      <td>0.375</td>\n",
       "    </tr>\n",
       "  </tbody>\n",
       "</table>\n",
       "</div>"
      ],
      "text/plain": [
       "      polarity                       subjectivity                      \n",
       "           min  max      mean median          min  max      mean median\n",
       "label                                                                  \n",
       "0     -1.0      1.0  0.074363  0.0    0.0          1.0  0.322764  0.300\n",
       "1     -1.0      1.0 -0.001099  0.0    0.0          1.0  0.370362  0.375"
      ]
     },
     "execution_count": 23,
     "metadata": {},
     "output_type": "execute_result"
    }
   ],
   "source": [
    "# assesing the min, max, and mean of recently added features in the dataset\n",
    "data.groupby(['label']).agg({'polarity': [min,max,np.mean,np.median], 'subjectivity':[min,max,np.mean, np.median]})"
   ]
  },
  {
   "cell_type": "code",
   "execution_count": 26,
   "metadata": {
    "ExecuteTime": {
     "end_time": "2021-04-15T15:06:48.321325Z",
     "start_time": "2021-04-15T15:06:47.415745Z"
    }
   },
   "outputs": [
    {
     "data": {
      "image/png": "[encoded data removed]",
      "text/plain": [
       "<Figure size 1080x360 with 1 Axes>"
      ]
     },
     "metadata": {
      "needs_background": "light"
     },
     "output_type": "display_data"
    }
   ],
   "source": [
    "# exploring the distribution of the subjectivity in each category\n",
    "plt.figure(figsize=(15,5))\n",
    "bins = np.linspace(0,1,50)\n",
    "plt.hist(data[data['label']==1]['subjectivity'], bins, alpha=.5, normed=True, label='HATE')\n",
    "plt.hist(data[data['label']==0]['subjectivity'], bins, alpha=.5, normed=True, label='NON')\n",
    "plt.legend(loc='upper right')\n",
    "plt.title('subjectivity distribution')\n",
    "plt.savefig('Data/subjectivity distribution', dpi=300)\n",
    "clear_output()\n",
    "plt.show()"
   ]
  },
  {
   "cell_type": "code",
   "execution_count": 25,
   "metadata": {
    "ExecuteTime": {
     "end_time": "2021-04-15T15:06:16.605033Z",
     "start_time": "2021-04-15T15:06:15.824046Z"
    }
   },
   "outputs": [
    {
     "data": {
      "image/png": "[encoded data removed]",
      "text/plain": [
       "<Figure size 1080x360 with 1 Axes>"
      ]
     },
     "metadata": {
      "needs_background": "light"
     },
     "output_type": "display_data"
    }
   ],
   "source": [
    "# exploring the distribution of the polarity in each category\n",
    "plt.figure(figsize=(15,5))\n",
    "bins = np.linspace(-1,1,50)\n",
    "plt.hist(data[data['label']==1]['polarity'], bins, alpha=.5, normed=True, label='HATE')\n",
    "plt.hist(data[data['label']==0]['polarity'], bins, alpha=.5, normed=True, label='NON')\n",
    "plt.legend(loc='upper right')\n",
    "plt.title('polarity distribution')\n",
    "plt.savefig('Data/polarity distribution', dpi=300)\n",
    "clear_output()\n",
    "plt.show()"
   ]
  },
  {
   "cell_type": "code",
   "execution_count": 29,
   "metadata": {
    "ExecuteTime": {
     "end_time": "2021-04-15T15:15:58.841292Z",
     "start_time": "2021-04-15T15:15:58.726560Z"
    }
   },
   "outputs": [],
   "source": [
    "# since both new features have equal distribution in Hate and Non_Hate categories, I concluded that they are not valuable features.\n",
    "# So, I save the result, but remove them in the following process.\n",
    "data.to_csv('Data/cleaned_stormfront_with_polarity_and_subjectivity.csv', float_format='%.5f', index=False)"
   ]
  },
  {
   "cell_type": "code",
   "execution_count": 30,
   "metadata": {
    "ExecuteTime": {
     "end_time": "2021-04-15T15:17:17.615389Z",
     "start_time": "2021-04-15T15:17:17.587429Z"
    }
   },
   "outputs": [
    {
     "data": {
      "text/html": [
       "<div>\n",
       "<style scoped>\n",
       "    .dataframe tbody tr th:only-of-type {\n",
       "        vertical-align: middle;\n",
       "    }\n",
       "\n",
       "    .dataframe tbody tr th {\n",
       "        vertical-align: top;\n",
       "    }\n",
       "\n",
       "    .dataframe thead th {\n",
       "        text-align: right;\n",
       "    }\n",
       "</style>\n",
       "<table border=\"1\" class=\"dataframe\">\n",
       "  <thead>\n",
       "    <tr style=\"text-align: right;\">\n",
       "      <th></th>\n",
       "      <th>text</th>\n",
       "      <th>label</th>\n",
       "      <th>split</th>\n",
       "    </tr>\n",
       "  </thead>\n",
       "  <tbody>\n",
       "    <tr>\n",
       "      <th>0</th>\n",
       "      <td>I love them to death and would kill anyone that threatened them , but they will be hell when they get older ...</td>\n",
       "      <td>0</td>\n",
       "      <td>train</td>\n",
       "    </tr>\n",
       "    <tr>\n",
       "      <th>1</th>\n",
       "      <td>She could just move to the Christian part of Nigeria where there is no Sharia law .</td>\n",
       "      <td>0</td>\n",
       "      <td>train</td>\n",
       "    </tr>\n",
       "    <tr>\n",
       "      <th>2</th>\n",
       "      <td>Some graduate programs will cater to working professionals and will do the bulk of the classes on line with only one or two days per month actually on campus .</td>\n",
       "      <td>0</td>\n",
       "      <td>train</td>\n",
       "    </tr>\n",
       "  </tbody>\n",
       "</table>\n",
       "</div>"
      ],
      "text/plain": [
       "                                                                                                                                                              text  \\\n",
       "0  I love them to death and would kill anyone that threatened them , but they will be hell when they get older ...                                                   \n",
       "1  She could just move to the Christian part of Nigeria where there is no Sharia law .                                                                               \n",
       "2  Some graduate programs will cater to working professionals and will do the bulk of the classes on line with only one or two days per month actually on campus .   \n",
       "\n",
       "   label  split  \n",
       "0  0      train  \n",
       "1  0      train  \n",
       "2  0      train  "
      ]
     },
     "execution_count": 30,
     "metadata": {},
     "output_type": "execute_result"
    }
   ],
   "source": [
    "data = data.drop(columns=['polarity','subjectivity'])\n",
    "data.head(3)"
   ]
  },
  {
   "cell_type": "code",
   "execution_count": 27,
   "metadata": {
    "ExecuteTime": {
     "end_time": "2021-04-15T15:10:03.785254Z",
     "start_time": "2021-04-15T15:10:03.760323Z"
    }
   },
   "outputs": [
    {
     "data": {
      "text/plain": [
       "split  label\n",
       "test   0        1721\n",
       "       1        235 \n",
       "train  0        6884\n",
       "       1        940 \n",
       "Name: text, dtype: int64"
      ]
     },
     "execution_count": 27,
     "metadata": {},
     "output_type": "execute_result"
    }
   ],
   "source": [
    "# exploring the portions of train and test\n",
    "data.groupby(['split','label'])['text'].count()"
   ]
  },
  {
   "cell_type": "code",
   "execution_count": 28,
   "metadata": {
    "ExecuteTime": {
     "end_time": "2021-04-15T15:12:13.460154Z",
     "start_time": "2021-04-15T15:12:13.437215Z"
    }
   },
   "outputs": [
    {
     "data": {
      "text/plain": [
       "(0.8798568507157464, 0.8798568507157464)"
      ]
     },
     "execution_count": 28,
     "metadata": {},
     "output_type": "execute_result"
    }
   ],
   "source": [
    "# both train and test sets have about 88% of Non-Hate lables\n",
    "1721/(1721+235), 6884/(6884+940)"
   ]
  },
  {
   "cell_type": "code",
   "execution_count": 20,
   "metadata": {
    "ExecuteTime": {
     "end_time": "2021-04-15T14:56:43.080349Z",
     "start_time": "2021-04-15T14:56:42.979618Z"
    }
   },
   "outputs": [
    {
     "data": {
      "image/png": "[encoded data removed]",
      "text/plain": [
       "<Figure size 432x288 with 1 Axes>"
      ]
     },
     "metadata": {},
     "output_type": "display_data"
    }
   ],
   "source": [
    "# portions of testing and training sets \n",
    "data.groupby(['split','label']).count()['text'].plot(kind='pie')\n",
    "plt.show()"
   ]
  },
  {
   "cell_type": "markdown",
   "metadata": {},
   "source": [
    "## feature extraction"
   ]
  },
  {
   "cell_type": "code",
   "execution_count": 31,
   "metadata": {
    "ExecuteTime": {
     "end_time": "2021-04-15T15:17:54.009754Z",
     "start_time": "2021-04-15T15:17:54.006760Z"
    }
   },
   "outputs": [],
   "source": [
    "import nltk\n",
    "import string\n",
    "import re"
   ]
  },
  {
   "cell_type": "code",
   "execution_count": 39,
   "metadata": {
    "ExecuteTime": {
     "end_time": "2021-04-15T15:43:25.444275Z",
     "start_time": "2021-04-15T15:43:25.427284Z"
    }
   },
   "outputs": [],
   "source": [
    "# Cleaning and tokenizing the texts. Dataset was partially cleaned. Yet, some non-english words or symbols showed up in tokens.\n",
    "# Therefore, I decided to update tokenization process with more resitricted rules.\n",
    "\n",
    "def tokenize_text(text):\n",
    "    '''\n",
    "    input: a string (sentence)\n",
    "    output: an array of strings (words)\n",
    "    '''\n",
    "    # nltk stopwords in english\n",
    "    stopwords = nltk.corpus.stopwords.words('english')\n",
    "    # all english words in nltk corpus\n",
    "    eng_words = [w.lower() for w in nltk.corpus.words.words('en')]\n",
    "    ps_stemmer = nltk.PorterStemmer()\n",
    "    \n",
    "    # removing punctuation and convert all leters to lowercase\n",
    "    text = ''.join([letter.lower() for letter in text if letter not in string.punctuation])\n",
    "    words = re.split('\\W', text)\n",
    "    # removing all non-english words\n",
    "    words = [word for word in words if word in eng_words]\n",
    "    # removing english stop words\n",
    "    words = [ps_stemmer.stem(word) for word in words if word not in stopwords]\n",
    "    \n",
    "    return(words)"
   ]
  },
  {
   "cell_type": "code",
   "execution_count": 40,
   "metadata": {
    "ExecuteTime": {
     "end_time": "2021-04-15T15:44:09.841067Z",
     "start_time": "2021-04-15T15:44:07.877888Z"
    }
   },
   "outputs": [
    {
     "name": "stdout",
     "output_type": "stream",
     "text": [
      "0 ['love', 'death', 'would', 'kill', 'anyon', 'hell', 'get', 'older']\n",
      "1 ['could', 'move', 'christian', 'part', 'sharia', 'law']\n",
      "2 ['graduat', 'cater', 'work', 'bulk', 'class', 'line', 'one', 'two', 'day', 'per', 'month', 'actual', 'campu']\n",
      "3 ['total', 'shi']\n",
      "4 ['even', 'rest', 'world', 'dagger', 'readi', 'strike', 'heart', 'still', 'show', 'kind']\n",
      "5 ['nice', 'also']\n",
      "6 ['wisdom', 'come', 'man', 'anoth', 'man', 'anu', 'well', 'made', 'use', 'vagina']\n",
      "7 ['thank']\n",
      "8 ['check', 'around', 'see', 'area', 'within', 'desir', 'field', 'studi']\n",
      "9 ['bloodi', 'object', 'ignor', 'facil', 'one', 'thread', 'pray', 'want', 'god', 'wont', 'count', 'em']\n"
     ]
    }
   ],
   "source": [
    "# testing the tokenize_text function\n",
    "for i in range(10):\n",
    "    tokenz = tokenize_text(data['text'][i])\n",
    "    print(i, tokenz)"
   ]
  },
  {
   "cell_type": "code",
   "execution_count": 41,
   "metadata": {
    "ExecuteTime": {
     "end_time": "2021-04-15T15:44:48.978270Z",
     "start_time": "2021-04-15T15:44:48.969295Z"
    }
   },
   "outputs": [
    {
     "data": {
      "text/plain": [
       "0    I love them to death and would kill anyone that threatened them , but they will be hell when they get older ...                                                \n",
       "1    She could just move to the Christian part of Nigeria where there is no Sharia law .                                                                            \n",
       "2    Some graduate programs will cater to working professionals and will do the bulk of the classes on line with only one or two days per month actually on campus .\n",
       "3    The total was $ 0.75 shy of $ 400 .                                                                                                                            \n",
       "4    Even when the rest of the world has daggers ready to strike at your heart , you still show them kindness ..                                                    \n",
       "5    And nice website also                                                                                                                                          \n",
       "6    And these words of wisdom come from a man that thinks another mans anus as well as his own was made to be used as a vagina :                                   \n",
       "7    Thanks for this .                                                                                                                                              \n",
       "8    You have to check around to see what is avaialble in your area within your desired field of study .                                                            \n",
       "9    Defeats the bloody object of having an ignore facility if one reads the thread , doh , Pray all you want my God wont count ' em                                \n",
       "Name: text, dtype: object"
      ]
     },
     "execution_count": 41,
     "metadata": {},
     "output_type": "execute_result"
    }
   ],
   "source": [
    "# the above is the result of the following sentences\n",
    "data['text'][:10]"
   ]
  },
  {
   "cell_type": "code",
   "execution_count": 42,
   "metadata": {
    "ExecuteTime": {
     "end_time": "2021-04-15T15:46:06.944397Z",
     "start_time": "2021-04-15T15:46:06.931389Z"
    }
   },
   "outputs": [],
   "source": [
    "# uploading the TF-IDF method to vectorize the texts\n",
    "from sklearn.feature_extraction.text import TfidfVectorizer\n",
    "import time"
   ]
  },
  {
   "cell_type": "code",
   "execution_count": 46,
   "metadata": {
    "ExecuteTime": {
     "end_time": "2021-04-15T16:56:32.536018Z",
     "start_time": "2021-04-15T15:56:43.253470Z"
    }
   },
   "outputs": [
    {
     "name": "stdout",
     "output_type": "stream",
     "text": [
      "It took 3589 seconds to vectorize!\n"
     ]
    },
    {
     "data": {
      "text/html": [
       "<div>\n",
       "<style scoped>\n",
       "    .dataframe tbody tr th:only-of-type {\n",
       "        vertical-align: middle;\n",
       "    }\n",
       "\n",
       "    .dataframe tbody tr th {\n",
       "        vertical-align: top;\n",
       "    }\n",
       "\n",
       "    .dataframe thead th {\n",
       "        text-align: right;\n",
       "    }\n",
       "</style>\n",
       "<table border=\"1\" class=\"dataframe\">\n",
       "  <thead>\n",
       "    <tr style=\"text-align: right;\">\n",
       "      <th></th>\n",
       "      <th>ab</th>\n",
       "      <th>abandon</th>\n",
       "      <th>abduct</th>\n",
       "      <th>abhor</th>\n",
       "      <th>abid</th>\n",
       "      <th>abil</th>\n",
       "      <th>abl</th>\n",
       "      <th>aboard</th>\n",
       "      <th>abomin</th>\n",
       "      <th>abort</th>\n",
       "      <th>...</th>\n",
       "      <th>zealot</th>\n",
       "      <th>zero</th>\n",
       "      <th>zimbabw</th>\n",
       "      <th>zionism</th>\n",
       "      <th>zionist</th>\n",
       "      <th>zip</th>\n",
       "      <th>zombi</th>\n",
       "      <th>zone</th>\n",
       "      <th>zoo</th>\n",
       "      <th>zulu</th>\n",
       "    </tr>\n",
       "  </thead>\n",
       "  <tbody>\n",
       "    <tr>\n",
       "      <th>9775</th>\n",
       "      <td>0.0</td>\n",
       "      <td>0.0</td>\n",
       "      <td>0.0</td>\n",
       "      <td>0.0</td>\n",
       "      <td>0.0</td>\n",
       "      <td>0.0</td>\n",
       "      <td>0.0</td>\n",
       "      <td>0.0</td>\n",
       "      <td>0.0</td>\n",
       "      <td>0.0</td>\n",
       "      <td>...</td>\n",
       "      <td>0.0</td>\n",
       "      <td>0.0</td>\n",
       "      <td>0.0</td>\n",
       "      <td>0.0</td>\n",
       "      <td>0.0</td>\n",
       "      <td>0.0</td>\n",
       "      <td>0.0</td>\n",
       "      <td>0.0</td>\n",
       "      <td>0.0</td>\n",
       "      <td>0.0</td>\n",
       "    </tr>\n",
       "    <tr>\n",
       "      <th>9776</th>\n",
       "      <td>0.0</td>\n",
       "      <td>0.0</td>\n",
       "      <td>0.0</td>\n",
       "      <td>0.0</td>\n",
       "      <td>0.0</td>\n",
       "      <td>0.0</td>\n",
       "      <td>0.0</td>\n",
       "      <td>0.0</td>\n",
       "      <td>0.0</td>\n",
       "      <td>0.0</td>\n",
       "      <td>...</td>\n",
       "      <td>0.0</td>\n",
       "      <td>0.0</td>\n",
       "      <td>0.0</td>\n",
       "      <td>0.0</td>\n",
       "      <td>0.0</td>\n",
       "      <td>0.0</td>\n",
       "      <td>0.0</td>\n",
       "      <td>0.0</td>\n",
       "      <td>0.0</td>\n",
       "      <td>0.0</td>\n",
       "    </tr>\n",
       "    <tr>\n",
       "      <th>9777</th>\n",
       "      <td>0.0</td>\n",
       "      <td>0.0</td>\n",
       "      <td>0.0</td>\n",
       "      <td>0.0</td>\n",
       "      <td>0.0</td>\n",
       "      <td>0.0</td>\n",
       "      <td>0.0</td>\n",
       "      <td>0.0</td>\n",
       "      <td>0.0</td>\n",
       "      <td>0.0</td>\n",
       "      <td>...</td>\n",
       "      <td>0.0</td>\n",
       "      <td>0.0</td>\n",
       "      <td>0.0</td>\n",
       "      <td>0.0</td>\n",
       "      <td>0.0</td>\n",
       "      <td>0.0</td>\n",
       "      <td>0.0</td>\n",
       "      <td>0.0</td>\n",
       "      <td>0.0</td>\n",
       "      <td>0.0</td>\n",
       "    </tr>\n",
       "    <tr>\n",
       "      <th>9778</th>\n",
       "      <td>0.0</td>\n",
       "      <td>0.0</td>\n",
       "      <td>0.0</td>\n",
       "      <td>0.0</td>\n",
       "      <td>0.0</td>\n",
       "      <td>0.0</td>\n",
       "      <td>0.0</td>\n",
       "      <td>0.0</td>\n",
       "      <td>0.0</td>\n",
       "      <td>0.0</td>\n",
       "      <td>...</td>\n",
       "      <td>0.0</td>\n",
       "      <td>0.0</td>\n",
       "      <td>0.0</td>\n",
       "      <td>0.0</td>\n",
       "      <td>0.0</td>\n",
       "      <td>0.0</td>\n",
       "      <td>0.0</td>\n",
       "      <td>0.0</td>\n",
       "      <td>0.0</td>\n",
       "      <td>0.0</td>\n",
       "    </tr>\n",
       "    <tr>\n",
       "      <th>9779</th>\n",
       "      <td>0.0</td>\n",
       "      <td>0.0</td>\n",
       "      <td>0.0</td>\n",
       "      <td>0.0</td>\n",
       "      <td>0.0</td>\n",
       "      <td>0.0</td>\n",
       "      <td>0.0</td>\n",
       "      <td>0.0</td>\n",
       "      <td>0.0</td>\n",
       "      <td>0.0</td>\n",
       "      <td>...</td>\n",
       "      <td>0.0</td>\n",
       "      <td>0.0</td>\n",
       "      <td>0.0</td>\n",
       "      <td>0.0</td>\n",
       "      <td>0.0</td>\n",
       "      <td>0.0</td>\n",
       "      <td>0.0</td>\n",
       "      <td>0.0</td>\n",
       "      <td>0.0</td>\n",
       "      <td>0.0</td>\n",
       "    </tr>\n",
       "  </tbody>\n",
       "</table>\n",
       "<p>5 rows × 6270 columns</p>\n",
       "</div>"
      ],
      "text/plain": [
       "       ab  abandon  abduct  abhor  abid  abil  abl  aboard  abomin  abort  \\\n",
       "9775  0.0  0.0      0.0     0.0    0.0   0.0   0.0  0.0     0.0     0.0     \n",
       "9776  0.0  0.0      0.0     0.0    0.0   0.0   0.0  0.0     0.0     0.0     \n",
       "9777  0.0  0.0      0.0     0.0    0.0   0.0   0.0  0.0     0.0     0.0     \n",
       "9778  0.0  0.0      0.0     0.0    0.0   0.0   0.0  0.0     0.0     0.0     \n",
       "9779  0.0  0.0      0.0     0.0    0.0   0.0   0.0  0.0     0.0     0.0     \n",
       "\n",
       "      ...  zealot  zero  zimbabw  zionism  zionist  zip  zombi  zone  zoo  \\\n",
       "9775  ...  0.0     0.0   0.0      0.0      0.0      0.0  0.0    0.0   0.0   \n",
       "9776  ...  0.0     0.0   0.0      0.0      0.0      0.0  0.0    0.0   0.0   \n",
       "9777  ...  0.0     0.0   0.0      0.0      0.0      0.0  0.0    0.0   0.0   \n",
       "9778  ...  0.0     0.0   0.0      0.0      0.0      0.0  0.0    0.0   0.0   \n",
       "9779  ...  0.0     0.0   0.0      0.0      0.0      0.0  0.0    0.0   0.0   \n",
       "\n",
       "      zulu  \n",
       "9775  0.0   \n",
       "9776  0.0   \n",
       "9777  0.0   \n",
       "9778  0.0   \n",
       "9779  0.0   \n",
       "\n",
       "[5 rows x 6270 columns]"
      ]
     },
     "execution_count": 46,
     "metadata": {},
     "output_type": "execute_result"
    }
   ],
   "source": [
    "tfidf_vect = TfidfVectorizer(analyzer=tokenize_text) # passing the tokenization function to TF-IDF\n",
    "\n",
    "# creating the sparse matrix of texts using TF-IDF\n",
    "start_t = time.time()\n",
    "X_tfidf = tfidf_vect.fit_transform(data['text'])\n",
    "end_t = time.time()\n",
    "print('It took {} seconds to vectorize!'.format(round(end_t - start_t)))\n",
    "\n",
    "# converting the sparse matrix to a dataframe\n",
    "X_features = pd.DataFrame(X_tfidf.toarray())\n",
    "# updating column names with the corresponding features \n",
    "X_features.columns = tfidf_vect.get_feature_names()\n",
    "\n",
    "X_features.tail()"
   ]
  },
  {
   "cell_type": "code",
   "execution_count": 93,
   "metadata": {},
   "outputs": [],
   "source": [
    "# First, I stored the extracted features. but the size was too large(467 MB). \n",
    "#So, I decided to store the sparse matrix and column-names instead.\n",
    "\n",
    "#X_features.to_csv('Data/X_features_stormfront.csv', float_format='%.5f', index=False)"
   ]
  },
  {
   "cell_type": "code",
   "execution_count": 51,
   "metadata": {
    "ExecuteTime": {
     "end_time": "2021-04-15T17:12:49.553673Z",
     "start_time": "2021-04-15T17:12:49.531739Z"
    }
   },
   "outputs": [
    {
     "data": {
      "text/plain": [
       "(scipy.sparse.csr.csr_matrix, list)"
      ]
     },
     "execution_count": 51,
     "metadata": {},
     "output_type": "execute_result"
    }
   ],
   "source": [
    "type(X_tfidf), type(tfidf_vect.get_feature_names())"
   ]
  },
  {
   "cell_type": "code",
   "execution_count": 64,
   "metadata": {
    "ExecuteTime": {
     "end_time": "2021-04-15T17:24:35.154403Z",
     "start_time": "2021-04-15T17:24:34.881552Z"
    }
   },
   "outputs": [],
   "source": [
    "# storing column names\n",
    "pd.DataFrame(columns=tfidf_vect.get_feature_names()).to_csv('Data/features_column_names.csv')\n",
    "# or storing it as a text file\n",
    "#np.savetxt('Data/column_names.txt', tfidf_vect.get_feature_names(), delimiter=',', fmt='%s')"
   ]
  },
  {
   "cell_type": "code",
   "execution_count": 66,
   "metadata": {
    "ExecuteTime": {
     "end_time": "2021-04-15T17:26:34.384092Z",
     "start_time": "2021-04-15T17:26:34.271068Z"
    }
   },
   "outputs": [],
   "source": [
    "# storing the sparse matrix\n",
    "import scipy.sparse as ss\n",
    "\n",
    "ss.save_npz('Data/features_sparse_matrix.npz', X_tfidf)"
   ]
  },
  {
   "cell_type": "markdown",
   "metadata": {},
   "source": [
    "## feature selection"
   ]
  },
  {
   "cell_type": "code",
   "execution_count": 117,
   "metadata": {
    "ExecuteTime": {
     "end_time": "2021-04-15T18:10:19.738915Z",
     "start_time": "2021-04-15T18:10:19.725922Z"
    }
   },
   "outputs": [],
   "source": [
    "# uploading the feature selection function and method\n",
    "from sklearn.feature_selection import SelectKBest, chi2"
   ]
  },
  {
   "cell_type": "code",
   "execution_count": 118,
   "metadata": {
    "ExecuteTime": {
     "end_time": "2021-04-15T18:10:21.010956Z",
     "start_time": "2021-04-15T18:10:20.174818Z"
    }
   },
   "outputs": [],
   "source": [
    "X = X_features.copy()\n",
    "# creating a serie of labels (target)\n",
    "y = data['label']"
   ]
  },
  {
   "cell_type": "code",
   "execution_count": 119,
   "metadata": {
    "ExecuteTime": {
     "end_time": "2021-04-15T18:10:21.846087Z",
     "start_time": "2021-04-15T18:10:21.012955Z"
    }
   },
   "outputs": [
    {
     "data": {
      "text/plain": [
       "(9780, 3000)"
      ]
     },
     "execution_count": 119,
     "metadata": {},
     "output_type": "execute_result"
    }
   ],
   "source": [
    "# selecting 3000 of best features with chi-sqaure\n",
    "\n",
    "skb = SelectKBest(chi2, k=3000)\n",
    "skb.fit_transform(X, y)\n",
    "\n",
    "selected_col = [X.columns[i] for i in skb.get_support(indices=True)]\n",
    "X = X[selected_col]\n",
    "X.shape"
   ]
  },
  {
   "cell_type": "code",
   "execution_count": 120,
   "metadata": {
    "ExecuteTime": {
     "end_time": "2021-04-15T18:10:22.979601Z",
     "start_time": "2021-04-15T18:10:22.938712Z"
    }
   },
   "outputs": [
    {
     "data": {
      "text/html": [
       "<div>\n",
       "<style scoped>\n",
       "    .dataframe tbody tr th:only-of-type {\n",
       "        vertical-align: middle;\n",
       "    }\n",
       "\n",
       "    .dataframe tbody tr th {\n",
       "        vertical-align: top;\n",
       "    }\n",
       "\n",
       "    .dataframe thead th {\n",
       "        text-align: right;\n",
       "    }\n",
       "</style>\n",
       "<table border=\"1\" class=\"dataframe\">\n",
       "  <thead>\n",
       "    <tr style=\"text-align: right;\">\n",
       "      <th></th>\n",
       "      <th>abid</th>\n",
       "      <th>abil</th>\n",
       "      <th>abl</th>\n",
       "      <th>aboard</th>\n",
       "      <th>abomin</th>\n",
       "      <th>abort</th>\n",
       "      <th>absolut</th>\n",
       "      <th>absorb</th>\n",
       "      <th>absurd</th>\n",
       "      <th>abus</th>\n",
       "      <th>...</th>\n",
       "      <th>youv</th>\n",
       "      <th>yucki</th>\n",
       "      <th>z</th>\n",
       "      <th>zero</th>\n",
       "      <th>zimbabw</th>\n",
       "      <th>zionism</th>\n",
       "      <th>zionist</th>\n",
       "      <th>zombi</th>\n",
       "      <th>zoo</th>\n",
       "      <th>zulu</th>\n",
       "    </tr>\n",
       "  </thead>\n",
       "  <tbody>\n",
       "    <tr>\n",
       "      <th>0</th>\n",
       "      <td>0.0</td>\n",
       "      <td>0.0</td>\n",
       "      <td>0.0</td>\n",
       "      <td>0.0</td>\n",
       "      <td>0.0</td>\n",
       "      <td>0.0</td>\n",
       "      <td>0.0</td>\n",
       "      <td>0.0</td>\n",
       "      <td>0.0</td>\n",
       "      <td>0.0</td>\n",
       "      <td>...</td>\n",
       "      <td>0.0</td>\n",
       "      <td>0.0</td>\n",
       "      <td>0.0</td>\n",
       "      <td>0.0</td>\n",
       "      <td>0.0</td>\n",
       "      <td>0.0</td>\n",
       "      <td>0.0</td>\n",
       "      <td>0.0</td>\n",
       "      <td>0.0</td>\n",
       "      <td>0.0</td>\n",
       "    </tr>\n",
       "    <tr>\n",
       "      <th>1</th>\n",
       "      <td>0.0</td>\n",
       "      <td>0.0</td>\n",
       "      <td>0.0</td>\n",
       "      <td>0.0</td>\n",
       "      <td>0.0</td>\n",
       "      <td>0.0</td>\n",
       "      <td>0.0</td>\n",
       "      <td>0.0</td>\n",
       "      <td>0.0</td>\n",
       "      <td>0.0</td>\n",
       "      <td>...</td>\n",
       "      <td>0.0</td>\n",
       "      <td>0.0</td>\n",
       "      <td>0.0</td>\n",
       "      <td>0.0</td>\n",
       "      <td>0.0</td>\n",
       "      <td>0.0</td>\n",
       "      <td>0.0</td>\n",
       "      <td>0.0</td>\n",
       "      <td>0.0</td>\n",
       "      <td>0.0</td>\n",
       "    </tr>\n",
       "    <tr>\n",
       "      <th>2</th>\n",
       "      <td>0.0</td>\n",
       "      <td>0.0</td>\n",
       "      <td>0.0</td>\n",
       "      <td>0.0</td>\n",
       "      <td>0.0</td>\n",
       "      <td>0.0</td>\n",
       "      <td>0.0</td>\n",
       "      <td>0.0</td>\n",
       "      <td>0.0</td>\n",
       "      <td>0.0</td>\n",
       "      <td>...</td>\n",
       "      <td>0.0</td>\n",
       "      <td>0.0</td>\n",
       "      <td>0.0</td>\n",
       "      <td>0.0</td>\n",
       "      <td>0.0</td>\n",
       "      <td>0.0</td>\n",
       "      <td>0.0</td>\n",
       "      <td>0.0</td>\n",
       "      <td>0.0</td>\n",
       "      <td>0.0</td>\n",
       "    </tr>\n",
       "    <tr>\n",
       "      <th>3</th>\n",
       "      <td>0.0</td>\n",
       "      <td>0.0</td>\n",
       "      <td>0.0</td>\n",
       "      <td>0.0</td>\n",
       "      <td>0.0</td>\n",
       "      <td>0.0</td>\n",
       "      <td>0.0</td>\n",
       "      <td>0.0</td>\n",
       "      <td>0.0</td>\n",
       "      <td>0.0</td>\n",
       "      <td>...</td>\n",
       "      <td>0.0</td>\n",
       "      <td>0.0</td>\n",
       "      <td>0.0</td>\n",
       "      <td>0.0</td>\n",
       "      <td>0.0</td>\n",
       "      <td>0.0</td>\n",
       "      <td>0.0</td>\n",
       "      <td>0.0</td>\n",
       "      <td>0.0</td>\n",
       "      <td>0.0</td>\n",
       "    </tr>\n",
       "    <tr>\n",
       "      <th>4</th>\n",
       "      <td>0.0</td>\n",
       "      <td>0.0</td>\n",
       "      <td>0.0</td>\n",
       "      <td>0.0</td>\n",
       "      <td>0.0</td>\n",
       "      <td>0.0</td>\n",
       "      <td>0.0</td>\n",
       "      <td>0.0</td>\n",
       "      <td>0.0</td>\n",
       "      <td>0.0</td>\n",
       "      <td>...</td>\n",
       "      <td>0.0</td>\n",
       "      <td>0.0</td>\n",
       "      <td>0.0</td>\n",
       "      <td>0.0</td>\n",
       "      <td>0.0</td>\n",
       "      <td>0.0</td>\n",
       "      <td>0.0</td>\n",
       "      <td>0.0</td>\n",
       "      <td>0.0</td>\n",
       "      <td>0.0</td>\n",
       "    </tr>\n",
       "  </tbody>\n",
       "</table>\n",
       "<p>5 rows × 3000 columns</p>\n",
       "</div>"
      ],
      "text/plain": [
       "   abid  abil  abl  aboard  abomin  abort  absolut  absorb  absurd  abus  ...  \\\n",
       "0  0.0   0.0   0.0  0.0     0.0     0.0    0.0      0.0     0.0     0.0   ...   \n",
       "1  0.0   0.0   0.0  0.0     0.0     0.0    0.0      0.0     0.0     0.0   ...   \n",
       "2  0.0   0.0   0.0  0.0     0.0     0.0    0.0      0.0     0.0     0.0   ...   \n",
       "3  0.0   0.0   0.0  0.0     0.0     0.0    0.0      0.0     0.0     0.0   ...   \n",
       "4  0.0   0.0   0.0  0.0     0.0     0.0    0.0      0.0     0.0     0.0   ...   \n",
       "\n",
       "   youv  yucki    z  zero  zimbabw  zionism  zionist  zombi  zoo  zulu  \n",
       "0  0.0   0.0    0.0  0.0   0.0      0.0      0.0      0.0    0.0  0.0   \n",
       "1  0.0   0.0    0.0  0.0   0.0      0.0      0.0      0.0    0.0  0.0   \n",
       "2  0.0   0.0    0.0  0.0   0.0      0.0      0.0      0.0    0.0  0.0   \n",
       "3  0.0   0.0    0.0  0.0   0.0      0.0      0.0      0.0    0.0  0.0   \n",
       "4  0.0   0.0    0.0  0.0   0.0      0.0      0.0      0.0    0.0  0.0   \n",
       "\n",
       "[5 rows x 3000 columns]"
      ]
     },
     "execution_count": 120,
     "metadata": {},
     "output_type": "execute_result"
    }
   ],
   "source": [
    "# selected features\n",
    "X.head()"
   ]
  },
  {
   "cell_type": "markdown",
   "metadata": {},
   "source": [
    "## Training models\n",
    "I am using the whole dataset (train and test splits) for training and testing. I will use another dataset for validation in the future. I am use 10-fold cross-validation to build models. Since the dataset is not balanced, accuacy score can not be trusted to evaluate the result."
   ]
  },
  {
   "cell_type": "code",
   "execution_count": 122,
   "metadata": {
    "ExecuteTime": {
     "end_time": "2021-04-15T18:11:24.705644Z",
     "start_time": "2021-04-15T18:11:24.690685Z"
    }
   },
   "outputs": [],
   "source": [
    "from sklearn.ensemble import RandomForestClassifier\n",
    "from sklearn.model_selection import KFold, cross_val_predict\n",
    "from sklearn.metrics import precision_recall_fscore_support as scores\n",
    "from sklearn.metrics import confusion_matrix"
   ]
  },
  {
   "cell_type": "markdown",
   "metadata": {},
   "source": [
    "### 1. Random Forest"
   ]
  },
  {
   "cell_type": "code",
   "execution_count": 127,
   "metadata": {
    "ExecuteTime": {
     "end_time": "2021-04-15T18:56:12.557674Z",
     "start_time": "2021-04-15T18:56:12.537730Z"
    }
   },
   "outputs": [],
   "source": [
    "def train_RF(n_est, depth):\n",
    "    rf = RandomForestClassifier(n_estimators=n_est, max_depth=depth, n_jobs=-1)\n",
    "    k_fold = KFold(n_splits=10)\n",
    "    y_pred = cross_val_predict(rf, X, y, cv=k_fold)\n",
    "    \n",
    "    print('~~~ number of trees: {} , depth: {} ~~~'.format(n_est, depth))\n",
    "    print('Confusion Matrix:\\n', confusion_matrix(y, y_pred))\n",
    "    \n",
    "    precision, recall, fscore, support = scores(y, y_pred, pos_label=1, average='binary')\n",
    "    accuracy = np.mean(y == y_pred)\n",
    "    fscore = 2*recall*precision/(recall+precision)\n",
    "    \n",
    "    print('Precision: {} \\t Recall: {} \\t Accuracy: {} \\t F-Score: {}\\n'.format(\n",
    "        round(precision,4), round(recall,4), round(accuracy,4), round(fscore,4)))"
   ]
  },
  {
   "cell_type": "code",
   "execution_count": 128,
   "metadata": {
    "ExecuteTime": {
     "end_time": "2021-04-15T20:37:04.538038Z",
     "start_time": "2021-04-15T18:56:13.475107Z"
    }
   },
   "outputs": [
    {
     "name": "stdout",
     "output_type": "stream",
     "text": [
      "~~~ number of trees: 100 , depth: 30 ~~~\n",
      "Confusion Matrix:\n",
      " [[8605    0]\n",
      " [1174    1]]\n",
      "Precision: 1.0 \t Recall: 0.0009 \t Accuracy: 0.88 \t F-Score: 0.0017\n",
      "\n",
      "~~~ number of trees: 100 , depth: 60 ~~~\n",
      "Confusion Matrix:\n",
      " [[8594   11]\n",
      " [1138   37]]\n",
      "Precision: 0.7708 \t Recall: 0.0315 \t Accuracy: 0.8825 \t F-Score: 0.0605\n",
      "\n",
      "~~~ number of trees: 100 , depth: 90 ~~~\n",
      "Confusion Matrix:\n",
      " [[8583   22]\n",
      " [1113   62]]\n",
      "Precision: 0.7381 \t Recall: 0.0528 \t Accuracy: 0.8839 \t F-Score: 0.0985\n",
      "\n",
      "~~~ number of trees: 100 , depth: None ~~~\n",
      "Confusion Matrix:\n",
      " [[8515   90]\n",
      " [1069  106]]\n",
      "Precision: 0.5408 \t Recall: 0.0902 \t Accuracy: 0.8815 \t F-Score: 0.1546\n",
      "\n",
      "~~~ number of trees: 150 , depth: 30 ~~~\n",
      "Confusion Matrix:\n",
      " [[8605    0]\n",
      " [1171    4]]\n",
      "Precision: 1.0 \t Recall: 0.0034 \t Accuracy: 0.8803 \t F-Score: 0.0068\n",
      "\n",
      "~~~ number of trees: 150 , depth: 60 ~~~\n",
      "Confusion Matrix:\n",
      " [[8592   13]\n",
      " [1137   38]]\n",
      "Precision: 0.7451 \t Recall: 0.0323 \t Accuracy: 0.8824 \t F-Score: 0.062\n",
      "\n",
      "~~~ number of trees: 150 , depth: 90 ~~~\n",
      "Confusion Matrix:\n",
      " [[8582   23]\n",
      " [1116   59]]\n",
      "Precision: 0.7195 \t Recall: 0.0502 \t Accuracy: 0.8835 \t F-Score: 0.0939\n",
      "\n",
      "~~~ number of trees: 150 , depth: None ~~~\n",
      "Confusion Matrix:\n",
      " [[8517   88]\n",
      " [1070  105]]\n",
      "Precision: 0.544 \t Recall: 0.0894 \t Accuracy: 0.8816 \t F-Score: 0.1535\n",
      "\n",
      "~~~ number of trees: 300 , depth: 30 ~~~\n",
      "Confusion Matrix:\n",
      " [[8605    0]\n",
      " [1170    5]]\n",
      "Precision: 1.0 \t Recall: 0.0043 \t Accuracy: 0.8804 \t F-Score: 0.0085\n",
      "\n",
      "~~~ number of trees: 300 , depth: 60 ~~~\n",
      "Confusion Matrix:\n",
      " [[8596    9]\n",
      " [1138   37]]\n",
      "Precision: 0.8043 \t Recall: 0.0315 \t Accuracy: 0.8827 \t F-Score: 0.0606\n",
      "\n",
      "~~~ number of trees: 300 , depth: 90 ~~~\n",
      "Confusion Matrix:\n",
      " [[8583   22]\n",
      " [1115   60]]\n",
      "Precision: 0.7317 \t Recall: 0.0511 \t Accuracy: 0.8837 \t F-Score: 0.0955\n",
      "\n",
      "~~~ number of trees: 300 , depth: None ~~~\n",
      "Confusion Matrix:\n",
      " [[8516   89]\n",
      " [1071  104]]\n",
      "Precision: 0.5389 \t Recall: 0.0885 \t Accuracy: 0.8814 \t F-Score: 0.152\n",
      "\n"
     ]
    }
   ],
   "source": [
    "# building random forest models with different values for hyper parameters\n",
    "for n_est in [100, 150, 300]:\n",
    "    for depth in [30, 60, 90, None]:\n",
    "        train_RF(n_est, depth)"
   ]
  },
  {
   "cell_type": "markdown",
   "metadata": {},
   "source": [
    "### 2. Gradient Boosting"
   ]
  },
  {
   "cell_type": "code",
   "execution_count": 132,
   "metadata": {
    "ExecuteTime": {
     "end_time": "2021-04-15T20:46:02.348338Z",
     "start_time": "2021-04-15T20:46:02.334377Z"
    }
   },
   "outputs": [],
   "source": [
    "from sklearn.ensemble import GradientBoostingClassifier"
   ]
  },
  {
   "cell_type": "code",
   "execution_count": 133,
   "metadata": {
    "ExecuteTime": {
     "end_time": "2021-04-15T20:46:03.623639Z",
     "start_time": "2021-04-15T20:46:03.603658Z"
    }
   },
   "outputs": [],
   "source": [
    "def train_GB(est, depth, lr=.1):\n",
    "    gb = GradientBoostingClassifier(n_estimators=est, max_depth=depth, learning_rate=lr)\n",
    "    k_fold = KFold(n_splits=10)\n",
    "    y_pred = cross_val_predict(gb, X, y, cv=k_fold)\n",
    "    \n",
    "    print('~~~ number of trees: {} , depth: {} ~~~'.format(est, depth))\n",
    "    print('Confusion Matrix:\\n', confusion_matrix(y, y_pred))\n",
    "    \n",
    "    precision, recall, fscore, support = scores(y, y_pred, pos_label=1, average='binary')\n",
    "    accuracy = np.mean(y == y_pred)\n",
    "    fscore = 2*recall*precision/(recall+precision)\n",
    "    \n",
    "    print('Precision: {} \\t Recall: {} \\t Accuracy: {} \\t F-Score: {}\\n'.format(\n",
    "        round(precision,4), round(recall,4), round(accuracy,4), round(fscore,4)))"
   ]
  },
  {
   "cell_type": "code",
   "execution_count": 135,
   "metadata": {
    "ExecuteTime": {
     "end_time": "2021-04-15T21:34:44.259619Z",
     "start_time": "2021-04-15T20:46:14.382483Z"
    }
   },
   "outputs": [
    {
     "name": "stdout",
     "output_type": "stream",
     "text": [
      "~~~ number of trees: 300 , depth: 7 ~~~\n",
      "Confusion Matrix:\n",
      " [[8487  118]\n",
      " [1001  174]]\n",
      "Precision: 0.5959 \t Recall: 0.1481 \t Accuracy: 0.8856 \t F-Score: 0.2372\n",
      "\n"
     ]
    }
   ],
   "source": [
    "train_GB(150, 7)"
   ]
  },
  {
   "cell_type": "markdown",
   "metadata": {},
   "source": [
    "### 3. Suport Vector Machine (SVM)"
   ]
  },
  {
   "cell_type": "code",
   "execution_count": 136,
   "metadata": {
    "ExecuteTime": {
     "end_time": "2021-04-15T21:34:44.275579Z",
     "start_time": "2021-04-15T21:34:44.265605Z"
    }
   },
   "outputs": [],
   "source": [
    "from sklearn.svm import SVC"
   ]
  },
  {
   "cell_type": "code",
   "execution_count": 139,
   "metadata": {
    "ExecuteTime": {
     "end_time": "2021-04-15T21:45:27.665490Z",
     "start_time": "2021-04-15T21:45:27.648540Z"
    }
   },
   "outputs": [],
   "source": [
    "def train_svm(c=1.0, k='linear', gm='auto'):\n",
    "    svm = SVC(C=1.0, kernel='linear', degree=3, gamma='auto')\n",
    "    k_fold = KFold(n_splits=10)\n",
    "    y_pred = cross_val_predict(svm, X, y, cv=k_fold)\n",
    "    \n",
    "    print('~~~ C: {} , kernel: {} , gamma: {} ~~~'.format(c, k, gm))\n",
    "    print('Confusion Matrix:\\n', confusion_matrix(y, y_pred))\n",
    "    \n",
    "    precision, recall, fscore, support = scores(y, y_pred, pos_label=1, average='binary')\n",
    "    accuracy = np.mean(y == y_pred)\n",
    "    fscore = 2*recall*precision/(recall+precision)\n",
    "    \n",
    "    print('Precision: {} \\t Recall: {} \\t Accuracy: {} \\t F-Score: {}\\n'.format(\n",
    "        round(precision,4), round(recall,4), round(accuracy,4), round(fscore,4)))"
   ]
  },
  {
   "cell_type": "code",
   "execution_count": 140,
   "metadata": {
    "ExecuteTime": {
     "end_time": "2021-04-15T22:26:11.236574Z",
     "start_time": "2021-04-15T21:45:30.177395Z"
    }
   },
   "outputs": [
    {
     "name": "stdout",
     "output_type": "stream",
     "text": [
      "~~~ C: 1.0 , kernel: linear , gamma: auto ~~~\n",
      "Confusion Matrix:\n",
      " [[8580   25]\n",
      " [1093   82]]\n",
      "Precision: 0.7664 \t Recall: 0.0698 \t Accuracy: 0.8857 \t F-Score: 0.1279\n",
      "\n"
     ]
    }
   ],
   "source": [
    "train_svm()"
   ]
  },
  {
   "cell_type": "markdown",
   "metadata": {},
   "source": [
    "### 4. Multonomial Naive Bayes"
   ]
  },
  {
   "cell_type": "code",
   "execution_count": 141,
   "metadata": {
    "ExecuteTime": {
     "end_time": "2021-04-15T22:26:11.299406Z",
     "start_time": "2021-04-15T22:26:11.245553Z"
    }
   },
   "outputs": [],
   "source": [
    "from sklearn.naive_bayes import MultinomialNB"
   ]
  },
  {
   "cell_type": "code",
   "execution_count": 142,
   "metadata": {
    "ExecuteTime": {
     "end_time": "2021-04-15T22:26:11.347279Z",
     "start_time": "2021-04-15T22:26:11.308383Z"
    }
   },
   "outputs": [],
   "source": [
    "def train_mnb():\n",
    "    mnb = MultinomialNB()\n",
    "    k_fold = KFold(n_splits=10)\n",
    "    y_pred = cross_val_predict(mnb, X, y, cv=k_fold)\n",
    "    \n",
    "    print('Navie Bayes result:')\n",
    "    print('Confusion Matrix:\\n', confusion_matrix(y, y_pred))\n",
    "    \n",
    "    precision, recall, fscore, support = scores(y, y_pred, pos_label=1, average='binary')\n",
    "    accuracy = np.mean(y == y_pred)\n",
    "    fscore = 2*recall*precision/(recall+precision)\n",
    "    \n",
    "    print('Precision: {} \\t Recall: {} \\t Accuracy: {} \\t F-Score: {}\\n'.format(\n",
    "        round(precision,4), round(recall,4), round(accuracy,4), round(fscore,4)))"
   ]
  },
  {
   "cell_type": "code",
   "execution_count": 143,
   "metadata": {
    "ExecuteTime": {
     "end_time": "2021-04-15T22:26:18.006479Z",
     "start_time": "2021-04-15T22:26:11.354260Z"
    }
   },
   "outputs": [
    {
     "name": "stdout",
     "output_type": "stream",
     "text": [
      "Navie Bayes result:\n",
      "Confusion Matrix:\n",
      " [[8602    3]\n",
      " [1158   17]]\n",
      "Precision: 0.85 \t Recall: 0.0145 \t Accuracy: 0.8813 \t F-Score: 0.0285\n",
      "\n"
     ]
    }
   ],
   "source": [
    "train_mnb()"
   ]
  },
  {
   "cell_type": "markdown",
   "metadata": {
    "ExecuteTime": {
     "end_time": "2021-04-15T20:37:07.115150Z",
     "start_time": "2021-04-15T20:37:07.075257Z"
    }
   },
   "source": [
    "## Improvement plan:\n",
    "I will: \n",
    "- evaluate the lenght of sentences (number of words) after cleaning the texts. Some texts may shortened too much that just make noise and may need to be removed from dataset\n",
    "- try n-grams for n=1,2,3 for tokenization step\n",
    "- tuning all models by changing the hyperparameters values"
   ]
  },
  {
   "cell_type": "code",
   "execution_count": null,
   "metadata": {},
   "outputs": [],
   "source": []
  }
 ],
 "metadata": {
  "kernelspec": {
   "display_name": "Python 3",
   "language": "python",
   "name": "python3"
  },
  "language_info": {
   "codemirror_mode": {
    "name": "ipython",
    "version": 3
   },
   "file_extension": ".py",
   "mimetype": "text/x-python",
   "name": "python",
   "nbconvert_exporter": "python",
   "pygments_lexer": "ipython3",
   "version": "3.7.9"
  }
 },
 "nbformat": 4,
 "nbformat_minor": 4
}
